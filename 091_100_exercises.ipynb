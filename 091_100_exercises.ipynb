{
  "nbformat": 4,
  "nbformat_minor": 0,
  "metadata": {
    "colab": {
      "provenance": [],
      "include_colab_link": true
    },
    "kernelspec": {
      "name": "python3",
      "display_name": "Python 3"
    }
  },
  "cells": [
    {
      "cell_type": "markdown",
      "metadata": {
        "id": "view-in-github",
        "colab_type": "text"
      },
      "source": [
        "<a href=\"https://colab.research.google.com/github/ZoanHy/250plus---Exercises-DS-Bootcamp-in-Python/blob/main/091_100_exercises.ipynb\" target=\"_parent\"><img src=\"https://colab.research.google.com/assets/colab-badge.svg\" alt=\"Open In Colab\"/></a>"
      ]
    },
    {
      "cell_type": "markdown",
      "metadata": {
        "id": "WLEgCW5F1hho"
      },
      "source": [
        "## Numpy\n",
        "\n",
        "### Table of contents:\n",
        "* [Import biblioteki](#0)\n",
        "* [Exercise 91](#1)\n",
        "* [Exercise 92](#2)\n",
        "* [Exercise 93](#3)\n",
        "* [Exercise 94](#4)\n",
        "* [Exercise 95](#5)\n",
        "* [Exercise 96](#6)\n",
        "* [Exercise 97](#7)\n",
        "* [Exercise 98](#8)\n",
        "* [Exercise 99](#9)\n",
        "* [Exercise 100](#10)"
      ]
    },
    {
      "cell_type": "markdown",
      "metadata": {
        "id": "zeLOLmTj1kBM"
      },
      "source": [
        "### <a name='0'></a> Import of libraries"
      ]
    },
    {
      "cell_type": "code",
      "metadata": {
        "id": "HXMB7SMe1Wnz",
        "outputId": "48401941-0491-43db-f83a-8ee070bb825f",
        "colab": {
          "base_uri": "https://localhost:8080/",
          "height": 35
        }
      },
      "source": [
        "import numpy as np\n",
        "\n",
        "np.set_printoptions(linewidth=160, suppress=True)\n",
        "np.__version__"
      ],
      "execution_count": 71,
      "outputs": [
        {
          "output_type": "execute_result",
          "data": {
            "text/plain": [
              "'1.22.4'"
            ],
            "application/vnd.google.colaboratory.intrinsic+json": {
              "type": "string"
            }
          },
          "metadata": {},
          "execution_count": 71
        }
      ]
    },
    {
      "cell_type": "markdown",
      "metadata": {
        "id": "cyc70pMe1oCg"
      },
      "source": [
        "### <a name='1'></a> Exercise 91\n",
        "The following string _wig_games_raw_ is provided containing data on the WIG.GAMES sector index:\n",
        "\n",
        "```\n",
        "wig_games_raw = \"\"\"Profile\tTime\tCourse\tChange\tChange%\tRef.\tOpen\tLow\tHigh\tVolume\tTurn\tShare\n",
        "11B (11BIT)\t17 kwi 17:01\t391.00\t+8.00\t(+2.09%)\t383.00\t383.50\t383.00\t394.00\t12 784\t4 994 874\t19.034%\n",
        "CDR (CDPROJEKT)\t17 kwi 17:01\t339.50\t+5.30\t(+1.59%)\t334.20\t338.30\t337.00\t344.20\t233 059\t79 245 368\t39.618%\n",
        "CIG (CIGAMES)\t17 kwi 17:03\t0.742\t-0.012\t(-1.59%)\t0.754\t0.772\t0.730\t0.772\t1 311 078\t971 459\t1.855%\n",
        "PLW (PLAYWAY)\t17 kwi 17:03\t387.50\t+18.00\t(+4.87%)\t369.50\t374.00\t373.00\t388.00\t33 206\t12 661 786\t10.638%\n",
        "TEN (TSGAMES)\t17 kwi 17:02\t349.50\t+22.50\t(+6.88%)\t327.00\t332.00\t330.00\t353.50\t39 793\t13 697 060\t28.855%\"\"\"\n",
        "```\n",
        "Build a numpy array from this data and name it _wig_games_.\n",
        "\n",
        "__Expected result:__\n",
        "```\n",
        "array([['Profil', 'Czas', 'Kurs', 'Zmiana', 'Zmiana%', 'Odn.', 'Otw.', 'Min.', 'Max.', 'Wolumen', 'Obrót', 'Udział'],\n",
        "       ['11B(11BIT)', '17kwi17:01', '391.00', '+8.00', '(+2.09%)', '383.00', '383.50', '383.00', '394.00', '12784', '4994874', '19.034%'],\n",
        "       ['CDR(CDPROJEKT)', '17kwi17:01', '339.50', '+5.30', '(+1.59%)', '334.20', '338.30', '337.00', '344.20', '233059', '79245368', '39.618%'],\n",
        "       ['CIG(CIGAMES)', '17kwi17:03', '0.742', '-0.012', '(-1.59%)', '0.754', '0.772', '0.730', '0.772', '1311078', '971459', '1.855%'],\n",
        "       ['PLW(PLAYWAY)', '17kwi17:03', '387.50', '+18.00', '(+4.87%)', '369.50', '374.00', '373.00', '388.00', '33206', '12661786', '10.638%'],\n",
        "       ['TEN(TSGAMES)', '17kwi17:02', '349.50', '+22.50', '(+6.88%)', '327.00', '332.00', '330.00', '353.50', '39793', '13697060', '28.855%']], dtype='<U14')\n",
        "```\n"
      ]
    },
    {
      "cell_type": "code",
      "metadata": {
        "id": "bcd5Ic9lE0j8",
        "outputId": "a5fb3343-d18b-49e0-99e3-836a78510419",
        "colab": {
          "base_uri": "https://localhost:8080/"
        }
      },
      "source": [
        "wig_games_raw = \"\"\"Profile\tTime\tCourse\tChange\tChange%\tRef.\tOpen\tLow\tHigh\tVolume\tTurn\tShare\n",
        "11B (11BIT)\t17 kwi 17:01\t391.00\t+8.00\t(+2.09%)\t383.00\t383.50\t383.00\t394.00\t12 784\t4 994 874\t19.034%\n",
        "CDR (CDPROJEKT)\t17 kwi 17:01\t339.50\t+5.30\t(+1.59%)\t334.20\t338.30\t337.00\t344.20\t233 059\t79 245 368\t39.618%\n",
        "CIG (CIGAMES)\t17 kwi 17:03\t0.742\t-0.012\t(-1.59%)\t0.754\t0.772\t0.730\t0.772\t1 311 078\t971 459\t1.855%\n",
        "PLW (PLAYWAY)\t17 kwi 17:03\t387.50\t+18.00\t(+4.87%)\t369.50\t374.00\t373.00\t388.00\t33 206\t12 661 786\t10.638%\n",
        "TEN (TSGAMES)\t17 kwi 17:02\t349.50\t+22.50\t(+6.88%)\t327.00\t332.00\t330.00\t353.50\t39 793\t13 697 060\t28.855%\"\"\"\n",
        "\n",
        "# enter solution here\n",
        "\n",
        "lines = wig_games_raw.splitlines()\n",
        "\n",
        "wig_games_list = [value.split('\\t') for value in lines]\n",
        "\n",
        "wig_games = np.array(wig_games_list, dtype='str')\n",
        "\n",
        "wig_games = np.char.replace(wig_games, ' ', '')\n",
        "\n",
        "wig_games"
      ],
      "execution_count": 72,
      "outputs": [
        {
          "output_type": "execute_result",
          "data": {
            "text/plain": [
              "array([['Profile', 'Time', 'Course', 'Change', 'Change%', 'Ref.', 'Open', 'Low', 'High', 'Volume', 'Turn', 'Share'],\n",
              "       ['11B(11BIT)', '17kwi17:01', '391.00', '+8.00', '(+2.09%)', '383.00', '383.50', '383.00', '394.00', '12784', '4994874', '19.034%'],\n",
              "       ['CDR(CDPROJEKT)', '17kwi17:01', '339.50', '+5.30', '(+1.59%)', '334.20', '338.30', '337.00', '344.20', '233059', '79245368', '39.618%'],\n",
              "       ['CIG(CIGAMES)', '17kwi17:03', '0.742', '-0.012', '(-1.59%)', '0.754', '0.772', '0.730', '0.772', '1311078', '971459', '1.855%'],\n",
              "       ['PLW(PLAYWAY)', '17kwi17:03', '387.50', '+18.00', '(+4.87%)', '369.50', '374.00', '373.00', '388.00', '33206', '12661786', '10.638%'],\n",
              "       ['TEN(TSGAMES)', '17kwi17:02', '349.50', '+22.50', '(+6.88%)', '327.00', '332.00', '330.00', '353.50', '39793', '13697060', '28.855%']], dtype='<U14')"
            ]
          },
          "metadata": {},
          "execution_count": 72
        }
      ]
    },
    {
      "cell_type": "markdown",
      "metadata": {
        "id": "J9pY1rtr1sC0"
      },
      "source": [
        "### <a name='2'></a> Exercise 92\n",
        "Remove the columns from the _wig_games_ array from the previous exercise:\n",
        "* Change\n",
        "* Change%\n",
        "* Ref.\n",
        "* Volume\n",
        "\n",
        "__Expected result:__\n",
        "```\n",
        "array([['Profile', 'Time', 'Course', 'Open', 'Low', 'High', 'Turn', 'Share'],\n",
        "       ['11B(11BIT)', '17kwi17:01', '391.00', '383.50', '383.00', '394.00', '4994874', '19.034%'],\n",
        "       ['CDR(CDPROJEKT)', '17kwi17:01', '339.50', '338.30', '337.00', '344.20', '79245368', '39.618%'],\n",
        "       ['CIG(CIGAMES)', '17kwi17:03', '0.742', '0.772', '0.730', '0.772', '971459', '1.855%'],\n",
        "       ['PLW(PLAYWAY)', '17kwi17:03', '387.50', '374.00', '373.00', '388.00', '12661786', '10.638%'],\n",
        "       ['TEN(TSGAMES)', '17kwi17:02', '349.50', '332.00', '330.00', '353.50', '13697060', '28.855%']], dtype='<U14')\n",
        "```\n"
      ]
    },
    {
      "cell_type": "code",
      "metadata": {
        "id": "YdcOOs0IFqjY",
        "outputId": "52f381fa-4756-41dc-cf08-a93e246e6105",
        "colab": {
          "base_uri": "https://localhost:8080/"
        }
      },
      "source": [
        "# enter solution here\n",
        "\n",
        "index = np.where(np.in1d(wig_games[0, :], np.array(['Change', 'Change%', 'Ref.', 'Volume'])))[0]\n",
        "\n",
        "wig_games = np.delete(wig_games, index, axis=1)\n",
        "wig_games"
      ],
      "execution_count": 73,
      "outputs": [
        {
          "output_type": "execute_result",
          "data": {
            "text/plain": [
              "array([['Profile', 'Time', 'Course', 'Open', 'Low', 'High', 'Turn', 'Share'],\n",
              "       ['11B(11BIT)', '17kwi17:01', '391.00', '383.50', '383.00', '394.00', '4994874', '19.034%'],\n",
              "       ['CDR(CDPROJEKT)', '17kwi17:01', '339.50', '338.30', '337.00', '344.20', '79245368', '39.618%'],\n",
              "       ['CIG(CIGAMES)', '17kwi17:03', '0.742', '0.772', '0.730', '0.772', '971459', '1.855%'],\n",
              "       ['PLW(PLAYWAY)', '17kwi17:03', '387.50', '374.00', '373.00', '388.00', '12661786', '10.638%'],\n",
              "       ['TEN(TSGAMES)', '17kwi17:02', '349.50', '332.00', '330.00', '353.50', '13697060', '28.855%']], dtype='<U14')"
            ]
          },
          "metadata": {},
          "execution_count": 73
        }
      ]
    },
    {
      "cell_type": "code",
      "source": [
        "wig_games.dtype"
      ],
      "metadata": {
        "id": "QD5J3GodnE91",
        "outputId": "eb4faa7c-b117-452f-9514-27ff105b53ac",
        "colab": {
          "base_uri": "https://localhost:8080/"
        }
      },
      "execution_count": 74,
      "outputs": [
        {
          "output_type": "execute_result",
          "data": {
            "text/plain": [
              "dtype('<U14')"
            ]
          },
          "metadata": {},
          "execution_count": 74
        }
      ]
    },
    {
      "cell_type": "markdown",
      "metadata": {
        "id": "XQLYT2m11wVG"
      },
      "source": [
        "### <a name='3'></a> Exercise 93\n",
        "Save the array _wig_games_ from the previous exercise to the _wig_games.csv_ file."
      ]
    },
    {
      "cell_type": "code",
      "metadata": {
        "id": "beoC0ClPF7E_"
      },
      "source": [
        "# enter solution here\n",
        "\n",
        "np.savetxt('wig_games.csv', wig_games, fmt='%s', delimiter=',')\n"
      ],
      "execution_count": 75,
      "outputs": []
    },
    {
      "cell_type": "markdown",
      "metadata": {
        "id": "AjylI6QcF_D2"
      },
      "source": [
        "Run the cell below to check."
      ]
    },
    {
      "cell_type": "code",
      "metadata": {
        "id": "w62wvOXbF80M",
        "outputId": "f76c6262-d86a-4b45-c7ec-fa0839763d13",
        "colab": {
          "base_uri": "https://localhost:8080/"
        }
      },
      "source": [
        "!head wig_games.csv"
      ],
      "execution_count": 76,
      "outputs": [
        {
          "output_type": "stream",
          "name": "stdout",
          "text": [
            "Profile,Time,Course,Open,Low,High,Turn,Share\n",
            "11B(11BIT),17kwi17:01,391.00,383.50,383.00,394.00,4994874,19.034%\n",
            "CDR(CDPROJEKT),17kwi17:01,339.50,338.30,337.00,344.20,79245368,39.618%\n",
            "CIG(CIGAMES),17kwi17:03,0.742,0.772,0.730,0.772,971459,1.855%\n",
            "PLW(PLAYWAY),17kwi17:03,387.50,374.00,373.00,388.00,12661786,10.638%\n",
            "TEN(TSGAMES),17kwi17:02,349.50,332.00,330.00,353.50,13697060,28.855%\n"
          ]
        }
      ]
    },
    {
      "cell_type": "markdown",
      "metadata": {
        "id": "4xTKSUzg10MK"
      },
      "source": [
        "### <a name='4'></a> Exercise 94\n",
        "Load the contents of the _wig_games.csv_ file into the _wig_games_new_ variable."
      ]
    },
    {
      "cell_type": "code",
      "metadata": {
        "id": "-UetoQXFGFkN",
        "outputId": "8f9792d6-bc29-4965-ba85-bf2ed6e3383e",
        "colab": {
          "base_uri": "https://localhost:8080/"
        }
      },
      "source": [
        "# enter solution here\n",
        "\n",
        "wig_games_new = np.loadtxt('wig_games.csv', delimiter=',', dtype='str')\n",
        "\n",
        "wig_games_new"
      ],
      "execution_count": 77,
      "outputs": [
        {
          "output_type": "execute_result",
          "data": {
            "text/plain": [
              "array([['Profile', 'Time', 'Course', 'Open', 'Low', 'High', 'Turn', 'Share'],\n",
              "       ['11B(11BIT)', '17kwi17:01', '391.00', '383.50', '383.00', '394.00', '4994874', '19.034%'],\n",
              "       ['CDR(CDPROJEKT)', '17kwi17:01', '339.50', '338.30', '337.00', '344.20', '79245368', '39.618%'],\n",
              "       ['CIG(CIGAMES)', '17kwi17:03', '0.742', '0.772', '0.730', '0.772', '971459', '1.855%'],\n",
              "       ['PLW(PLAYWAY)', '17kwi17:03', '387.50', '374.00', '373.00', '388.00', '12661786', '10.638%'],\n",
              "       ['TEN(TSGAMES)', '17kwi17:02', '349.50', '332.00', '330.00', '353.50', '13697060', '28.855%']], dtype='<U14')"
            ]
          },
          "metadata": {},
          "execution_count": 77
        }
      ]
    },
    {
      "cell_type": "markdown",
      "metadata": {
        "id": "o3HKIKlP15Ro"
      },
      "source": [
        "### <a name='5'></a> Exercise 95\n",
        "The following string _playway_raw_ is provided containing Playway's March 2020 listings:\n",
        "\n",
        "```\n",
        "playway_raw = \"\"\"Date,Open,High,Low,Close,Volume\n",
        "2020-03-02,305,324.5,283.5,310,64081\n",
        "2020-03-03,325.5,340.5,320,340.5,55496\n",
        "2020-03-04,324,340.5,315,330,36152\n",
        "2020-03-05,344,344,310,315,35992\n",
        "2020-03-06,306.5,307,291,305,32539\n",
        "2020-03-09,274,291,250,258,79402\n",
        "2020-03-10,278,284.5,256,264,35700\n",
        "2020-03-11,270,270,238.5,245,60445\n",
        "2020-03-12,218,228,196,197,94031\n",
        "2020-03-13,210,229,198.8,211,100412\n",
        "2020-03-16,205,248,197.8,240.5,50659\n",
        "2020-03-17,245,269,232.5,264,99480\n",
        "2020-03-18,264,280,251,270,70136\n",
        "2020-03-19,267,280,267,279.5,30732\n",
        "2020-03-20,297.5,307,280,280.5,43426\n",
        "2020-03-23,274,289,258,285,37098\n",
        "2020-03-24,305,309,296.5,309,31939\n",
        "2020-03-25,313,330,295,304,46724\n",
        "2020-03-26,300,309,295.5,300,27213\n",
        "2020-03-27,302,306.5,290,296,13466\n",
        "2020-03-30,299,300,287,300,10316\n",
        "2020-03-31,302.5,309,302,306.5,15698\"\"\"\n",
        "```\n",
        "\n",
        "Create an array named _playway_ and assign the following data to it."
      ]
    },
    {
      "cell_type": "code",
      "metadata": {
        "id": "5FvKC4GsGXBd",
        "outputId": "73fcecb2-bbf0-474b-d56b-29456044e857",
        "colab": {
          "base_uri": "https://localhost:8080/"
        }
      },
      "source": [
        "playway_raw = \"\"\"Date,Open,High,Low,Close,Volume\n",
        "2020-03-02,305,324.5,283.5,310,64081\n",
        "2020-03-03,325.5,340.5,320,340.5,55496\n",
        "2020-03-04,324,340.5,315,330,36152\n",
        "2020-03-05,344,344,310,315,35992\n",
        "2020-03-06,306.5,307,291,305,32539\n",
        "2020-03-09,274,291,250,258,79402\n",
        "2020-03-10,278,284.5,256,264,35700\n",
        "2020-03-11,270,270,238.5,245,60445\n",
        "2020-03-12,218,228,196,197,94031\n",
        "2020-03-13,210,229,198.8,211,100412\n",
        "2020-03-16,205,248,197.8,240.5,50659\n",
        "2020-03-17,245,269,232.5,264,99480\n",
        "2020-03-18,264,280,251,270,70136\n",
        "2020-03-19,267,280,267,279.5,30732\n",
        "2020-03-20,297.5,307,280,280.5,43426\n",
        "2020-03-23,274,289,258,285,37098\n",
        "2020-03-24,305,309,296.5,309,31939\n",
        "2020-03-25,313,330,295,304,46724\n",
        "2020-03-26,300,309,295.5,300,27213\n",
        "2020-03-27,302,306.5,290,296,13466\n",
        "2020-03-30,299,300,287,300,10316\n",
        "2020-03-31,302.5,309,302,306.5,15698\"\"\"\n",
        "\n",
        "# enter solution here\n",
        "\n",
        "lines = playway_raw.splitlines()\n",
        "\n",
        "playway_list = [value.split(',') for value in lines]\n",
        "\n",
        "playway = np.array(playway_list, dtype='str')\n",
        "\n",
        "playway"
      ],
      "execution_count": 78,
      "outputs": [
        {
          "output_type": "execute_result",
          "data": {
            "text/plain": [
              "array([['Date', 'Open', 'High', 'Low', 'Close', 'Volume'],\n",
              "       ['2020-03-02', '305', '324.5', '283.5', '310', '64081'],\n",
              "       ['2020-03-03', '325.5', '340.5', '320', '340.5', '55496'],\n",
              "       ['2020-03-04', '324', '340.5', '315', '330', '36152'],\n",
              "       ['2020-03-05', '344', '344', '310', '315', '35992'],\n",
              "       ['2020-03-06', '306.5', '307', '291', '305', '32539'],\n",
              "       ['2020-03-09', '274', '291', '250', '258', '79402'],\n",
              "       ['2020-03-10', '278', '284.5', '256', '264', '35700'],\n",
              "       ['2020-03-11', '270', '270', '238.5', '245', '60445'],\n",
              "       ['2020-03-12', '218', '228', '196', '197', '94031'],\n",
              "       ['2020-03-13', '210', '229', '198.8', '211', '100412'],\n",
              "       ['2020-03-16', '205', '248', '197.8', '240.5', '50659'],\n",
              "       ['2020-03-17', '245', '269', '232.5', '264', '99480'],\n",
              "       ['2020-03-18', '264', '280', '251', '270', '70136'],\n",
              "       ['2020-03-19', '267', '280', '267', '279.5', '30732'],\n",
              "       ['2020-03-20', '297.5', '307', '280', '280.5', '43426'],\n",
              "       ['2020-03-23', '274', '289', '258', '285', '37098'],\n",
              "       ['2020-03-24', '305', '309', '296.5', '309', '31939'],\n",
              "       ['2020-03-25', '313', '330', '295', '304', '46724'],\n",
              "       ['2020-03-26', '300', '309', '295.5', '300', '27213'],\n",
              "       ['2020-03-27', '302', '306.5', '290', '296', '13466'],\n",
              "       ['2020-03-30', '299', '300', '287', '300', '10316'],\n",
              "       ['2020-03-31', '302.5', '309', '302', '306.5', '15698']], dtype='<U10')"
            ]
          },
          "metadata": {},
          "execution_count": 78
        }
      ]
    },
    {
      "cell_type": "markdown",
      "metadata": {
        "id": "rm37tjRpGiRy"
      },
      "source": [
        "Delete the column named 'Date'. Assign only column values without headers to the _playway_values_ variable. Convert the array to the _float_ data type.\n",
        "\n",
        "__Expected result:__\n",
        "```\n",
        "array([[   305. ,    324.5,    283.5,    310. ,  64081. ],\n",
        "       [   325.5,    340.5,    320. ,    340.5,  55496. ],\n",
        "       [   324. ,    340.5,    315. ,    330. ,  36152. ],\n",
        "       [   344. ,    344. ,    310. ,    315. ,  35992. ],\n",
        "       [   306.5,    307. ,    291. ,    305. ,  32539. ],\n",
        "       [   274. ,    291. ,    250. ,    258. ,  79402. ],\n",
        "       [   278. ,    284.5,    256. ,    264. ,  35700. ],\n",
        "       [   270. ,    270. ,    238.5,    245. ,  60445. ],\n",
        "       [   218. ,    228. ,    196. ,    197. ,  94031. ],\n",
        "       [   210. ,    229. ,    198.8,    211. , 100412. ],\n",
        "       [   205. ,    248. ,    197.8,    240.5,  50659. ],\n",
        "       [   245. ,    269. ,    232.5,    264. ,  99480. ],\n",
        "       [   264. ,    280. ,    251. ,    270. ,  70136. ],\n",
        "       [   267. ,    280. ,    267. ,    279.5,  30732. ],\n",
        "       [   297.5,    307. ,    280. ,    280.5,  43426. ],\n",
        "       [   274. ,    289. ,    258. ,    285. ,  37098. ],\n",
        "       [   305. ,    309. ,    296.5,    309. ,  31939. ],\n",
        "       [   313. ,    330. ,    295. ,    304. ,  46724. ],\n",
        "       [   300. ,    309. ,    295.5,    300. ,  27213. ],\n",
        "       [   302. ,    306.5,    290. ,    296. ,  13466. ],\n",
        "       [   299. ,    300. ,    287. ,    300. ,  10316. ],\n",
        "       [   302.5,    309. ,    302. ,    306.5,  15698. ]])\n",
        "```"
      ]
    },
    {
      "cell_type": "code",
      "metadata": {
        "id": "AMs_mUA2GsT4",
        "outputId": "40176f41-3390-4b4b-e472-2e0603e6fe34",
        "colab": {
          "base_uri": "https://localhost:8080/"
        }
      },
      "source": [
        "# enter solution here\n",
        "playway_values = playway\n",
        "\n",
        "index_date = np.where(playway[0, :] == 'Date')[0]\n",
        "\n",
        "playway_values  = np.delete(playway_values, index_date[0], axis=1)\n",
        "playway_values  = np.delete(playway_values, 0, axis=0)\n",
        "\n",
        "playway_values  = playway_values.astype('float')\n",
        "\n",
        "playway_values "
      ],
      "execution_count": 79,
      "outputs": [
        {
          "output_type": "execute_result",
          "data": {
            "text/plain": [
              "array([[   305. ,    324.5,    283.5,    310. ,  64081. ],\n",
              "       [   325.5,    340.5,    320. ,    340.5,  55496. ],\n",
              "       [   324. ,    340.5,    315. ,    330. ,  36152. ],\n",
              "       [   344. ,    344. ,    310. ,    315. ,  35992. ],\n",
              "       [   306.5,    307. ,    291. ,    305. ,  32539. ],\n",
              "       [   274. ,    291. ,    250. ,    258. ,  79402. ],\n",
              "       [   278. ,    284.5,    256. ,    264. ,  35700. ],\n",
              "       [   270. ,    270. ,    238.5,    245. ,  60445. ],\n",
              "       [   218. ,    228. ,    196. ,    197. ,  94031. ],\n",
              "       [   210. ,    229. ,    198.8,    211. , 100412. ],\n",
              "       [   205. ,    248. ,    197.8,    240.5,  50659. ],\n",
              "       [   245. ,    269. ,    232.5,    264. ,  99480. ],\n",
              "       [   264. ,    280. ,    251. ,    270. ,  70136. ],\n",
              "       [   267. ,    280. ,    267. ,    279.5,  30732. ],\n",
              "       [   297.5,    307. ,    280. ,    280.5,  43426. ],\n",
              "       [   274. ,    289. ,    258. ,    285. ,  37098. ],\n",
              "       [   305. ,    309. ,    296.5,    309. ,  31939. ],\n",
              "       [   313. ,    330. ,    295. ,    304. ,  46724. ],\n",
              "       [   300. ,    309. ,    295.5,    300. ,  27213. ],\n",
              "       [   302. ,    306.5,    290. ,    296. ,  13466. ],\n",
              "       [   299. ,    300. ,    287. ,    300. ,  10316. ],\n",
              "       [   302.5,    309. ,    302. ,    306.5,  15698. ]])"
            ]
          },
          "metadata": {},
          "execution_count": 79
        }
      ]
    },
    {
      "cell_type": "markdown",
      "metadata": {
        "id": "PunXd_Ey16so"
      },
      "source": [
        "### <a name='6'></a> Exercise 96\n",
        "For the _playway_values_ array from the previous exercise, calculate the average value for each column. Round the result to two decimal places."
      ]
    },
    {
      "cell_type": "code",
      "metadata": {
        "id": "GqjeRi1zG1gn",
        "outputId": "1922122f-0fea-470f-ea5a-4b8db2b220b7",
        "colab": {
          "base_uri": "https://localhost:8080/"
        }
      },
      "source": [
        "# enter solution here\n",
        "\n",
        "np.round(np.sum(playway_values, axis=0) / len(playway_values[:, 0]), 2)"
      ],
      "execution_count": 80,
      "outputs": [
        {
          "output_type": "execute_result",
          "data": {
            "text/plain": [
              "array([  283.14,   295.25,   268.69,   282.3 , 48688.05])"
            ]
          },
          "metadata": {},
          "execution_count": 80
        }
      ]
    },
    {
      "cell_type": "code",
      "source": [
        "np.round(playway_values.mean(axis=0), 2)"
      ],
      "metadata": {
        "id": "pCgzNv_5fRwG",
        "outputId": "e88006c0-21ba-4f90-c7e5-cde4a3a856e2",
        "colab": {
          "base_uri": "https://localhost:8080/"
        }
      },
      "execution_count": 81,
      "outputs": [
        {
          "output_type": "execute_result",
          "data": {
            "text/plain": [
              "array([  283.14,   295.25,   268.69,   282.3 , 48688.05])"
            ]
          },
          "metadata": {},
          "execution_count": 81
        }
      ]
    },
    {
      "cell_type": "markdown",
      "metadata": {
        "id": "K-yqRPzJG3iF"
      },
      "source": [
        "For the _playway_values_ array from the previous exercise, calculate the minimum value for each column. Round the result to two decimal places."
      ]
    },
    {
      "cell_type": "code",
      "metadata": {
        "id": "HP4D6YIaG6OJ",
        "outputId": "7452f58c-dedc-44e4-b6f4-79ef92cc0b9b",
        "colab": {
          "base_uri": "https://localhost:8080/"
        }
      },
      "source": [
        "# enter solution here\n",
        "\n",
        "np.round(playway_values.min(axis=0), 2)"
      ],
      "execution_count": 82,
      "outputs": [
        {
          "output_type": "execute_result",
          "data": {
            "text/plain": [
              "array([  205.,   228.,   196.,   197., 10316.])"
            ]
          },
          "metadata": {},
          "execution_count": 82
        }
      ]
    },
    {
      "cell_type": "markdown",
      "metadata": {
        "id": "jvHfyvA4G7vV"
      },
      "source": [
        "For the _playway_values_ array from the previous exercise, calculate the maximum value for each column. Round the result to two decimal places."
      ]
    },
    {
      "cell_type": "code",
      "metadata": {
        "id": "s5LNRNCnG_oT",
        "outputId": "6a1e854f-737f-4dba-fdc9-98e8c7156686",
        "colab": {
          "base_uri": "https://localhost:8080/"
        }
      },
      "source": [
        "# enter solution here\n",
        "\n",
        "np.round(playway_values.max(axis=0), 2)"
      ],
      "execution_count": 83,
      "outputs": [
        {
          "output_type": "execute_result",
          "data": {
            "text/plain": [
              "array([   344. ,    344. ,    320. ,    340.5, 100412. ])"
            ]
          },
          "metadata": {},
          "execution_count": 83
        }
      ]
    },
    {
      "cell_type": "markdown",
      "metadata": {
        "id": "Bwir-gg7HBmJ"
      },
      "source": [
        "Calculate the difference between the maximum and minimum value for each column."
      ]
    },
    {
      "cell_type": "code",
      "metadata": {
        "id": "xXeaKBI8HDNn",
        "outputId": "a9281213-3bd3-474b-a4ae-2e6c32a6e431",
        "colab": {
          "base_uri": "https://localhost:8080/"
        }
      },
      "source": [
        "# enter solution here\n",
        "\n",
        "np.round(playway_values.max(axis=0) - playway_values.min(axis=0), 2)"
      ],
      "execution_count": 84,
      "outputs": [
        {
          "output_type": "execute_result",
          "data": {
            "text/plain": [
              "array([  139. ,   116. ,   124. ,   143.5, 90096. ])"
            ]
          },
          "metadata": {},
          "execution_count": 84
        }
      ]
    },
    {
      "cell_type": "markdown",
      "metadata": {
        "id": "hOhqDRz618Tx"
      },
      "source": [
        "### <a name='7'></a> Exercise 97\n",
        "Using the _playway_values_ array, calculate the new column: the difference between the highest and lowest price.\n",
        "\n",
        "Steps:\n",
        "1. assign the calculated difference to the _max_min_diff_ variable\n",
        "2. add the calculated column (variable _max_min_diff_) to the array _playway_values_ at the end.\n",
        "\n",
        "__Expected result:__\n",
        "```\n",
        "array([[   305. ,    324.5,    283.5,    310. ,  64081. ,     41. ],\n",
        "       [   325.5,    340.5,    320. ,    340.5,  55496. ,     20.5],\n",
        "       [   324. ,    340.5,    315. ,    330. ,  36152. ,     25.5],\n",
        "       [   344. ,    344. ,    310. ,    315. ,  35992. ,     34. ],\n",
        "       [   306.5,    307. ,    291. ,    305. ,  32539. ,     16. ],\n",
        "       [   274. ,    291. ,    250. ,    258. ,  79402. ,     41. ],\n",
        "       [   278. ,    284.5,    256. ,    264. ,  35700. ,     28.5],\n",
        "       [   270. ,    270. ,    238.5,    245. ,  60445. ,     31.5],\n",
        "       [   218. ,    228. ,    196. ,    197. ,  94031. ,     32. ],\n",
        "       [   210. ,    229. ,    198.8,    211. , 100412. ,     30.2],\n",
        "       [   205. ,    248. ,    197.8,    240.5,  50659. ,     50.2],\n",
        "       [   245. ,    269. ,    232.5,    264. ,  99480. ,     36.5],\n",
        "       [   264. ,    280. ,    251. ,    270. ,  70136. ,     29. ],\n",
        "       [   267. ,    280. ,    267. ,    279.5,  30732. ,     13. ],\n",
        "       [   297.5,    307. ,    280. ,    280.5,  43426. ,     27. ],\n",
        "       [   274. ,    289. ,    258. ,    285. ,  37098. ,     31. ],\n",
        "       [   305. ,    309. ,    296.5,    309. ,  31939. ,     12.5],\n",
        "       [   313. ,    330. ,    295. ,    304. ,  46724. ,     35. ],\n",
        "       [   300. ,    309. ,    295.5,    300. ,  27213. ,     13.5],\n",
        "       [   302. ,    306.5,    290. ,    296. ,  13466. ,     16.5],\n",
        "       [   299. ,    300. ,    287. ,    300. ,  10316. ,     13. ],\n",
        "       [   302.5,    309. ,    302. ,    306.5,  15698. ,      7. ]])\n",
        "```"
      ]
    },
    {
      "cell_type": "code",
      "metadata": {
        "id": "jBt1TSCzHZql",
        "outputId": "4d9afc69-b2df-44cf-c8bf-a39bd94e7ab2",
        "colab": {
          "base_uri": "https://localhost:8080/"
        }
      },
      "source": [
        "# enter solution here\n",
        "\n",
        "max_min_diff = playway_values[:, [1]] - playway_values[:, [2]]\n",
        "\n",
        "playway_values = np.concatenate((playway_values, max_min_diff), axis=1)\n",
        "\n",
        "playway_values"
      ],
      "execution_count": 85,
      "outputs": [
        {
          "output_type": "execute_result",
          "data": {
            "text/plain": [
              "array([[   305. ,    324.5,    283.5,    310. ,  64081. ,     41. ],\n",
              "       [   325.5,    340.5,    320. ,    340.5,  55496. ,     20.5],\n",
              "       [   324. ,    340.5,    315. ,    330. ,  36152. ,     25.5],\n",
              "       [   344. ,    344. ,    310. ,    315. ,  35992. ,     34. ],\n",
              "       [   306.5,    307. ,    291. ,    305. ,  32539. ,     16. ],\n",
              "       [   274. ,    291. ,    250. ,    258. ,  79402. ,     41. ],\n",
              "       [   278. ,    284.5,    256. ,    264. ,  35700. ,     28.5],\n",
              "       [   270. ,    270. ,    238.5,    245. ,  60445. ,     31.5],\n",
              "       [   218. ,    228. ,    196. ,    197. ,  94031. ,     32. ],\n",
              "       [   210. ,    229. ,    198.8,    211. , 100412. ,     30.2],\n",
              "       [   205. ,    248. ,    197.8,    240.5,  50659. ,     50.2],\n",
              "       [   245. ,    269. ,    232.5,    264. ,  99480. ,     36.5],\n",
              "       [   264. ,    280. ,    251. ,    270. ,  70136. ,     29. ],\n",
              "       [   267. ,    280. ,    267. ,    279.5,  30732. ,     13. ],\n",
              "       [   297.5,    307. ,    280. ,    280.5,  43426. ,     27. ],\n",
              "       [   274. ,    289. ,    258. ,    285. ,  37098. ,     31. ],\n",
              "       [   305. ,    309. ,    296.5,    309. ,  31939. ,     12.5],\n",
              "       [   313. ,    330. ,    295. ,    304. ,  46724. ,     35. ],\n",
              "       [   300. ,    309. ,    295.5,    300. ,  27213. ,     13.5],\n",
              "       [   302. ,    306.5,    290. ,    296. ,  13466. ,     16.5],\n",
              "       [   299. ,    300. ,    287. ,    300. ,  10316. ,     13. ],\n",
              "       [   302.5,    309. ,    302. ,    306.5,  15698. ,      7. ]])"
            ]
          },
          "metadata": {},
          "execution_count": 85
        }
      ]
    },
    {
      "cell_type": "markdown",
      "metadata": {
        "id": "TXUd_4631-gw"
      },
      "source": [
        "### <a name='8'></a> Exercise 98\n",
        "Extract rows from the array _playway_values_ where closing price is grater than 300.00."
      ]
    },
    {
      "cell_type": "code",
      "metadata": {
        "id": "A0ISsF4mJi7f",
        "outputId": "65d664bd-957e-4a24-8c42-521b2f5e0294",
        "colab": {
          "base_uri": "https://localhost:8080/"
        }
      },
      "source": [
        "# enter solution here\n",
        "\n",
        "playway_values[playway_values[:, 3] > 300.0]"
      ],
      "execution_count": 86,
      "outputs": [
        {
          "output_type": "execute_result",
          "data": {
            "text/plain": [
              "array([[  305. ,   324.5,   283.5,   310. , 64081. ,    41. ],\n",
              "       [  325.5,   340.5,   320. ,   340.5, 55496. ,    20.5],\n",
              "       [  324. ,   340.5,   315. ,   330. , 36152. ,    25.5],\n",
              "       [  344. ,   344. ,   310. ,   315. , 35992. ,    34. ],\n",
              "       [  306.5,   307. ,   291. ,   305. , 32539. ,    16. ],\n",
              "       [  305. ,   309. ,   296.5,   309. , 31939. ,    12.5],\n",
              "       [  313. ,   330. ,   295. ,   304. , 46724. ,    35. ],\n",
              "       [  302.5,   309. ,   302. ,   306.5, 15698. ,     7. ]])"
            ]
          },
          "metadata": {},
          "execution_count": 86
        }
      ]
    },
    {
      "cell_type": "markdown",
      "metadata": {
        "id": "tgI6xEn-2AQo"
      },
      "source": [
        "### <a name='9'></a> Exercise 99\n",
        "From the array _playway_values_ extract the first 10 rows with the highest volume value sorted in descending order."
      ]
    },
    {
      "cell_type": "code",
      "metadata": {
        "id": "tsy_PMZTJvJ5",
        "outputId": "8ce219f6-9797-4055-f2e9-13ee255185b2",
        "colab": {
          "base_uri": "https://localhost:8080/"
        }
      },
      "source": [
        "# enter solution here\n",
        "\n",
        "playway_values[playway_values[:, 4].argsort()[::-1]][:10, :]"
      ],
      "execution_count": 87,
      "outputs": [
        {
          "output_type": "execute_result",
          "data": {
            "text/plain": [
              "array([[   210. ,    229. ,    198.8,    211. , 100412. ,     30.2],\n",
              "       [   245. ,    269. ,    232.5,    264. ,  99480. ,     36.5],\n",
              "       [   218. ,    228. ,    196. ,    197. ,  94031. ,     32. ],\n",
              "       [   274. ,    291. ,    250. ,    258. ,  79402. ,     41. ],\n",
              "       [   264. ,    280. ,    251. ,    270. ,  70136. ,     29. ],\n",
              "       [   305. ,    324.5,    283.5,    310. ,  64081. ,     41. ],\n",
              "       [   270. ,    270. ,    238.5,    245. ,  60445. ,     31.5],\n",
              "       [   325.5,    340.5,    320. ,    340.5,  55496. ,     20.5],\n",
              "       [   205. ,    248. ,    197.8,    240.5,  50659. ,     50.2],\n",
              "       [   313. ,    330. ,    295. ,    304. ,  46724. ,     35. ]])"
            ]
          },
          "metadata": {},
          "execution_count": 87
        }
      ]
    },
    {
      "cell_type": "markdown",
      "metadata": {
        "id": "wxhpf-uq2B1I"
      },
      "source": [
        "### <a name='10'></a> Exercise 100\n",
        "Add to the _playway_values_ array column that will return 1 in case the closing price is higher than the opening price and 0 opposite.\n",
        "\n",
        "__Expected result:__\n",
        "```\n",
        "array([[   305. ,    324.5,    283.5,    310. ,  64081. ,     41. ,      1. ],\n",
        "       [   325.5,    340.5,    320. ,    340.5,  55496. ,     20.5,      1. ],\n",
        "       [   324. ,    340.5,    315. ,    330. ,  36152. ,     25.5,      1. ],\n",
        "       [   344. ,    344. ,    310. ,    315. ,  35992. ,     34. ,      0. ],\n",
        "       [   306.5,    307. ,    291. ,    305. ,  32539. ,     16. ,      0. ],\n",
        "       [   274. ,    291. ,    250. ,    258. ,  79402. ,     41. ,      0. ],\n",
        "       [   278. ,    284.5,    256. ,    264. ,  35700. ,     28.5,      0. ],\n",
        "       [   270. ,    270. ,    238.5,    245. ,  60445. ,     31.5,      0. ],\n",
        "       [   218. ,    228. ,    196. ,    197. ,  94031. ,     32. ,      0. ],\n",
        "       [   210. ,    229. ,    198.8,    211. , 100412. ,     30.2,      1. ],\n",
        "       [   205. ,    248. ,    197.8,    240.5,  50659. ,     50.2,      1. ],\n",
        "       [   245. ,    269. ,    232.5,    264. ,  99480. ,     36.5,      1. ],\n",
        "       [   264. ,    280. ,    251. ,    270. ,  70136. ,     29. ,      1. ],\n",
        "       [   267. ,    280. ,    267. ,    279.5,  30732. ,     13. ,      1. ],\n",
        "       [   297.5,    307. ,    280. ,    280.5,  43426. ,     27. ,      0. ],\n",
        "       [   274. ,    289. ,    258. ,    285. ,  37098. ,     31. ,      1. ],\n",
        "       [   305. ,    309. ,    296.5,    309. ,  31939. ,     12.5,      1. ],\n",
        "       [   313. ,    330. ,    295. ,    304. ,  46724. ,     35. ,      0. ],\n",
        "       [   300. ,    309. ,    295.5,    300. ,  27213. ,     13.5,      0. ],\n",
        "       [   302. ,    306.5,    290. ,    296. ,  13466. ,     16.5,      0. ],\n",
        "       [   299. ,    300. ,    287. ,    300. ,  10316. ,     13. ,      1. ],\n",
        "       [   302.5,    309. ,    302. ,    306.5,  15698. ,      7. ,      1. ]])\n",
        "```"
      ]
    },
    {
      "cell_type": "code",
      "metadata": {
        "id": "YFc0KW6URsuc",
        "outputId": "c0644bfa-1a37-4404-b3a7-af048930167c",
        "colab": {
          "base_uri": "https://localhost:8080/"
        }
      },
      "source": [
        "# enter solution here\n",
        "\n",
        "open_close_diff = np.where(playway_values[:, [3]] - playway_values[:, [0]] > 0, 1, 0)\n",
        "\n",
        "np.concatenate((playway_values, open_close_diff), axis=1)"
      ],
      "execution_count": 88,
      "outputs": [
        {
          "output_type": "execute_result",
          "data": {
            "text/plain": [
              "array([[   305. ,    324.5,    283.5,    310. ,  64081. ,     41. ,      1. ],\n",
              "       [   325.5,    340.5,    320. ,    340.5,  55496. ,     20.5,      1. ],\n",
              "       [   324. ,    340.5,    315. ,    330. ,  36152. ,     25.5,      1. ],\n",
              "       [   344. ,    344. ,    310. ,    315. ,  35992. ,     34. ,      0. ],\n",
              "       [   306.5,    307. ,    291. ,    305. ,  32539. ,     16. ,      0. ],\n",
              "       [   274. ,    291. ,    250. ,    258. ,  79402. ,     41. ,      0. ],\n",
              "       [   278. ,    284.5,    256. ,    264. ,  35700. ,     28.5,      0. ],\n",
              "       [   270. ,    270. ,    238.5,    245. ,  60445. ,     31.5,      0. ],\n",
              "       [   218. ,    228. ,    196. ,    197. ,  94031. ,     32. ,      0. ],\n",
              "       [   210. ,    229. ,    198.8,    211. , 100412. ,     30.2,      1. ],\n",
              "       [   205. ,    248. ,    197.8,    240.5,  50659. ,     50.2,      1. ],\n",
              "       [   245. ,    269. ,    232.5,    264. ,  99480. ,     36.5,      1. ],\n",
              "       [   264. ,    280. ,    251. ,    270. ,  70136. ,     29. ,      1. ],\n",
              "       [   267. ,    280. ,    267. ,    279.5,  30732. ,     13. ,      1. ],\n",
              "       [   297.5,    307. ,    280. ,    280.5,  43426. ,     27. ,      0. ],\n",
              "       [   274. ,    289. ,    258. ,    285. ,  37098. ,     31. ,      1. ],\n",
              "       [   305. ,    309. ,    296.5,    309. ,  31939. ,     12.5,      1. ],\n",
              "       [   313. ,    330. ,    295. ,    304. ,  46724. ,     35. ,      0. ],\n",
              "       [   300. ,    309. ,    295.5,    300. ,  27213. ,     13.5,      0. ],\n",
              "       [   302. ,    306.5,    290. ,    296. ,  13466. ,     16.5,      0. ],\n",
              "       [   299. ,    300. ,    287. ,    300. ,  10316. ,     13. ,      1. ],\n",
              "       [   302.5,    309. ,    302. ,    306.5,  15698. ,      7. ,      1. ]])"
            ]
          },
          "metadata": {},
          "execution_count": 88
        }
      ]
    }
  ]
}