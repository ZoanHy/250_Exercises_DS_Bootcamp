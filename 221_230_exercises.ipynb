{
  "nbformat": 4,
  "nbformat_minor": 0,
  "metadata": {
    "colab": {
      "provenance": []
    },
    "kernelspec": {
      "name": "python3",
      "display_name": "Python 3"
    }
  },
  "cells": [
    {
      "cell_type": "markdown",
      "metadata": {
        "id": "WLEgCW5F1hho"
      },
      "source": [
        "## Data Science Bootcamp\n",
        "\n",
        "### Table of contents:\n",
        "* [Import biblioteki](#0)\n",
        "* [Exercise 221](#1)\n",
        "* [Exercise 222](#2)\n",
        "* [Exercise 223](#3)\n",
        "* [Exercise 224](#4)\n",
        "* [Exercise 225](#5)\n",
        "* [Exercise 226](#6)\n",
        "* [Exercise 227](#7)\n",
        "* [Exercise 228](#8)\n",
        "* [Exercise 229](#9)\n",
        "* [Exercise 230](#10)"
      ]
    },
    {
      "cell_type": "markdown",
      "metadata": {
        "id": "zeLOLmTj1kBM"
      },
      "source": [
        "### <a name='0'></a> Import of libraries"
      ]
    },
    {
      "cell_type": "code",
      "metadata": {
        "id": "HXMB7SMe1Wnz"
      },
      "source": [
        "import numpy as np\n",
        "np.random.seed(20)\n",
        "\n",
        "np.__version__"
      ],
      "execution_count": null,
      "outputs": []
    },
    {
      "cell_type": "markdown",
      "metadata": {
        "id": "foyjwX_7K5so"
      },
      "source": [
        "### Solving systems of equations\n",
        "Let's consider the system of equations $U$:  \n",
        "$${\\displaystyle \\mathrm {U} \\colon {\\begin{cases}{\\begin{matrix}a_{11}x_{1}&+&a_{12}x_{2}&+&\\dots &+&a_{1n}x_{n}&=b_{1},\\\\a_{21}x_{1}&+&a_{22}x_{2}&+&\\dots &+&a_{2n}x_{n}&=b_{2},\\\\\\vdots &&\\vdots &&\\ddots &&\\vdots &\\vdots \\\\a_{m1}x_{1}&+&a_{m2}x_{2}&+&\\dots &+&a_{mn}x_{n}&=b_{m}.\\end{matrix}}\\end{cases}}.}$$\n",
        "\n",
        "Using matrices we can present it as follows:\n",
        "\n",
        "$${\\begin{bmatrix}a_{11}&a_{12}&\\dots &a_{1n}\\\\a_{21}&a_{22}&\\dots &a_{2n}\\\\\\vdots &\\vdots &\\ddots &\\vdots \\\\a_{m1}&a_{m2}&\\dots &a_{mn}\\end{bmatrix}}{\\begin{bmatrix}x_{1}\\\\x_{2}\\\\\\vdots \\\\x_{n}\\end{bmatrix}}={\\begin{bmatrix}b_{1}\\\\b_{2}\\\\\\vdots \\\\b_{m}\\end{bmatrix}}$$\n",
        "And in the summary:\n",
        "$$\\mathbf {AX} =\\mathbf {B}$$\n",
        "\n",
        "Where:   \n",
        "$A = {\\begin{bmatrix}a_{11}&a_{12}&\\dots &a_{1n}\\\\a_{21}&a_{22}&\\dots &a_{2n}\\\\\\vdots &\\vdots &\\ddots &\\vdots \\\\a_{m1}&a_{m2}&\\dots &a_{mn}\\end{bmatrix}}$ - coefficient matrix\n",
        "\n",
        "${\\displaystyle \\mathbf {B} =[b_{1},b_{2},\\dots ,b_{m}]} $ - vector  \n",
        "${\\mathbf  X}=[x_{1},x_{2},\\dots ,x_{n}] $ - vector  \n",
        "\n",
        "If the system matrix $ A $ is a square matrix, then the determinate of the system is equivalent to its reversibility, i.e.\n",
        "$$\\mathbf {AX} =\\mathbf {B}$$\n",
        "$${\\displaystyle \\mathbf {A} ^{-1}\\mathbf {AX} =\\mathbf {A} ^{-1}\\mathbf {B}} $$\n",
        "$$\\mathbf {X} =\\mathbf {A} ^{-1}\\mathbf {B} .$$\n",
        "\n",
        "#### Example:\n",
        "Let's consider the system of equations:\n",
        "$$\\begin{cases}2x + 4y = 10 \\\\ x - y = -1 \\end{cases}$$  \n",
        "The solution is a pair of numbers:\n",
        "$$\\begin{cases}x = 1 \\\\ y = 2 \\end{cases}$$  \n"
      ]
    },
    {
      "cell_type": "markdown",
      "metadata": {
        "id": "cyc70pMe1oCg"
      },
      "source": [
        "### <a name='1'></a> Exercise 221\n",
        "Solve the following system of equations using the numpy library:\n",
        "$$\\begin{cases}5x - 3y = 21 \\\\ x - 2y = 7 \\end{cases}$$\n"
      ]
    },
    {
      "cell_type": "code",
      "metadata": {
        "id": "YD-tsrR-MEhg"
      },
      "source": [
        "# enter solution here"
      ],
      "execution_count": null,
      "outputs": []
    },
    {
      "cell_type": "markdown",
      "metadata": {
        "id": "SHwOYUVBMOEr"
      },
      "source": [
        "Check the solution.\n",
        "\n",
        "__Tip:__ Use the _np.allclose()_ function."
      ]
    },
    {
      "cell_type": "code",
      "metadata": {
        "id": "O99iteZYMRGR"
      },
      "source": [
        "# enter solution here"
      ],
      "execution_count": null,
      "outputs": []
    },
    {
      "cell_type": "markdown",
      "metadata": {
        "id": "J9pY1rtr1sC0"
      },
      "source": [
        "### <a name='2'></a> Exercise 222\n",
        "Solve the following system of equations using the numpy library:\n",
        "\n",
        "$$\\begin{cases}x + y + z = 1 \\\\ 2x + y + 5z = 0 \\\\ x - y = z \\end{cases}$$"
      ]
    },
    {
      "cell_type": "code",
      "metadata": {
        "id": "Kau7NefAMWbX"
      },
      "source": [
        "# enter solution here"
      ],
      "execution_count": null,
      "outputs": []
    },
    {
      "cell_type": "markdown",
      "metadata": {
        "id": "mZTLfuQmMeYt"
      },
      "source": [
        "Check the solution.\n",
        "\n",
        "__Tip:__ Use the _np.allclose()_ function."
      ]
    },
    {
      "cell_type": "code",
      "metadata": {
        "id": "JbXBIw12Mfvz"
      },
      "source": [
        "# enter solution here"
      ],
      "execution_count": null,
      "outputs": []
    },
    {
      "cell_type": "markdown",
      "metadata": {
        "id": "XQLYT2m11wVG"
      },
      "source": [
        "### <a name='3'></a> Exercise 223\n",
        "\n",
        "Load the popular IRIS data set into the _data_raw_ variable using the _scikit-learn_ library."
      ]
    },
    {
      "cell_type": "code",
      "metadata": {
        "id": "OSTU0TIOMkDB"
      },
      "source": [
        "# enter solution here"
      ],
      "execution_count": null,
      "outputs": []
    },
    {
      "cell_type": "markdown",
      "metadata": {
        "id": "iL1frEVxMpnn"
      },
      "source": [
        "Display description of the IRIS dataset."
      ]
    },
    {
      "cell_type": "code",
      "metadata": {
        "id": "dae_N1OTMtBi"
      },
      "source": [
        "# enter solution here"
      ],
      "execution_count": null,
      "outputs": []
    },
    {
      "cell_type": "markdown",
      "metadata": {
        "id": "nNmCcgUrMvJu"
      },
      "source": [
        "Display variable names in the dataset."
      ]
    },
    {
      "cell_type": "code",
      "metadata": {
        "id": "HIINK0-NMych"
      },
      "source": [
        "# enter solution here"
      ],
      "execution_count": null,
      "outputs": []
    },
    {
      "cell_type": "markdown",
      "metadata": {
        "id": "Jh8ZHFDTM0V-"
      },
      "source": [
        "Display class names in the dataset."
      ]
    },
    {
      "cell_type": "code",
      "metadata": {
        "id": "EkUDPs1dM2UW"
      },
      "source": [
        "# enter solution here"
      ],
      "execution_count": null,
      "outputs": []
    },
    {
      "cell_type": "markdown",
      "metadata": {
        "id": "4xTKSUzg10MK"
      },
      "source": [
        "### <a name='4'></a> Exercise 224\n",
        "Assign the data (numpy table) of the IRIS file to the _data_ variable.\n"
      ]
    },
    {
      "cell_type": "code",
      "metadata": {
        "id": "cg7IMHorNakq"
      },
      "source": [
        "# enter solution here"
      ],
      "execution_count": null,
      "outputs": []
    },
    {
      "cell_type": "markdown",
      "metadata": {
        "id": "SNX9oXiQNcam"
      },
      "source": [
        "Assign the target variable values from the IRIS set to the _target_ variable."
      ]
    },
    {
      "cell_type": "code",
      "metadata": {
        "id": "LJT9dKEiNeVj"
      },
      "source": [
        "# enter solution here"
      ],
      "execution_count": null,
      "outputs": []
    },
    {
      "cell_type": "markdown",
      "metadata": {
        "id": "ePNaWYKkNgT_"
      },
      "source": [
        "Display the shape of the _data_ and _target_ variables."
      ]
    },
    {
      "cell_type": "code",
      "metadata": {
        "id": "98CrDkZQNhuD"
      },
      "source": [
        "# enter solution here"
      ],
      "execution_count": null,
      "outputs": []
    },
    {
      "cell_type": "markdown",
      "metadata": {
        "id": "o3HKIKlP15Ro"
      },
      "source": [
        "### <a name='5'></a> Exercise 225\n",
        "Split the data into training (_data_train_, _target_train_) and test (_data_test_, _target_test_) sets. The size of the test set is 30% of the samples."
      ]
    },
    {
      "cell_type": "code",
      "metadata": {
        "id": "2tKWnkmONpro"
      },
      "source": [
        "# enter solution here"
      ],
      "execution_count": null,
      "outputs": []
    },
    {
      "cell_type": "markdown",
      "metadata": {
        "id": "BqSYfYYSNrWH"
      },
      "source": [
        "Display set size:\n",
        "* _data_train_\n",
        "* _target_train_\n",
        "* _data_test_\n",
        "* _target_test_"
      ]
    },
    {
      "cell_type": "code",
      "metadata": {
        "id": "mfN0W3y7Ns6q"
      },
      "source": [
        "# enter solution here"
      ],
      "execution_count": null,
      "outputs": []
    },
    {
      "cell_type": "markdown",
      "metadata": {
        "id": "PunXd_Ey16so"
      },
      "source": [
        "### <a name='6'></a> Exercise 226\n",
        "Build a logistic regression model (set default parameter values) using the scikit-learn library and IRIS data."
      ]
    },
    {
      "cell_type": "code",
      "metadata": {
        "id": "j3wT_uGsNyO4"
      },
      "source": [
        "# enter solution here"
      ],
      "execution_count": null,
      "outputs": []
    },
    {
      "cell_type": "markdown",
      "metadata": {
        "id": "fr_dGCnfN0Ji"
      },
      "source": [
        "Fit training data to the model."
      ]
    },
    {
      "cell_type": "code",
      "metadata": {
        "id": "uXmY4qAkN2RK"
      },
      "source": [
        "# enter solution here"
      ],
      "execution_count": null,
      "outputs": []
    },
    {
      "cell_type": "markdown",
      "metadata": {
        "id": "hOhqDRz618Tx"
      },
      "source": [
        "### <a name='7'></a> Exercise 227\n",
        "Evaluate the model on the training set."
      ]
    },
    {
      "cell_type": "code",
      "metadata": {
        "id": "n_OIJBE5N6ak"
      },
      "source": [
        "# enter solution here"
      ],
      "execution_count": null,
      "outputs": []
    },
    {
      "cell_type": "markdown",
      "metadata": {
        "id": "MBek3XIjN8i-"
      },
      "source": [
        "Evaluate the model on the test set."
      ]
    },
    {
      "cell_type": "code",
      "metadata": {
        "id": "EBfSlLnkN9yl"
      },
      "source": [
        "# enter solution here"
      ],
      "execution_count": null,
      "outputs": []
    },
    {
      "cell_type": "markdown",
      "metadata": {
        "id": "TXUd_4631-gw"
      },
      "source": [
        "### <a name='8'></a> Exercise 228\n",
        "Predict the test data based on the model and assign it to the _target\\_pred_ variable."
      ]
    },
    {
      "cell_type": "code",
      "metadata": {
        "id": "0DeVtM6nOEhK"
      },
      "source": [
        "# enter solution here"
      ],
      "execution_count": null,
      "outputs": []
    },
    {
      "cell_type": "markdown",
      "metadata": {
        "id": "MR7Ngk_zOGXk"
      },
      "source": [
        "Display the _target\\_pred_ variable."
      ]
    },
    {
      "cell_type": "code",
      "metadata": {
        "id": "k1CGTbTqOH4k"
      },
      "source": [
        "# enter solution here"
      ],
      "execution_count": null,
      "outputs": []
    },
    {
      "cell_type": "markdown",
      "metadata": {
        "id": "CigT4VLGOJaT"
      },
      "source": [
        "Display the _target\\_test_ variable."
      ]
    },
    {
      "cell_type": "code",
      "metadata": {
        "id": "FypjZyw1OLDy"
      },
      "source": [
        "# enter solution here"
      ],
      "execution_count": null,
      "outputs": []
    },
    {
      "cell_type": "markdown",
      "metadata": {
        "id": "tgI6xEn-2AQo"
      },
      "source": [
        "### <a name='9'></a> Exercise 229\n",
        "Calculate the confusion matrix."
      ]
    },
    {
      "cell_type": "code",
      "metadata": {
        "id": "SJunu4KvOQM2"
      },
      "source": [
        "# enter solution here"
      ],
      "execution_count": null,
      "outputs": []
    },
    {
      "cell_type": "markdown",
      "metadata": {
        "id": "wxhpf-uq2B1I"
      },
      "source": [
        "### <a name='10'></a> Exercise 230\n",
        "Display the classification report."
      ]
    },
    {
      "cell_type": "code",
      "metadata": {
        "id": "YFc0KW6URsuc"
      },
      "source": [
        "# enter solution here"
      ],
      "execution_count": null,
      "outputs": []
    }
  ]
}