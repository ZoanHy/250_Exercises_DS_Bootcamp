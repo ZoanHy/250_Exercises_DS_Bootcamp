{
  "nbformat": 4,
  "nbformat_minor": 0,
  "metadata": {
    "colab": {
      "provenance": []
    },
    "kernelspec": {
      "name": "python3",
      "display_name": "Python 3"
    }
  },
  "cells": [
    {
      "cell_type": "markdown",
      "metadata": {
        "id": "WLEgCW5F1hho"
      },
      "source": [
        "## Pandas\n",
        "\n",
        "### Table of contents:\n",
        "* [Import biblioteki](#0)\n",
        "* [Exercise 181](#1)\n",
        "* [Exercise 182](#2)\n",
        "* [Exercise 183](#3)\n",
        "* [Exercise 184](#4)\n",
        "* [Exercise 185](#5)\n",
        "* [Exercise 186](#6)\n",
        "* [Exercise 187](#7)\n",
        "* [Exercise 188](#8)\n",
        "* [Exercise 189](#9)\n",
        "* [Exercise 190](#10)"
      ]
    },
    {
      "cell_type": "markdown",
      "metadata": {
        "id": "zeLOLmTj1kBM"
      },
      "source": [
        "### <a name='0'></a> Import of libraries"
      ]
    },
    {
      "cell_type": "code",
      "metadata": {
        "id": "HXMB7SMe1Wnz"
      },
      "source": [
        "import numpy as np\n",
        "import pandas as pd\n",
        "import plotly.express as px\n",
        "\n",
        "np.__version__"
      ],
      "execution_count": null,
      "outputs": []
    },
    {
      "cell_type": "markdown",
      "metadata": {
        "id": "dFF0lVpTOtf6"
      },
      "source": [
        "Run the following instructions to download the _insurance.csv_ file to your working directory."
      ]
    },
    {
      "cell_type": "code",
      "metadata": {
        "id": "fIwBaMoUOsWt"
      },
      "source": [
        "!wget -q https://storage.googleapis.com/esmartdata-courses-files/ml-course/insurance.csv"
      ],
      "execution_count": null,
      "outputs": []
    },
    {
      "cell_type": "markdown",
      "metadata": {
        "id": "cyc70pMe1oCg"
      },
      "source": [
        "### <a name='1'></a> Exercise 181\n",
        "Load the _insurance.csv_ file into the DataFrame object _df_raw_ and display the first few rows."
      ]
    },
    {
      "cell_type": "code",
      "metadata": {
        "id": "upjeJ5rCOz18"
      },
      "source": [
        "# enter solution here"
      ],
      "execution_count": null,
      "outputs": []
    },
    {
      "cell_type": "markdown",
      "metadata": {
        "id": "UH1Vd6NTO49E"
      },
      "source": [
        "Copy the _df_raw_ object to the _df_ variable and display basic information about the _df_ object."
      ]
    },
    {
      "cell_type": "code",
      "metadata": {
        "id": "q4K5DqDAO7Ai"
      },
      "source": [
        "# enter solution here"
      ],
      "execution_count": null,
      "outputs": []
    },
    {
      "cell_type": "markdown",
      "metadata": {
        "id": "J9pY1rtr1sC0"
      },
      "source": [
        "### <a name='2'></a> Exercise 182\n",
        "Check if there are duplicate rows in the _df_ object. If so, display these rows."
      ]
    },
    {
      "cell_type": "code",
      "metadata": {
        "id": "DpJmeivJPDbf"
      },
      "source": [
        "# enter solution here"
      ],
      "execution_count": null,
      "outputs": []
    },
    {
      "cell_type": "markdown",
      "metadata": {
        "id": "BRyEIuAbPF3Q"
      },
      "source": [
        "Delete duplicates in object _df_."
      ]
    },
    {
      "cell_type": "code",
      "metadata": {
        "id": "TS2D-guePHOu"
      },
      "source": [
        "# enter solution here"
      ],
      "execution_count": null,
      "outputs": []
    },
    {
      "cell_type": "markdown",
      "metadata": {
        "id": "XQLYT2m11wVG"
      },
      "source": [
        "### <a name='3'></a> Exercise 183\n",
        "Display variables from the object _df_ with the type _object_.\n",
        "\n",
        "__Tip:__ Use the _pd.DataFrame.select_dtypes()_ method."
      ]
    },
    {
      "cell_type": "code",
      "metadata": {
        "id": "GbH-Ev1LPPtL"
      },
      "source": [
        "# enter solution here"
      ],
      "execution_count": null,
      "outputs": []
    },
    {
      "cell_type": "markdown",
      "metadata": {
        "id": "ThotWgDmPT5K"
      },
      "source": [
        "Convert these variables to categorical variables.\n",
        "\n",
        "__Tip:__ Use the _pd.DataFrame.astype()_ method."
      ]
    },
    {
      "cell_type": "code",
      "metadata": {
        "id": "mj7556u_PXJU"
      },
      "source": [
        "# enter solution here"
      ],
      "execution_count": null,
      "outputs": []
    },
    {
      "cell_type": "markdown",
      "metadata": {
        "id": "6YhItENAPZkX"
      },
      "source": [
        "Display numeric variables (_float_, _int_) from the object _df_.\n",
        "\n",
        "__Tip:__ Use the _pd.DataFrame.select_dtypes()_ method"
      ]
    },
    {
      "cell_type": "code",
      "metadata": {
        "id": "p8yXtgPNPc6E"
      },
      "source": [
        "# enter solution here"
      ],
      "execution_count": null,
      "outputs": []
    },
    {
      "cell_type": "markdown",
      "metadata": {
        "id": "depHSDpjPkVy"
      },
      "source": [
        "Find the names of numeric variables (_float_, _int_) from the object _df_."
      ]
    },
    {
      "cell_type": "code",
      "metadata": {
        "id": "r-seyev_Pi0I"
      },
      "source": [
        "# enter solution here"
      ],
      "execution_count": null,
      "outputs": []
    },
    {
      "cell_type": "markdown",
      "metadata": {
        "id": "4xTKSUzg10MK"
      },
      "source": [
        "### <a name='4'></a> Exercise 184\n",
        "Follow the steps below:\n",
        "\n",
        "* assign to the variable _df_cat_ categorical variables from the object _df_ and create a copy of them.\n",
        "\n",
        "* assign to the variable _df_num_ numerical variables from the object _df_ and create a copy of them."
      ]
    },
    {
      "cell_type": "code",
      "metadata": {
        "id": "4yKbXjmfPyaa"
      },
      "source": [
        "# enter solution here"
      ],
      "execution_count": null,
      "outputs": []
    },
    {
      "cell_type": "markdown",
      "metadata": {
        "id": "E2tJmQdLP0k4"
      },
      "source": [
        "Display the first 5 rows of the _df_cat_ object."
      ]
    },
    {
      "cell_type": "code",
      "metadata": {
        "id": "9vulVtgNP1sC"
      },
      "source": [
        "# enter solution here"
      ],
      "execution_count": null,
      "outputs": []
    },
    {
      "cell_type": "markdown",
      "metadata": {
        "id": "pM_eusKDP3re"
      },
      "source": [
        "Display the first 5 rows of _df_num_."
      ]
    },
    {
      "cell_type": "code",
      "metadata": {
        "id": "cdCueNv2P4xK"
      },
      "source": [
        "# enter solution here"
      ],
      "execution_count": null,
      "outputs": []
    },
    {
      "cell_type": "markdown",
      "metadata": {
        "id": "o3HKIKlP15Ro"
      },
      "source": [
        "### <a name='5'></a> Exercise 185\n",
        "Display basic statistics of the _df_cat_ object."
      ]
    },
    {
      "cell_type": "code",
      "metadata": {
        "id": "G7aLqhsHP8q0"
      },
      "source": [
        "# enter solution here"
      ],
      "execution_count": null,
      "outputs": []
    },
    {
      "cell_type": "markdown",
      "metadata": {
        "id": "V-yl38YmP-Xu"
      },
      "source": [
        "Display basic statistics of the object _df_num_."
      ]
    },
    {
      "cell_type": "code",
      "metadata": {
        "id": "MNc1_ykiP_u0"
      },
      "source": [
        "# enter solution here"
      ],
      "execution_count": null,
      "outputs": []
    },
    {
      "cell_type": "markdown",
      "metadata": {
        "id": "IfrHVhZEQP9Y"
      },
      "source": [
        "Display basic statistics of the _df_ object for numeric variables and transpose the resulting _DataFrame_ object."
      ]
    },
    {
      "cell_type": "code",
      "metadata": {
        "id": "tFJFKeMcQFgW"
      },
      "source": [
        "# enter solution here"
      ],
      "execution_count": null,
      "outputs": []
    },
    {
      "cell_type": "markdown",
      "metadata": {
        "id": "J-Zrgdc6QHeh"
      },
      "source": [
        "Display basic statistics of the _df_ object for numeric variables, transpose the resulting _DataFrame_ object and extract the two columns _mean_ and _std_."
      ]
    },
    {
      "cell_type": "code",
      "metadata": {
        "id": "kooWl5F9QL0a"
      },
      "source": [
        "# enter solution here"
      ],
      "execution_count": null,
      "outputs": []
    },
    {
      "cell_type": "markdown",
      "metadata": {
        "id": "733x7eSiQXET"
      },
      "source": [
        "Display basic statistics of the _df_ object for categorical variables and transpose the resulting _DataFrame_ object."
      ]
    },
    {
      "cell_type": "code",
      "metadata": {
        "id": "KIMZUJA5QZCY"
      },
      "source": [
        "# enter solution here"
      ],
      "execution_count": null,
      "outputs": []
    },
    {
      "cell_type": "markdown",
      "metadata": {
        "id": "rVmrhtFaQblU"
      },
      "source": [
        "Check if there are any missing data in the _df_ object."
      ]
    },
    {
      "cell_type": "code",
      "metadata": {
        "id": "XA6lVJ5vQckr"
      },
      "source": [
        "# enter solution here"
      ],
      "execution_count": null,
      "outputs": []
    },
    {
      "cell_type": "markdown",
      "metadata": {
        "id": "PunXd_Ey16so"
      },
      "source": [
        "### <a name='6'></a> Exercise 186\n",
        "Using the _plotly express_ library, build the histogram of the _charges_ variable.\n",
        "\n",
        "Use the _px.histogram()_ function with the following parameters:\n",
        "* width = 800\n",
        "* height = 400\n",
        "* nbins = 50\n",
        "* facet_col = 'smoker'\n",
        "* facet_row = 'sex'\n"
      ]
    },
    {
      "cell_type": "code",
      "metadata": {
        "id": "m-v5FhzYQi7M"
      },
      "source": [
        "# enter solution here"
      ],
      "execution_count": null,
      "outputs": []
    },
    {
      "cell_type": "markdown",
      "metadata": {
        "id": "ygXjdQaHQlI0"
      },
      "source": [
        "Using the _plotly express_ library, find the distribution of the _smoker_ variable.\n",
        "\n",
        "Use the _px.histogram()_ function with the following parameters:\n",
        "* width = 800\n",
        "* height = 400\n",
        "* facet_col = 'sex'\n",
        "* color = 'sex'"
      ]
    },
    {
      "cell_type": "code",
      "metadata": {
        "id": "UDw1aJO0Qn-Y"
      },
      "source": [
        "# enter solution here"
      ],
      "execution_count": null,
      "outputs": []
    },
    {
      "cell_type": "markdown",
      "metadata": {
        "id": "hOhqDRz618Tx"
      },
      "source": [
        "### <a name='7'></a> Exercise 187\n",
        "Convert categorical variables of the _df_ object to 0-1 encoding and assign it to the _df_dummies_ variable.  \n",
        "\n",
        "__Tip:__ Use the _pd.get_dummies()_ function with the `drop_first = True` parameter."
      ]
    },
    {
      "cell_type": "code",
      "metadata": {
        "id": "37bfMDYSQylv"
      },
      "source": [
        "# enter solution here"
      ],
      "execution_count": null,
      "outputs": []
    },
    {
      "cell_type": "markdown",
      "metadata": {
        "id": "TXUd_4631-gw"
      },
      "source": [
        "### <a name='8'></a> Exercise 188\n",
        "Determine the correlations of variables in the _df_dummies_ object and assign it to the _corr_ variable."
      ]
    },
    {
      "cell_type": "code",
      "metadata": {
        "id": "i8bj2nBKQ2pf"
      },
      "source": [
        "# enter solution here"
      ],
      "execution_count": null,
      "outputs": []
    },
    {
      "cell_type": "markdown",
      "metadata": {
        "id": "c_qFyqH3Q5IY"
      },
      "source": [
        "Extract the column from the _corr_ object for the _charges_ variable (as a DataFrame object) and sort the values in descending order."
      ]
    },
    {
      "cell_type": "code",
      "metadata": {
        "id": "wWbkD0uCQ8xj"
      },
      "source": [
        "# enter solution here"
      ],
      "execution_count": null,
      "outputs": []
    },
    {
      "cell_type": "markdown",
      "metadata": {
        "id": "0nIOiqsOQ-6G"
      },
      "source": [
        "Using the _plotly express_ library, create a bar chart for such sorted values. Skip the first element of the object."
      ]
    },
    {
      "cell_type": "code",
      "metadata": {
        "id": "0Ctx0q7aRBCS"
      },
      "source": [
        "# enter solution here"
      ],
      "execution_count": null,
      "outputs": []
    },
    {
      "cell_type": "markdown",
      "metadata": {
        "id": "tgI6xEn-2AQo"
      },
      "source": [
        "### <a name='9'></a> Exercise 189\n",
        "Copy the _df_dummies_ object to the _data_ variable. Then pop the _charges_ column from this object and assign it to the _target_ variable."
      ]
    },
    {
      "cell_type": "code",
      "metadata": {
        "id": "DnAp6s3FRINV"
      },
      "source": [
        "# enter solution here"
      ],
      "execution_count": null,
      "outputs": []
    },
    {
      "cell_type": "markdown",
      "metadata": {
        "id": "QxOEGsSlRJ-Z"
      },
      "source": [
        "Display the first 5 rows of _data_. Make sure the _charges_ column is not in it."
      ]
    },
    {
      "cell_type": "code",
      "metadata": {
        "id": "w0_SfFfwRL5y"
      },
      "source": [
        "# enter solution here"
      ],
      "execution_count": null,
      "outputs": []
    },
    {
      "cell_type": "markdown",
      "metadata": {
        "id": "ZE5tco7LRNsA"
      },
      "source": [
        "Display the first 5 rows of _target_."
      ]
    },
    {
      "cell_type": "code",
      "metadata": {
        "id": "0QKqejV0RPqi"
      },
      "source": [
        "# enter solution here"
      ],
      "execution_count": null,
      "outputs": []
    },
    {
      "cell_type": "markdown",
      "metadata": {
        "id": "wxhpf-uq2B1I"
      },
      "source": [
        "### <a name='10'></a> Exercise 190\n",
        "Using the _scikit-learn_ library and the _train_test_split_ function, divide the data from the _data_ and _target_ objects into a training set (_X\\_train_, _y\\_train_) and a test set (_X\\_test_, _y\\_test_). Assign 20% of the samples to the test set.\n",
        "\n",
        "Display object size:\n",
        "* _X\\_train_\n",
        "* _X\\_test_\n",
        "* _y\\_train_\n",
        "* _y\\_test_"
      ]
    },
    {
      "cell_type": "code",
      "metadata": {
        "id": "YFc0KW6URsuc"
      },
      "source": [
        "# enter solution here"
      ],
      "execution_count": null,
      "outputs": []
    },
    {
      "cell_type": "markdown",
      "metadata": {
        "id": "ncXl1dhbRaYf"
      },
      "source": [
        "Save objects:\n",
        "* _X\\_train_\n",
        "* _X\\_test_\n",
        "* _y\\_train_\n",
        "* _y\\_test_  \n",
        "\n",
        "to csv files with the appropriate name:\n",
        "* X_train.csv\n",
        "* X_test.csv\n",
        "* y_train.csv\n",
        "* y_test.csv\n"
      ]
    },
    {
      "cell_type": "code",
      "metadata": {
        "id": "-xZcs8wMRYTD"
      },
      "source": [
        "# enter solution here"
      ],
      "execution_count": null,
      "outputs": []
    },
    {
      "cell_type": "markdown",
      "metadata": {
        "id": "my74P_PQRg7R"
      },
      "source": [
        "Run the cell below to check."
      ]
    },
    {
      "cell_type": "code",
      "metadata": {
        "id": "8SPfpfGnRfG4"
      },
      "source": [
        "!head -5 X_test.csv\n",
        "!head -5 X_train.csv\n",
        "!head -5 y_train.csv\n",
        "!head -5 y_test.csv"
      ],
      "execution_count": null,
      "outputs": []
    }
  ]
}