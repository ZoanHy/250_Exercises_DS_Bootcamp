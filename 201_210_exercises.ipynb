{
  "nbformat": 4,
  "nbformat_minor": 0,
  "metadata": {
    "colab": {
      "provenance": []
    },
    "kernelspec": {
      "name": "python3",
      "display_name": "Python 3"
    }
  },
  "cells": [
    {
      "cell_type": "markdown",
      "metadata": {
        "id": "WLEgCW5F1hho"
      },
      "source": [
        "## Data Science Bootcamp\n",
        "\n",
        "### Table of contents:\n",
        "* [Import biblioteki](#0)\n",
        "* [Exercise 201](#1)\n",
        "* [Exercise 202](#2)\n",
        "* [Exercise 203](#3)\n",
        "* [Exercise 204](#4)\n",
        "* [Exercise 205](#5)\n",
        "* [Exercise 206](#6)\n",
        "* [Exercise 207](#7)\n",
        "* [Exercise 208](#8)\n",
        "* [Exercise 209](#9)\n",
        "* [Exercise 210](#10)"
      ]
    },
    {
      "cell_type": "markdown",
      "metadata": {
        "id": "zeLOLmTj1kBM"
      },
      "source": [
        "### <a name='0'></a> Import of libraries"
      ]
    },
    {
      "cell_type": "code",
      "metadata": {
        "id": "HXMB7SMe1Wnz"
      },
      "source": [
        "import numpy as np\n",
        "import pandas as pd\n",
        "\n",
        "np.__version__"
      ],
      "execution_count": null,
      "outputs": []
    },
    {
      "cell_type": "markdown",
      "metadata": {
        "id": "cyc70pMe1oCg"
      },
      "source": [
        "### <a name='1'></a> Exercise 201\n",
        "Create the _DataFrame_ object from the _data_ dictionary below and assign it to the _df_ variable."
      ]
    },
    {
      "cell_type": "code",
      "metadata": {
        "id": "mep7oQtCEdVA"
      },
      "source": [
        "data = {\n",
        "    'size': ['XL', 'L', 'M', np.nan, 'M', 'M'],\n",
        "    'color': ['red', 'green', 'blue', 'green', 'red', 'green'],\n",
        "    'gender': ['female', 'male', np.nan, 'female', 'female', 'male'],\n",
        "    'price': [199.0, 89.0, np.nan, 129.0, 79.0, 89.0],\n",
        "    'weight': [500, 450, 300, np.nan, 410, np.nan],\n",
        "    'bought': ['yes', 'no', 'yes', 'no', 'yes', 'no']\n",
        "}\n",
        "\n",
        "# enter solution here"
      ],
      "execution_count": null,
      "outputs": []
    },
    {
      "cell_type": "markdown",
      "metadata": {
        "id": "gaDUPHKoEfaW"
      },
      "source": [
        "Display basic information about the object _df_."
      ]
    },
    {
      "cell_type": "code",
      "metadata": {
        "id": "yT75XEY_EgiP"
      },
      "source": [
        "# enter solution here"
      ],
      "execution_count": null,
      "outputs": []
    },
    {
      "cell_type": "markdown",
      "metadata": {
        "id": "J9pY1rtr1sC0"
      },
      "source": [
        "### <a name='2'></a> Exercise 202\n",
        "Check the number of missing values for individual variables."
      ]
    },
    {
      "cell_type": "code",
      "metadata": {
        "id": "iV_slx8YElkr"
      },
      "source": [
        "# enter solution here"
      ],
      "execution_count": null,
      "outputs": []
    },
    {
      "cell_type": "markdown",
      "metadata": {
        "id": "3AnQcTiREoOL"
      },
      "source": [
        "Check the number of missing values for individual variables. Display percentage of missing values."
      ]
    },
    {
      "cell_type": "code",
      "metadata": {
        "id": "DEZwRfA8EpPD"
      },
      "source": [
        "# enter solution here"
      ],
      "execution_count": null,
      "outputs": []
    },
    {
      "cell_type": "markdown",
      "metadata": {
        "id": "XQLYT2m11wVG"
      },
      "source": [
        "### <a name='3'></a> Exercise 203\n",
        "Using the _scikit-learn_ machine learning library and the _SimpleImputer_ class, fill in the missing values for the _weight_ variable with the mean value. Assign changes to the _df_ object permanently."
      ]
    },
    {
      "cell_type": "code",
      "metadata": {
        "id": "oDYrAJuCEvhi"
      },
      "source": [
        "# enter solution here"
      ],
      "execution_count": null,
      "outputs": []
    },
    {
      "cell_type": "markdown",
      "metadata": {
        "id": "4wc3Oav5Exmt"
      },
      "source": [
        "Display the average value inserted in place of missing _weight_ columns."
      ]
    },
    {
      "cell_type": "code",
      "metadata": {
        "id": "duAOH7GiEzJ3"
      },
      "source": [
        "# enter solution here"
      ],
      "execution_count": null,
      "outputs": []
    },
    {
      "cell_type": "markdown",
      "metadata": {
        "id": "4xTKSUzg10MK"
      },
      "source": [
        "### <a name='4'></a> Exercise 204\n",
        "Using the machine learning library _scikit-learn_ and the _SimpleImputer_ class, fill in the missing values for the _price_ variable with a fixed value of 99.0. Assign changes to the _df_ object permanently."
      ]
    },
    {
      "cell_type": "code",
      "metadata": {
        "id": "5_PcQzdxE5dZ"
      },
      "source": [
        "# enter solution here"
      ],
      "execution_count": null,
      "outputs": []
    },
    {
      "cell_type": "markdown",
      "metadata": {
        "id": "o3HKIKlP15Ro"
      },
      "source": [
        "### <a name='5'></a> Exercise 205\n",
        "Using the machine learning library _scikit-learn_ and the _SimpleImputer_ class, fill in the missing values for the _size_ variable that appears most frequently. Assign changes to the _df_ object permanently."
      ]
    },
    {
      "cell_type": "code",
      "metadata": {
        "id": "krrRYxHyE_XV"
      },
      "source": [
        "# enter solution here"
      ],
      "execution_count": null,
      "outputs": []
    },
    {
      "cell_type": "markdown",
      "metadata": {
        "id": "PunXd_Ey16so"
      },
      "source": [
        "### <a name='6'></a> Exercise 206\n",
        "Before proceeding to the next exercises, reload the  _data_ dictionary into the object _df_."
      ]
    },
    {
      "cell_type": "code",
      "metadata": {
        "id": "2YIVfMM8FFDR"
      },
      "source": [
        "# enter solution here"
      ],
      "execution_count": null,
      "outputs": []
    },
    {
      "cell_type": "markdown",
      "metadata": {
        "id": "fgQR7Br5FLHp"
      },
      "source": [
        "Extract all rows of the _df_ object for which the _weight_ variable is set to _np.nan_."
      ]
    },
    {
      "cell_type": "code",
      "metadata": {
        "id": "Gl46b0IUFRPQ"
      },
      "source": [
        "# enter solution here"
      ],
      "execution_count": null,
      "outputs": []
    },
    {
      "cell_type": "markdown",
      "metadata": {
        "id": "LJbGQI5iFTZw"
      },
      "source": [
        "Extract all rows of the _df_ object for which the _weight_ variable doesn't take the value _np.nan_."
      ]
    },
    {
      "cell_type": "code",
      "metadata": {
        "id": "Rre2FyO2FW9-"
      },
      "source": [
        "# enter solution here"
      ],
      "execution_count": null,
      "outputs": []
    },
    {
      "cell_type": "markdown",
      "metadata": {
        "id": "hOhqDRz618Tx"
      },
      "source": [
        "### <a name='7'></a> Exercise 207\n",
        "Fill all missing values in the _df_ object with 'none'. Don't assign changes to the _df_ variable permanently."
      ]
    },
    {
      "cell_type": "code",
      "metadata": {
        "id": "c-zd1RXcFh3r"
      },
      "source": [
        "# enter solution here"
      ],
      "execution_count": null,
      "outputs": []
    },
    {
      "cell_type": "markdown",
      "metadata": {
        "id": "TXUd_4631-gw"
      },
      "source": [
        "### <a name='8'></a> Exercise 208\n",
        "Romove rows with missing data from the _df_ object. Don't assign changes to the _df_ variable permanently."
      ]
    },
    {
      "cell_type": "code",
      "metadata": {
        "id": "jIuy6vj9Fxrr"
      },
      "source": [
        "# enter solution here"
      ],
      "execution_count": null,
      "outputs": []
    },
    {
      "cell_type": "markdown",
      "metadata": {
        "id": "tgI6xEn-2AQo"
      },
      "source": [
        "### <a name='9'></a> Exercise 209\n",
        "Remove rows with missing data from the _df_ object for which there are at least 5 defined values (otherwise contain two missing _np.nan_). Don't assign changes to the _df_ variable permanently."
      ]
    },
    {
      "cell_type": "code",
      "metadata": {
        "id": "psB7o9xfF5Ls"
      },
      "source": [
        "# enter solution here"
      ],
      "execution_count": null,
      "outputs": []
    },
    {
      "cell_type": "markdown",
      "metadata": {
        "id": "wxhpf-uq2B1I"
      },
      "source": [
        "### <a name='10'></a> Exercise 210\n",
        "Remove rows with missing values from the _df_ object for which there are at least 5 defined values (otherwise they contain two missing values _np.nan_) and fill in the missing values with a fixed value of 400.0. Do not assign changes to the _df_ variable permanently."
      ]
    },
    {
      "cell_type": "code",
      "metadata": {
        "id": "YFc0KW6URsuc"
      },
      "source": [
        "# enter solution here"
      ],
      "execution_count": null,
      "outputs": []
    }
  ]
}