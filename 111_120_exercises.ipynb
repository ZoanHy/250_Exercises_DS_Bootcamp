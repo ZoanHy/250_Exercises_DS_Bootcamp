{
  "nbformat": 4,
  "nbformat_minor": 0,
  "metadata": {
    "colab": {
      "provenance": [],
      "include_colab_link": true
    },
    "kernelspec": {
      "name": "python3",
      "display_name": "Python 3"
    }
  },
  "cells": [
    {
      "cell_type": "markdown",
      "metadata": {
        "id": "view-in-github",
        "colab_type": "text"
      },
      "source": [
        "<a href=\"https://colab.research.google.com/github/ZoanHy/250plus---Exercises-DS-Bootcamp-in-Python/blob/main/111_120_exercises.ipynb\" target=\"_parent\"><img src=\"https://colab.research.google.com/assets/colab-badge.svg\" alt=\"Open In Colab\"/></a>"
      ]
    },
    {
      "cell_type": "markdown",
      "metadata": {
        "id": "WLEgCW5F1hho"
      },
      "source": [
        "## Pandas\n",
        "\n",
        "### Table of contents:\n",
        "* [Import biblioteki](#0)\n",
        "* [Exercise 111](#1)\n",
        "* [Exercise 112](#2)\n",
        "* [Exercise 113](#3)\n",
        "* [Exercise 114](#4)\n",
        "* [Exercise 115](#5)\n",
        "* [Exercise 116](#6)\n",
        "* [Exercise 117](#7)\n",
        "* [Exercise 118](#8)\n",
        "* [Exercise 119](#9)\n",
        "* [Exercise 120](#10)"
      ]
    },
    {
      "cell_type": "markdown",
      "metadata": {
        "id": "zeLOLmTj1kBM"
      },
      "source": [
        "### <a name='0'></a> Import of libraries"
      ]
    },
    {
      "cell_type": "code",
      "metadata": {
        "id": "HXMB7SMe1Wnz",
        "outputId": "63737e37-4538-4f75-d822-cd2717b5f00f",
        "colab": {
          "base_uri": "https://localhost:8080/",
          "height": 35
        }
      },
      "source": [
        "import numpy as np\n",
        "import pandas as pd\n",
        "\n",
        "np.random.seed(42)\n",
        "pd.__version__"
      ],
      "execution_count": 1,
      "outputs": [
        {
          "output_type": "execute_result",
          "data": {
            "text/plain": [
              "'1.4.4'"
            ],
            "application/vnd.google.colaboratory.intrinsic+json": {
              "type": "string"
            }
          },
          "metadata": {},
          "execution_count": 1
        }
      ]
    },
    {
      "cell_type": "markdown",
      "metadata": {
        "id": "cyc70pMe1oCg"
      },
      "source": [
        "### <a name='1'></a> Exercise 111\n",
        "Build the _DatetimeIndex_ object containing the `yyyy-mm-dd` format dates for all days from January 2020 and assign it to the _date_range_ variable.\n",
        "\n",
        "__Expected result:__\n",
        "```\n",
        "DatetimeIndex(['2020-01-01', '2020-01-02', '2020-01-03', '2020-01-04',\n",
        "               '2020-01-05', '2020-01-06', '2020-01-07', '2020-01-08',\n",
        "               '2020-01-09', '2020-01-10', '2020-01-11', '2020-01-12',\n",
        "               '2020-01-13', '2020-01-14', '2020-01-15', '2020-01-16',\n",
        "               '2020-01-17', '2020-01-18', '2020-01-19', '2020-01-20',\n",
        "               '2020-01-21', '2020-01-22', '2020-01-23', '2020-01-24',\n",
        "               '2020-01-25', '2020-01-26', '2020-01-27', '2020-01-28',\n",
        "               '2020-01-29', '2020-01-30', '2020-01-31'],\n",
        "              dtype='datetime64[ns]', freq='D')\n",
        "```"
      ]
    },
    {
      "cell_type": "code",
      "metadata": {
        "id": "r42Mg8niRI4Y",
        "outputId": "c2c4350a-62a8-4db9-d197-e957ce263b0c",
        "colab": {
          "base_uri": "https://localhost:8080/"
        }
      },
      "source": [
        "# enter solution here\n",
        "\n",
        "pd.DatetimeIndex(np.arange('2020-01', '2020-02', dtype='datetime64[D]'))"
      ],
      "execution_count": 2,
      "outputs": [
        {
          "output_type": "execute_result",
          "data": {
            "text/plain": [
              "DatetimeIndex(['2020-01-01', '2020-01-02', '2020-01-03', '2020-01-04',\n",
              "               '2020-01-05', '2020-01-06', '2020-01-07', '2020-01-08',\n",
              "               '2020-01-09', '2020-01-10', '2020-01-11', '2020-01-12',\n",
              "               '2020-01-13', '2020-01-14', '2020-01-15', '2020-01-16',\n",
              "               '2020-01-17', '2020-01-18', '2020-01-19', '2020-01-20',\n",
              "               '2020-01-21', '2020-01-22', '2020-01-23', '2020-01-24',\n",
              "               '2020-01-25', '2020-01-26', '2020-01-27', '2020-01-28',\n",
              "               '2020-01-29', '2020-01-30', '2020-01-31'],\n",
              "              dtype='datetime64[ns]', freq=None)"
            ]
          },
          "metadata": {},
          "execution_count": 2
        }
      ]
    },
    {
      "cell_type": "code",
      "source": [
        "date_range = pd.date_range(start='1/2020', end='2/2020')[:-1]\n",
        "\n",
        "date_range "
      ],
      "metadata": {
        "id": "ozMd85xk69hy",
        "outputId": "30eae8a4-8d13-48ed-958f-d682849ea0e1",
        "colab": {
          "base_uri": "https://localhost:8080/"
        }
      },
      "execution_count": 8,
      "outputs": [
        {
          "output_type": "execute_result",
          "data": {
            "text/plain": [
              "DatetimeIndex(['2020-01-01', '2020-01-02', '2020-01-03', '2020-01-04',\n",
              "               '2020-01-05', '2020-01-06', '2020-01-07', '2020-01-08',\n",
              "               '2020-01-09', '2020-01-10', '2020-01-11', '2020-01-12',\n",
              "               '2020-01-13', '2020-01-14', '2020-01-15', '2020-01-16',\n",
              "               '2020-01-17', '2020-01-18', '2020-01-19', '2020-01-20',\n",
              "               '2020-01-21', '2020-01-22', '2020-01-23', '2020-01-24',\n",
              "               '2020-01-25', '2020-01-26', '2020-01-27', '2020-01-28',\n",
              "               '2020-01-29', '2020-01-30', '2020-01-31'],\n",
              "              dtype='datetime64[ns]', freq='D')"
            ]
          },
          "metadata": {},
          "execution_count": 8
        }
      ]
    },
    {
      "cell_type": "code",
      "source": [
        "date_range = pd.date_range(start='2020', periods=31)\n",
        "\n",
        "date_range "
      ],
      "metadata": {
        "id": "cXZ90-QH-dJe",
        "outputId": "5b7fba6d-0fb0-4832-a902-31972910611e",
        "colab": {
          "base_uri": "https://localhost:8080/"
        }
      },
      "execution_count": 21,
      "outputs": [
        {
          "output_type": "execute_result",
          "data": {
            "text/plain": [
              "DatetimeIndex(['2020-01-01', '2020-01-02', '2020-01-03', '2020-01-04',\n",
              "               '2020-01-05', '2020-01-06', '2020-01-07', '2020-01-08',\n",
              "               '2020-01-09', '2020-01-10', '2020-01-11', '2020-01-12',\n",
              "               '2020-01-13', '2020-01-14', '2020-01-15', '2020-01-16',\n",
              "               '2020-01-17', '2020-01-18', '2020-01-19', '2020-01-20',\n",
              "               '2020-01-21', '2020-01-22', '2020-01-23', '2020-01-24',\n",
              "               '2020-01-25', '2020-01-26', '2020-01-27', '2020-01-28',\n",
              "               '2020-01-29', '2020-01-30', '2020-01-31'],\n",
              "              dtype='datetime64[ns]', freq='D')"
            ]
          },
          "metadata": {},
          "execution_count": 21
        }
      ]
    },
    {
      "cell_type": "markdown",
      "metadata": {
        "id": "iHO3aFVlRNCo"
      },
      "source": [
        "Build the _Series_ object from the _date_range_ variable."
      ]
    },
    {
      "cell_type": "code",
      "metadata": {
        "id": "FuxK6Ly-ROqL",
        "outputId": "b6faa5dc-d558-4010-f4d6-f25790035e66",
        "colab": {
          "base_uri": "https://localhost:8080/"
        }
      },
      "source": [
        "pd.Series(date_range)"
      ],
      "execution_count": 9,
      "outputs": [
        {
          "output_type": "execute_result",
          "data": {
            "text/plain": [
              "0    2020-01-01\n",
              "1    2020-01-02\n",
              "2    2020-01-03\n",
              "3    2020-01-04\n",
              "4    2020-01-05\n",
              "5    2020-01-06\n",
              "6    2020-01-07\n",
              "7    2020-01-08\n",
              "8    2020-01-09\n",
              "9    2020-01-10\n",
              "10   2020-01-11\n",
              "11   2020-01-12\n",
              "12   2020-01-13\n",
              "13   2020-01-14\n",
              "14   2020-01-15\n",
              "15   2020-01-16\n",
              "16   2020-01-17\n",
              "17   2020-01-18\n",
              "18   2020-01-19\n",
              "19   2020-01-20\n",
              "20   2020-01-21\n",
              "21   2020-01-22\n",
              "22   2020-01-23\n",
              "23   2020-01-24\n",
              "24   2020-01-25\n",
              "25   2020-01-26\n",
              "26   2020-01-27\n",
              "27   2020-01-28\n",
              "28   2020-01-29\n",
              "29   2020-01-30\n",
              "30   2020-01-31\n",
              "dtype: datetime64[ns]"
            ]
          },
          "metadata": {},
          "execution_count": 9
        }
      ]
    },
    {
      "cell_type": "markdown",
      "metadata": {
        "id": "J9pY1rtr1sC0"
      },
      "source": [
        "### <a name='2'></a> Exercise 112\n",
        "Build the _DatetimeIndex_ object containing the dates in the `yyyy-mm-dd` format for all Mondays from 2020 and assign it to the _date_range_ variable."
      ]
    },
    {
      "cell_type": "code",
      "source": [
        "pd.bdate_range(start='2020', end='2021', weekmask='Mon', freq='C')"
      ],
      "metadata": {
        "id": "OPVq-NCj9O1p",
        "outputId": "7722bffc-bdda-4297-bb9b-a1df94a27242",
        "colab": {
          "base_uri": "https://localhost:8080/"
        }
      },
      "execution_count": 20,
      "outputs": [
        {
          "output_type": "execute_result",
          "data": {
            "text/plain": [
              "DatetimeIndex(['2020-01-06', '2020-01-13', '2020-01-20', '2020-01-27',\n",
              "               '2020-02-03', '2020-02-10', '2020-02-17', '2020-02-24',\n",
              "               '2020-03-02', '2020-03-09', '2020-03-16', '2020-03-23',\n",
              "               '2020-03-30', '2020-04-06', '2020-04-13', '2020-04-20',\n",
              "               '2020-04-27', '2020-05-04', '2020-05-11', '2020-05-18',\n",
              "               '2020-05-25', '2020-06-01', '2020-06-08', '2020-06-15',\n",
              "               '2020-06-22', '2020-06-29', '2020-07-06', '2020-07-13',\n",
              "               '2020-07-20', '2020-07-27', '2020-08-03', '2020-08-10',\n",
              "               '2020-08-17', '2020-08-24', '2020-08-31', '2020-09-07',\n",
              "               '2020-09-14', '2020-09-21', '2020-09-28', '2020-10-05',\n",
              "               '2020-10-12', '2020-10-19', '2020-10-26', '2020-11-02',\n",
              "               '2020-11-09', '2020-11-16', '2020-11-23', '2020-11-30',\n",
              "               '2020-12-07', '2020-12-14', '2020-12-21', '2020-12-28'],\n",
              "              dtype='datetime64[ns]', freq='C')"
            ]
          },
          "metadata": {},
          "execution_count": 20
        }
      ]
    },
    {
      "cell_type": "code",
      "metadata": {
        "id": "AlwIab7ZRYZV",
        "outputId": "65d68974-9e83-461f-e09c-654a8cb26639",
        "colab": {
          "base_uri": "https://localhost:8080/",
          "height": 339
        }
      },
      "source": [
        "# enter solution here\n",
        "\n",
        "pd.bdate_range(start='2020', end='2021', weekmask='Mon')[:-1]"
      ],
      "execution_count": 15,
      "outputs": [
        {
          "output_type": "error",
          "ename": "ValueError",
          "evalue": "ignored",
          "traceback": [
            "\u001b[0;31m---------------------------------------------------------------------------\u001b[0m",
            "\u001b[0;31mValueError\u001b[0m                                Traceback (most recent call last)",
            "\u001b[0;32m<ipython-input-15-07f1a2ec0051>\u001b[0m in \u001b[0;36m<module>\u001b[0;34m\u001b[0m\n\u001b[1;32m      1\u001b[0m \u001b[0;31m# enter solution here\u001b[0m\u001b[0;34m\u001b[0m\u001b[0;34m\u001b[0m\u001b[0m\n\u001b[1;32m      2\u001b[0m \u001b[0;34m\u001b[0m\u001b[0m\n\u001b[0;32m----> 3\u001b[0;31m \u001b[0mpd\u001b[0m\u001b[0;34m.\u001b[0m\u001b[0mbdate_range\u001b[0m\u001b[0;34m(\u001b[0m\u001b[0mstart\u001b[0m\u001b[0;34m=\u001b[0m\u001b[0;34m'2020'\u001b[0m\u001b[0;34m,\u001b[0m \u001b[0mend\u001b[0m\u001b[0;34m=\u001b[0m\u001b[0;34m'2021'\u001b[0m\u001b[0;34m,\u001b[0m \u001b[0mweekmask\u001b[0m\u001b[0;34m=\u001b[0m\u001b[0;34m'Mon'\u001b[0m\u001b[0;34m)\u001b[0m\u001b[0;34m[\u001b[0m\u001b[0;34m:\u001b[0m\u001b[0;34m-\u001b[0m\u001b[0;36m1\u001b[0m\u001b[0;34m]\u001b[0m\u001b[0;34m\u001b[0m\u001b[0;34m\u001b[0m\u001b[0m\n\u001b[0m",
            "\u001b[0;32m/usr/local/lib/python3.9/dist-packages/pandas/core/indexes/datetimes.py\u001b[0m in \u001b[0;36mbdate_range\u001b[0;34m(start, end, periods, freq, tz, normalize, name, weekmask, holidays, closed, inclusive, **kwargs)\u001b[0m\n\u001b[1;32m   1194\u001b[0m             \u001b[0;34mf\"weekmask are passed, got frequency {freq}\"\u001b[0m\u001b[0;34m\u001b[0m\u001b[0;34m\u001b[0m\u001b[0m\n\u001b[1;32m   1195\u001b[0m         )\n\u001b[0;32m-> 1196\u001b[0;31m         \u001b[0;32mraise\u001b[0m \u001b[0mValueError\u001b[0m\u001b[0;34m(\u001b[0m\u001b[0mmsg\u001b[0m\u001b[0;34m)\u001b[0m\u001b[0;34m\u001b[0m\u001b[0;34m\u001b[0m\u001b[0m\n\u001b[0m\u001b[1;32m   1197\u001b[0m \u001b[0;34m\u001b[0m\u001b[0m\n\u001b[1;32m   1198\u001b[0m     return date_range(\n",
            "\u001b[0;31mValueError\u001b[0m: a custom frequency string is required when holidays or weekmask are passed, got frequency B"
          ]
        }
      ]
    },
    {
      "cell_type": "markdown",
      "metadata": {
        "id": "XQLYT2m11wVG"
      },
      "source": [
        "### <a name='3'></a> Exercise 113\n",
        "Build the _DatetimeIndex_ object containing the dates in the format `yyyy-mm-dd hh: mm: ss` for January 1, 2021 with a time interval of 1h and assign to the variable _date_range_.\n",
        "\n",
        "__Expected result:__\n",
        "```\n",
        "DatetimeIndex(['2021-01-01 00:00:00', '2021-01-01 01:00:00',\n",
        "               '2021-01-01 02:00:00', '2021-01-01 03:00:00',\n",
        "               '2021-01-01 04:00:00', '2021-01-01 05:00:00',\n",
        "               '2021-01-01 06:00:00', '2021-01-01 07:00:00',\n",
        "               '2021-01-01 08:00:00', '2021-01-01 09:00:00',\n",
        "               '2021-01-01 10:00:00', '2021-01-01 11:00:00',\n",
        "               '2021-01-01 12:00:00', '2021-01-01 13:00:00',\n",
        "               '2021-01-01 14:00:00', '2021-01-01 15:00:00',\n",
        "               '2021-01-01 16:00:00', '2021-01-01 17:00:00',\n",
        "               '2021-01-01 18:00:00', '2021-01-01 19:00:00',\n",
        "               '2021-01-01 20:00:00', '2021-01-01 21:00:00',\n",
        "               '2021-01-01 22:00:00', '2021-01-01 23:00:00'],\n",
        "              dtype='datetime64[ns]', freq='H')\n",
        "```"
      ]
    },
    {
      "cell_type": "code",
      "metadata": {
        "id": "o7gP6i--Rj7e"
      },
      "source": [
        "# enter solution here"
      ],
      "execution_count": null,
      "outputs": []
    },
    {
      "cell_type": "markdown",
      "metadata": {
        "id": "4xTKSUzg10MK"
      },
      "source": [
        "### <a name='4'></a> Exercise 114\n",
        "Build the _DataFrame_ object below.\n",
        "\n",
        "__Tips:__ The _day_ column contains dates from March 1, 2021 to March 31, 2021. The column _day_of_year_ is the day number of the whole year.\n",
        "\n",
        "```\n",
        "      day\t       day_of_year\n",
        " 0\t2021-03-01\t60\n",
        " 1\t2021-03-02\t61\n",
        " 2\t2021-03-03\t62\n",
        " 3\t2021-03-04\t63\n",
        " 4\t2021-03-05\t64\n",
        " 5\t2021-03-06\t65\n",
        " 6\t2021-03-07\t66\n",
        " 7\t2021-03-08\t67\n",
        " 8\t2021-03-09\t68\n",
        " 9\t2021-03-10\t69\n",
        "10\t2021-03-11\t70\n",
        "11\t2021-03-12\t71\n",
        "12\t2021-03-13\t72\n",
        "13\t2021-03-14\t73\n",
        "14\t2021-03-15\t74\n",
        "15\t2021-03-16\t75\n",
        "16\t2021-03-17\t76\n",
        "17\t2021-03-18\t77\n",
        "18\t2021-03-19\t78\n",
        "19\t2021-03-20\t79\n",
        "20\t2021-03-21\t80\n",
        "21\t2021-03-22\t81\n",
        "22\t2021-03-23\t82\n",
        "23\t2021-03-24\t83\n",
        "24\t2021-03-25\t84\n",
        "25\t2021-03-26\t85\n",
        "26\t2021-03-27\t86\n",
        "27\t2021-03-28\t87\n",
        "28\t2021-03-29\t88\n",
        "29\t2021-03-30\t89\n",
        "30\t2021-03-31\t90\n",
        "```"
      ]
    },
    {
      "cell_type": "code",
      "metadata": {
        "id": "rHglGu-5R0--"
      },
      "source": [
        "# enter solution here"
      ],
      "execution_count": null,
      "outputs": []
    },
    {
      "cell_type": "markdown",
      "metadata": {
        "id": "o3HKIKlP15Ro"
      },
      "source": [
        "### <a name='5'></a> Exercise 115\n",
        "\n",
        "The following _data_dict_ dictionary is given.\n",
        "```\n",
        "data_dict = {\n",
        "    'normal': np.random.normal(loc=0, scale=1, size=1000),\n",
        "    'uniform': np.random.uniform(low=0, high=1, size=1000),\n",
        "    'binomial': np.random.binomial(n=1, p=0.2, size=1000)\n",
        "}\n",
        "```\n",
        "Build the _DateFrame_ object from this dictionary. Additionally, as an index, add a date from 01/01/2020 and assign it to the _df_ variable.\n",
        "\n"
      ]
    },
    {
      "cell_type": "code",
      "metadata": {
        "id": "n8K9h0j-SBNy"
      },
      "source": [
        "data_dict = {\n",
        "    'normal': np.random.normal(loc=0, scale=1, size=1000),\n",
        "    'uniform': np.random.uniform(low=0, high=1, size=1000),\n",
        "    'binomial': np.random.binomial(n=1, p=0.2, size=1000)\n",
        "}\n",
        "\n",
        "# enter solution here"
      ],
      "execution_count": null,
      "outputs": []
    },
    {
      "cell_type": "markdown",
      "metadata": {
        "id": "PunXd_Ey16so"
      },
      "source": [
        "### <a name='6'></a> Exercise 116\n",
        "Display the first 10 rows of the _df_ object from the previous exercise."
      ]
    },
    {
      "cell_type": "code",
      "metadata": {
        "id": "mMkcu2aZSInw"
      },
      "source": [
        "# enter solution here"
      ],
      "execution_count": null,
      "outputs": []
    },
    {
      "cell_type": "markdown",
      "metadata": {
        "id": "_yCTUDkKSK2U"
      },
      "source": [
        "Display the last 8 rows of the df object from the previous exercise."
      ]
    },
    {
      "cell_type": "code",
      "metadata": {
        "id": "ewwudTKRSM10"
      },
      "source": [
        "# enter solution here"
      ],
      "execution_count": null,
      "outputs": []
    },
    {
      "cell_type": "markdown",
      "metadata": {
        "id": "hOhqDRz618Tx"
      },
      "source": [
        "### <a name='7'></a> Exercise 117\n",
        "Display basic information about the _df_ object (number of rows, number of columns, type of variables)."
      ]
    },
    {
      "cell_type": "code",
      "metadata": {
        "id": "qRbNt5JsSUZV"
      },
      "source": [
        "# enter solution here"
      ],
      "execution_count": null,
      "outputs": []
    },
    {
      "cell_type": "markdown",
      "metadata": {
        "id": "NvM6GOcrSXDa"
      },
      "source": [
        "Display basic statistics of _df_ (mean value, deviation, min, max, median)."
      ]
    },
    {
      "cell_type": "code",
      "metadata": {
        "id": "vofzFUSMSbjj"
      },
      "source": [
        "# enter solution here"
      ],
      "execution_count": null,
      "outputs": []
    },
    {
      "cell_type": "markdown",
      "metadata": {
        "id": "TXUd_4631-gw"
      },
      "source": [
        "### <a name='8'></a> Exercise 118\n",
        "Import the _seaborn_ library for data visualization."
      ]
    },
    {
      "cell_type": "code",
      "metadata": {
        "id": "GNs9q2T3ShLm"
      },
      "source": [
        "import seaborn as sns\n",
        "\n",
        "sns.set()"
      ],
      "execution_count": null,
      "outputs": []
    },
    {
      "cell_type": "markdown",
      "metadata": {
        "id": "6DfIMJlRSizp"
      },
      "source": [
        "Using the _pd.DataFrame.plot_ method, build histograms for the next three variables.\n",
        "* normal (20 bins)"
      ]
    },
    {
      "cell_type": "code",
      "metadata": {
        "id": "YAfApGLSSnBe"
      },
      "source": [
        "# enter solution here"
      ],
      "execution_count": null,
      "outputs": []
    },
    {
      "cell_type": "markdown",
      "metadata": {
        "id": "OGF_a8UsSr3h"
      },
      "source": [
        "* uniform (30 bins)"
      ]
    },
    {
      "cell_type": "code",
      "metadata": {
        "id": "RBgfpmVvStfz"
      },
      "source": [
        "# enter solution here"
      ],
      "execution_count": null,
      "outputs": []
    },
    {
      "cell_type": "markdown",
      "metadata": {
        "id": "mnmeaNTSSu4J"
      },
      "source": [
        "* binomial"
      ]
    },
    {
      "cell_type": "code",
      "metadata": {
        "id": "qCfo7CtoSwJG"
      },
      "source": [
        "# enter solution here"
      ],
      "execution_count": null,
      "outputs": []
    },
    {
      "cell_type": "markdown",
      "metadata": {
        "id": "tgI6xEn-2AQo"
      },
      "source": [
        "### <a name='9'></a> Exercise 119\n",
        "Save the _df_ object to the _'dataframe.csv'_ file."
      ]
    },
    {
      "cell_type": "code",
      "metadata": {
        "id": "zTNl1TtiS1MM"
      },
      "source": [
        "# enter solution here"
      ],
      "execution_count": null,
      "outputs": []
    },
    {
      "cell_type": "markdown",
      "metadata": {
        "id": "cceYif526ftD"
      },
      "source": [
        "Check the solution"
      ]
    },
    {
      "cell_type": "code",
      "metadata": {
        "id": "tW1RKFhZS2YM"
      },
      "source": [
        "!head -5 dataframe.csv"
      ],
      "execution_count": null,
      "outputs": []
    },
    {
      "cell_type": "markdown",
      "metadata": {
        "id": "wxhpf-uq2B1I"
      },
      "source": [
        "### <a name='10'></a> Exercise 120\n",
        "Load the _dataframe.csv_ file into the _df_new_ variable (remember to load the index correctly)."
      ]
    },
    {
      "cell_type": "code",
      "metadata": {
        "id": "YFc0KW6URsuc"
      },
      "source": [
        "# enter solution here"
      ],
      "execution_count": null,
      "outputs": []
    }
  ]
}