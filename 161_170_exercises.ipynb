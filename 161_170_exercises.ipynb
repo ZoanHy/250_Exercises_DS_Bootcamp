{
  "nbformat": 4,
  "nbformat_minor": 0,
  "metadata": {
    "colab": {
      "provenance": []
    },
    "kernelspec": {
      "name": "python3",
      "display_name": "Python 3"
    }
  },
  "cells": [
    {
      "cell_type": "markdown",
      "metadata": {
        "id": "WLEgCW5F1hho"
      },
      "source": [
        "## Pandas\n",
        "\n",
        "### Table of contents:\n",
        "* [Import biblioteki](#0)\n",
        "* [Exercise 161](#1)\n",
        "* [Exercise 162](#2)\n",
        "* [Exercise 163](#3)\n",
        "* [Exercise 164](#4)\n",
        "* [Exercise 165](#5)\n",
        "* [Exercise 166](#6)\n",
        "* [Exercise 167](#7)\n",
        "* [Exercise 168](#8)\n",
        "* [Exercise 169](#9)\n",
        "* [Exercise 170](#10)"
      ]
    },
    {
      "cell_type": "markdown",
      "metadata": {
        "id": "zeLOLmTj1kBM"
      },
      "source": [
        "### <a name='0'></a> Import of libraries"
      ]
    },
    {
      "cell_type": "code",
      "metadata": {
        "id": "HXMB7SMe1Wnz"
      },
      "source": [
        "import numpy as np\n",
        "import pandas as pd\n",
        "\n",
        "pd.options.display.float_format = '{:.2f}'.format\n",
        "np.__version__"
      ],
      "execution_count": null,
      "outputs": []
    },
    {
      "cell_type": "markdown",
      "metadata": {
        "id": "cyc70pMe1oCg"
      },
      "source": [
        "### <a name='1'></a> Exercise 161\n",
        "Load the csv file into the _DataFrame_ object named _df_:\n",
        "\n",
        "* https://storage.googleapis.com/esmartdata-courses-files/dash-course/data.csv\n",
        "\n",
        "Set the index to the first column. Display object _df_.\n"
      ]
    },
    {
      "cell_type": "code",
      "metadata": {
        "id": "sm106yL9QlXN"
      },
      "source": [
        "# enter solution here"
      ],
      "execution_count": null,
      "outputs": []
    },
    {
      "cell_type": "markdown",
      "metadata": {
        "id": "vSZHUS0EQpsP"
      },
      "source": [
        "Display information about the object _df_."
      ]
    },
    {
      "cell_type": "code",
      "metadata": {
        "id": "ccUd_NwAQrLN"
      },
      "source": [
        "# enter solution here"
      ],
      "execution_count": null,
      "outputs": []
    },
    {
      "cell_type": "markdown",
      "metadata": {
        "id": "cVdfJEkaQtLa"
      },
      "source": [
        "Display basic statistics of an object _df_."
      ]
    },
    {
      "cell_type": "code",
      "metadata": {
        "id": "ohvvuG5oQux2"
      },
      "source": [
        "# enter solution here"
      ],
      "execution_count": null,
      "outputs": []
    },
    {
      "cell_type": "markdown",
      "metadata": {
        "id": "J9pY1rtr1sC0"
      },
      "source": [
        "### <a name='2'></a> Exercise 162\n",
        "Find the list containing the names of all columns of the _df_ object."
      ]
    },
    {
      "cell_type": "code",
      "metadata": {
        "id": "ctzOgqrdQ0qG"
      },
      "source": [
        "# enter solution here"
      ],
      "execution_count": null,
      "outputs": []
    },
    {
      "cell_type": "markdown",
      "metadata": {
        "id": "PI0T1iBTQ3JW"
      },
      "source": [
        "From the df object, remove the column named New_Price and display the first 5 rows."
      ]
    },
    {
      "cell_type": "code",
      "metadata": {
        "id": "IxyA6pAnQ5zW"
      },
      "source": [
        "# enter solution here"
      ],
      "execution_count": null,
      "outputs": []
    },
    {
      "cell_type": "markdown",
      "metadata": {
        "id": "XQLYT2m11wVG"
      },
      "source": [
        "### <a name='3'></a> Exercise 163\n",
        "Find the number of missing values for each object variable _df_."
      ]
    },
    {
      "cell_type": "code",
      "metadata": {
        "id": "LaqLuJdrQ9rj"
      },
      "source": [
        "# enter solution here"
      ],
      "execution_count": null,
      "outputs": []
    },
    {
      "cell_type": "markdown",
      "metadata": {
        "id": "i9F9lUKWQ_yW"
      },
      "source": [
        "Delete all rows with missing values in the _df_ object. Use the `inplace = True` parameter."
      ]
    },
    {
      "cell_type": "code",
      "metadata": {
        "id": "omlh9c3NRGgx"
      },
      "source": [
        "# enter solution here"
      ],
      "execution_count": null,
      "outputs": []
    },
    {
      "cell_type": "markdown",
      "metadata": {
        "id": "4xTKSUzg10MK"
      },
      "source": [
        "### <a name='4'></a> Exercise 164\n",
        "Replace all letters in column names with lowercase letters, e.g.\n",
        "* Name -> name\n",
        "* Fuel_Type -> fuel_type\n",
        "\n",
        "Display the first five rows using the _head()_ method."
      ]
    },
    {
      "cell_type": "code",
      "metadata": {
        "id": "l4TeU5ktRNbq"
      },
      "source": [
        "# enter solution here"
      ],
      "execution_count": null,
      "outputs": []
    },
    {
      "cell_type": "markdown",
      "metadata": {
        "id": "o3HKIKlP15Ro"
      },
      "source": [
        "### <a name='5'></a> Exercise 165\n",
        "Find the distribution of the _owner_type_ variable."
      ]
    },
    {
      "cell_type": "code",
      "metadata": {
        "id": "g_eXFvvkRU58"
      },
      "source": [
        "# enter solution here"
      ],
      "execution_count": null,
      "outputs": []
    },
    {
      "cell_type": "markdown",
      "metadata": {
        "id": "DUaX0rDIRW5-"
      },
      "source": [
        "Find the distribution of the _engine_ variable."
      ]
    },
    {
      "cell_type": "code",
      "metadata": {
        "id": "UkkF9df_RZVN"
      },
      "source": [
        "# enter solution here"
      ],
      "execution_count": null,
      "outputs": []
    },
    {
      "cell_type": "markdown",
      "metadata": {
        "id": "SXkWebdpRcOK"
      },
      "source": [
        "Note that the variable _engine_ is of type _object_. Remove the last 3 characters from each element and convert to _int_. Display the first five rows using the _head()_ method."
      ]
    },
    {
      "cell_type": "code",
      "metadata": {
        "id": "xCXD_8hTRkBk"
      },
      "source": [
        "# enter solution here"
      ],
      "execution_count": null,
      "outputs": []
    },
    {
      "cell_type": "markdown",
      "metadata": {
        "id": "PunXd_Ey16so"
      },
      "source": [
        "### <a name='6'></a> Exercise 166\n",
        "Look at the distribution of the _power_ variable. Note that this variable also has missing values in the form of the _'null bhp'_ value. Replace these values for _power_ with _np.nan_. Use the _np.where()_ function for this."
      ]
    },
    {
      "cell_type": "code",
      "metadata": {
        "id": "ir0UbTteRsa-"
      },
      "source": [
        "# enter solution here"
      ],
      "execution_count": null,
      "outputs": []
    },
    {
      "cell_type": "markdown",
      "metadata": {
        "id": "SVvw53zCRuwE"
      },
      "source": [
        "Delete all rows with missing values again."
      ]
    },
    {
      "cell_type": "code",
      "metadata": {
        "id": "KH2h0aSFRxgT"
      },
      "source": [
        "# enter solution here"
      ],
      "execution_count": null,
      "outputs": []
    },
    {
      "cell_type": "markdown",
      "metadata": {
        "id": "hOhqDRz618Tx"
      },
      "source": [
        "### <a name='7'></a> Exercise 167\n",
        "Note that the _power_ variable is of type _object_. Remove the last 4 characters from each element and convert to float type.\n",
        "\n",
        "Display the first five rows using the _head()_ method."
      ]
    },
    {
      "cell_type": "code",
      "metadata": {
        "id": "E9fb8tKQR6Uy"
      },
      "source": [
        "# enter solution here"
      ],
      "execution_count": null,
      "outputs": []
    },
    {
      "cell_type": "markdown",
      "metadata": {
        "id": "TXUd_4631-gw"
      },
      "source": [
        "### <a name='8'></a> Exercise 168\n",
        "Group data at year level (_year_) and count the number of rows for each year."
      ]
    },
    {
      "cell_type": "code",
      "metadata": {
        "id": "LVXZwHSWSBAa"
      },
      "source": [
        "# enter solution here"
      ],
      "execution_count": null,
      "outputs": []
    },
    {
      "cell_type": "markdown",
      "metadata": {
        "id": "tgI6xEn-2AQo"
      },
      "source": [
        "### <a name='9'></a> Exercise 169\n",
        "Check the distribution of the _transmission_ variable."
      ]
    },
    {
      "cell_type": "code",
      "metadata": {
        "id": "2E0nxUZBSGKP"
      },
      "source": [
        "# enter solution here"
      ],
      "execution_count": null,
      "outputs": []
    },
    {
      "cell_type": "markdown",
      "metadata": {
        "id": "MNBsVr3GSIbK"
      },
      "source": [
        "Perform the following mapping of the _transmission_ variable:\n",
        "* Manual -> 0\n",
        "* Automatic -> 1\n",
        "\n",
        "Display the first five rows using the _head()_ method."
      ]
    },
    {
      "cell_type": "code",
      "metadata": {
        "id": "Vh2QOZgeSMOc"
      },
      "source": [
        "# enter solution here"
      ],
      "execution_count": null,
      "outputs": []
    },
    {
      "cell_type": "markdown",
      "metadata": {
        "id": "wxhpf-uq2B1I"
      },
      "source": [
        "### <a name='10'></a> Exercise 170\n",
        "Save the _df_ object to the _car.csv_ file (do not save the index)."
      ]
    },
    {
      "cell_type": "code",
      "metadata": {
        "id": "YFc0KW6URsuc"
      },
      "source": [
        "# enter solution here"
      ],
      "execution_count": null,
      "outputs": []
    },
    {
      "cell_type": "markdown",
      "metadata": {
        "id": "a3AHAkTsSSLt"
      },
      "source": [
        "Run the following instructions to check."
      ]
    },
    {
      "cell_type": "code",
      "metadata": {
        "id": "SaaaiYwNSQVn"
      },
      "source": [
        "!head car.csv"
      ],
      "execution_count": null,
      "outputs": []
    }
  ]
}