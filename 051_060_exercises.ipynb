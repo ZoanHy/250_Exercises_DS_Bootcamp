{
  "nbformat": 4,
  "nbformat_minor": 0,
  "metadata": {
    "colab": {
      "provenance": [],
      "include_colab_link": true
    },
    "kernelspec": {
      "name": "python3",
      "display_name": "Python 3"
    }
  },
  "cells": [
    {
      "cell_type": "markdown",
      "metadata": {
        "id": "view-in-github",
        "colab_type": "text"
      },
      "source": [
        "<a href=\"https://colab.research.google.com/github/ZoanHy/250plus---Exercises-DS-Bootcamp-in-Python/blob/main/051_060_exercises.ipynb\" target=\"_parent\"><img src=\"https://colab.research.google.com/assets/colab-badge.svg\" alt=\"Open In Colab\"/></a>"
      ]
    },
    {
      "cell_type": "markdown",
      "metadata": {
        "id": "WLEgCW5F1hho"
      },
      "source": [
        "## Numpy\n",
        "\n",
        "### Table of contents:\n",
        "* [Import biblioteki](#0)\n",
        "* [Exercise 51](#1)\n",
        "* [Exercise 52](#2)\n",
        "* [Exercise 53](#3)\n",
        "* [Exercise 54](#4)\n",
        "* [Exercise 55](#5)\n",
        "* [Exercise 56](#6)\n",
        "* [Exercise 57](#7)\n",
        "* [Exercise 58](#8)\n",
        "* [Exercise 59](#9)\n",
        "* [Exercise 60](#10)"
      ]
    },
    {
      "cell_type": "markdown",
      "metadata": {
        "id": "zeLOLmTj1kBM"
      },
      "source": [
        "### <a name='0'></a> Import of libraries"
      ]
    },
    {
      "cell_type": "code",
      "metadata": {
        "id": "HXMB7SMe1Wnz",
        "outputId": "7db2748d-6aca-448c-d9ff-647497f088ce",
        "colab": {
          "base_uri": "https://localhost:8080/",
          "height": 35
        }
      },
      "source": [
        "import numpy as np\n",
        "\n",
        "np.__version__"
      ],
      "execution_count": 1,
      "outputs": [
        {
          "output_type": "execute_result",
          "data": {
            "text/plain": [
              "'1.22.4'"
            ],
            "application/vnd.google.colaboratory.intrinsic+json": {
              "type": "string"
            }
          },
          "metadata": {},
          "execution_count": 1
        }
      ]
    },
    {
      "cell_type": "markdown",
      "metadata": {
        "id": "cyc70pMe1oCg"
      },
      "source": [
        "### <a name='1'></a> Exercise 51\n",
        "Two arrays $ A $ and $ B $ are given below:\n",
        "\n",
        "```\n",
        "A = np.array([[3, 4, 5],\n",
        "              [8, 3, 1]])\n",
        "B = np.array([[0, 5, 2],\n",
        "              [4, 2, 1]])\n",
        "```\n",
        "* Concatenate these arrays as follows:\n",
        "\n",
        "```\n",
        "array([[3, 4, 5],\n",
        "       [8, 3, 1],\n",
        "       [0, 5, 2],\n",
        "       [4, 2, 1]])\n",
        "```\n",
        "\n",
        "__Tip:__ Use the _np.concatenate()_ function."
      ]
    },
    {
      "cell_type": "code",
      "metadata": {
        "id": "5MXU6p-oTHHs",
        "outputId": "4c1bbf15-39cc-4f78-d9ff-aac24612ffab",
        "colab": {
          "base_uri": "https://localhost:8080/"
        }
      },
      "source": [
        "# enter solution here\n",
        "\n",
        "A = np.array([[3, 4, 5],\n",
        "              [8, 3, 1]])\n",
        "B = np.array([[0, 5, 2],\n",
        "              [4, 2, 1]])\n",
        "\n",
        "np.concatenate((A, B))"
      ],
      "execution_count": 2,
      "outputs": [
        {
          "output_type": "execute_result",
          "data": {
            "text/plain": [
              "array([[3, 4, 5],\n",
              "       [8, 3, 1],\n",
              "       [0, 5, 2],\n",
              "       [4, 2, 1]])"
            ]
          },
          "metadata": {},
          "execution_count": 2
        }
      ]
    },
    {
      "cell_type": "markdown",
      "metadata": {
        "id": "G1YmiO8PTO3g"
      },
      "source": [
        "* Concatenate these arrays as follows:\n",
        "\n",
        "```\n",
        "array([[3, 4, 5, 0, 5, 2],\n",
        "       [8, 3, 1, 4, 2, 1]])\n",
        "```\n",
        "__Tip:__ Use the _np.concatenate()_ function."
      ]
    },
    {
      "cell_type": "code",
      "metadata": {
        "id": "0cnB_nezTTxN",
        "outputId": "fb342184-74e6-4368-fe3b-10e25d6f9360",
        "colab": {
          "base_uri": "https://localhost:8080/"
        }
      },
      "source": [
        "# enter solution here\n",
        "\n",
        "np.concatenate((A, B), axis=1)"
      ],
      "execution_count": 3,
      "outputs": [
        {
          "output_type": "execute_result",
          "data": {
            "text/plain": [
              "array([[3, 4, 5, 0, 5, 2],\n",
              "       [8, 3, 1, 4, 2, 1]])"
            ]
          },
          "metadata": {},
          "execution_count": 3
        }
      ]
    },
    {
      "cell_type": "markdown",
      "metadata": {
        "id": "J9pY1rtr1sC0"
      },
      "source": [
        "### <a name='2'></a> Exercise 52\n",
        "The first array is given containing the data (_data_) and the second array containing the target class (_target_) for the given row:\n",
        "\n",
        "```\n",
        "data = np.array([[4.3, 4.2],\n",
        "                 [3.1, 3.6]])\n",
        "target = np.array([[0],\n",
        "                   [1]])\n",
        "```"
      ]
    },
    {
      "cell_type": "markdown",
      "metadata": {
        "id": "ymdZWtG_TnS8"
      },
      "source": [
        "Concatenate these arrays into one as shown below:\n",
        "\n",
        "```\n",
        "array([[4.3, 4.2, 0. ],\n",
        "       [3.1, 3.6, 1. ]])\n",
        "```"
      ]
    },
    {
      "cell_type": "code",
      "metadata": {
        "id": "yjMRep8ATq4C",
        "outputId": "6cb67bf9-0c8c-4baf-e4bc-28131d0e676c",
        "colab": {
          "base_uri": "https://localhost:8080/"
        }
      },
      "source": [
        "# enter solution here\n",
        "\n",
        "data = np.array([[4.3, 4.2],\n",
        "                 [3.1, 3.6]])\n",
        "target = np.array([[0],\n",
        "                   [1]])\n",
        "\n",
        "np.concatenate((data, target), axis=1)"
      ],
      "execution_count": 4,
      "outputs": [
        {
          "output_type": "execute_result",
          "data": {
            "text/plain": [
              "array([[4.3, 4.2, 0. ],\n",
              "       [3.1, 3.6, 1. ]])"
            ]
          },
          "metadata": {},
          "execution_count": 4
        }
      ]
    },
    {
      "cell_type": "markdown",
      "metadata": {
        "id": "XQLYT2m11wVG"
      },
      "source": [
        "### <a name='3'></a> Exercise 53\n",
        "The following three one-dimensional arrays are given:\n",
        "```\n",
        "feature1 = np.array([1.6, 0.9, 2.2])\n",
        "feature2 = np.array([0.4, 1.3, 3.2])\n",
        "feature3 = np.array([1.4, 0.3, 1.2])\n",
        "```\n",
        "Transform each of these arrays into a column and concatenate them into one large array.\n",
        "\n",
        "__Expected result:__\n",
        "```\n",
        "array([[1.6, 0.4, 1.4],\n",
        "       [0.9, 1.3, 0.3],\n",
        "       [2.2, 3.2, 1.2]])\n",
        "```\n",
        "__Tip:__ Use the function _np.column_stack()_.\n"
      ]
    },
    {
      "cell_type": "code",
      "metadata": {
        "id": "F83u7wvHT7au",
        "outputId": "54592e04-697f-4edb-8109-843aab203f59",
        "colab": {
          "base_uri": "https://localhost:8080/"
        }
      },
      "source": [
        "# enter solution here\n",
        "\n",
        "feature1 = np.array([1.6, 0.9, 2.2])\n",
        "feature2 = np.array([0.4, 1.3, 3.2])\n",
        "feature3 = np.array([1.4, 0.3, 1.2])\n",
        "\n",
        "np.column_stack((feature1, feature2, feature3))"
      ],
      "execution_count": 5,
      "outputs": [
        {
          "output_type": "execute_result",
          "data": {
            "text/plain": [
              "array([[1.6, 0.4, 1.4],\n",
              "       [0.9, 1.3, 0.3],\n",
              "       [2.2, 3.2, 1.2]])"
            ]
          },
          "metadata": {},
          "execution_count": 5
        }
      ]
    },
    {
      "cell_type": "markdown",
      "metadata": {
        "id": "4xTKSUzg10MK"
      },
      "source": [
        "### <a name='4'></a> Exercise 54\n",
        "The following two-dimensional array is given:\n",
        "```\n",
        "A = np.random.randint(low=0, high=7, size=(5, 8))\n",
        "A[:, :2] = 0\n",
        "A[:, -2:] = 1\n",
        "A\n",
        "```\n",
        "```\n",
        "array([[0, 0, 4, 6, 2, 4, 1, 1],\n",
        "       [0, 0, 6, 2, 2, 4, 1, 1],\n",
        "       [0, 0, 1, 3, 5, 5, 1, 1],\n",
        "       [0, 0, 3, 1, 5, 4, 1, 1],\n",
        "       [0, 0, 2, 6, 1, 3, 1, 1]])\n",
        "```\n",
        "Split an array into three parts so that the first two columns formed the first array $ A1 $, four consecutive second array $ A2 $ and the last two third array $ A3 $.\n",
        "\n",
        "__Tip:__ Use the function _np.split()_."
      ]
    },
    {
      "cell_type": "code",
      "metadata": {
        "id": "zXtgBT1sUZjf",
        "outputId": "a8afb75e-0657-4ce4-98af-c15a1b6b53c2",
        "colab": {
          "base_uri": "https://localhost:8080/"
        }
      },
      "source": [
        "# enter solution here\n",
        "\n",
        "A = np.random.randint(low=0, high=7, size=(5, 8))\n",
        "A[:, :2] = 0\n",
        "A[:, -2:] = 1\n",
        "\n",
        "A1, A2, A3 = np.split(A, [2, 6], axis=1)\n",
        "\n",
        "print(A1)\n",
        "print(A2)\n",
        "print(A3)"
      ],
      "execution_count": 7,
      "outputs": [
        {
          "output_type": "stream",
          "name": "stdout",
          "text": [
            "[[0 0]\n",
            " [0 0]\n",
            " [0 0]\n",
            " [0 0]\n",
            " [0 0]]\n",
            "[[3 3 1 1]\n",
            " [1 6 4 5]\n",
            " [4 4 1 3]\n",
            " [6 5 3 1]\n",
            " [2 6 1 0]]\n",
            "[[1 1]\n",
            " [1 1]\n",
            " [1 1]\n",
            " [1 1]\n",
            " [1 1]]\n"
          ]
        }
      ]
    },
    {
      "cell_type": "markdown",
      "metadata": {
        "id": "o3HKIKlP15Ro"
      },
      "source": [
        "### <a name='5'></a> Exercise 55\n",
        "The following numpy array $ A $ is given:\n",
        "\n",
        "```\n",
        "A = np.random.randint(low=0, high=2, size=(10, 6))\n",
        "```\n",
        "\n",
        "Calculate the total number of non-zero elements for this array.\n",
        "\n",
        "__Tip:__ Use the function _np.count_nonzero()_.\n"
      ]
    },
    {
      "cell_type": "code",
      "metadata": {
        "id": "cPCsc8WHU32T",
        "outputId": "3b25cfea-1d0e-4574-fa17-4e9e2e885337",
        "colab": {
          "base_uri": "https://localhost:8080/"
        }
      },
      "source": [
        "# enter solution here\n",
        "\n",
        "A = np.random.randint(low=0, high=2, size=(10, 6))\n",
        "\n",
        "np.count_nonzero(A)"
      ],
      "execution_count": 8,
      "outputs": [
        {
          "output_type": "execute_result",
          "data": {
            "text/plain": [
              "27"
            ]
          },
          "metadata": {},
          "execution_count": 8
        }
      ]
    },
    {
      "cell_type": "markdown",
      "metadata": {
        "id": "gYdn5cJqU9vh"
      },
      "source": [
        "Calculate the total number of non-zero elements for each row in this array.\n",
        "\n",
        "__Tip:__ Use the function _np.count_nonzero()_."
      ]
    },
    {
      "cell_type": "code",
      "metadata": {
        "id": "RXEd8gyGVBgC",
        "outputId": "7e81f6dc-aef1-4495-9c86-9941e0d2c5d2",
        "colab": {
          "base_uri": "https://localhost:8080/"
        }
      },
      "source": [
        "# enter solution here\n",
        "\n",
        "np.count_nonzero(A, axis=1)"
      ],
      "execution_count": 9,
      "outputs": [
        {
          "output_type": "execute_result",
          "data": {
            "text/plain": [
              "array([3, 2, 3, 1, 4, 2, 3, 3, 4, 2])"
            ]
          },
          "metadata": {},
          "execution_count": 9
        }
      ]
    },
    {
      "cell_type": "markdown",
      "metadata": {
        "id": "PunXd_Ey16so"
      },
      "source": [
        "### <a name='6'></a> Exercise 56\n",
        "An example numpy array $ A $ is given below:\n",
        "\n",
        "```\n",
        "A = np.random.randn(10, 4)\n",
        "```\n",
        "\n",
        "```\n",
        "array([[-0.53441645, -1.49505387, -0.78925833,  0.74371128],\n",
        "       [-0.21216142, -0.42686879,  0.50144833,  1.15818665],\n",
        "       [ 0.25711687,  0.3145129 ,  1.37186213,  0.17555329],\n",
        "       [-0.30928855,  0.6731255 , -0.25663018, -0.36782572],\n",
        "       [ 1.27373362, -0.29195267, -2.65517605,  0.34551794],\n",
        "       [-0.39551645, -0.28913686,  0.45293633, -0.16606091],\n",
        "       [ 0.21493883, -2.02231493, -0.94305681,  1.40395874],\n",
        "       [-0.0185508 , -1.67350462, -1.07253183, -0.99258618],\n",
        "       [ 0.10234768, -0.43260928, -0.6591823 ,  0.0039373 ],\n",
        "       [ 0.4777541 , -0.25902864, -0.57470921, -0.42149822]])\n",
        "```\n",
        "\n",
        "Set the numpy library option to print arrays with specified precision. Set its value to 4 and print the $ A $ array."
      ]
    },
    {
      "cell_type": "code",
      "metadata": {
        "id": "lzoi6hKSVMNf",
        "outputId": "bb77b1d0-9dda-428f-a0bf-9111af4f4b5b",
        "colab": {
          "base_uri": "https://localhost:8080/"
        }
      },
      "source": [
        "# enter solution here\n",
        "\n",
        "A = np.random.randn(10, 4)\n",
        "\n",
        "np.set_printoptions(precision=4)\n",
        "\n",
        "A"
      ],
      "execution_count": 10,
      "outputs": [
        {
          "output_type": "execute_result",
          "data": {
            "text/plain": [
              "array([[ 0.3257, -0.8996, -1.1997,  1.8496],\n",
              "       [-1.8723,  1.114 ,  2.0945,  0.7166],\n",
              "       [-1.4724,  0.0769,  0.7273, -0.0348],\n",
              "       [-0.3899, -1.6844, -1.4207,  1.5201],\n",
              "       [-0.4747, -1.3111, -0.2148, -1.2154],\n",
              "       [ 0.7134, -0.3155,  0.6719, -1.148 ],\n",
              "       [ 1.1942, -1.0493,  0.8633, -0.2636],\n",
              "       [-1.7526,  2.21  ,  1.2659, -1.1656],\n",
              "       [-0.04  ,  1.6702,  0.9571, -1.187 ],\n",
              "       [-1.4762,  0.7509,  1.1872,  0.2107]])"
            ]
          },
          "metadata": {},
          "execution_count": 10
        }
      ]
    },
    {
      "cell_type": "markdown",
      "metadata": {
        "id": "hOhqDRz618Tx"
      },
      "source": [
        "### <a name='7'></a> Exercise 57\n",
        "\n",
        "The following numpy array $ A $ is given:\n",
        "\n",
        "```\n",
        "A = np.array([1.2e-6, 1.7e-7])\n",
        "```\n",
        "Set the precision value to 8. Then set the appropriate numpy library option to suppress mathematical notation. Print the array $ A $.\n",
        "\n",
        "__Expected result:__\n",
        "```\n",
        "array([0.0000012 , 0.00000017])\n",
        "```\n"
      ]
    },
    {
      "cell_type": "code",
      "metadata": {
        "id": "QnUM5k9rVYdu",
        "outputId": "cf75718a-ca68-4cd3-8b13-4cda797747e8",
        "colab": {
          "base_uri": "https://localhost:8080/"
        }
      },
      "source": [
        "# enter solution here\n",
        "\n",
        "A = np.array([1.2e-6, 1.7e-7])\n",
        "\n",
        "np.set_printoptions(precision=8, suppress=True)\n",
        "\n",
        "A"
      ],
      "execution_count": 11,
      "outputs": [
        {
          "output_type": "execute_result",
          "data": {
            "text/plain": [
              "array([0.0000012 , 0.00000017])"
            ]
          },
          "metadata": {},
          "execution_count": 11
        }
      ]
    },
    {
      "cell_type": "markdown",
      "metadata": {
        "id": "TXUd_4631-gw"
      },
      "source": [
        "### <a name='8'></a> Exercise 58\n",
        "The following numpy array $ A $ is given:\n",
        "```\n",
        "A = np.random.randn(8, 4)\n",
        "```\n",
        "Remove the third column from the $ A $ array.\n",
        "\n",
        "__Expected result:__\n",
        "```\n",
        "array([[-0.55692881, -0.66003196,  0.70856031],\n",
        "       [ 0.22378737, -0.19796576, -0.16889332],\n",
        "       [ 0.26062786,  0.29865445, -0.92259267],\n",
        "       [-2.40317659,  1.79961876, -1.96495796],\n",
        "       [ 0.13051561, -1.7085185 ,  0.54885043],\n",
        "       [ 1.77268727,  0.38751181, -0.05141955],\n",
        "       [-1.80858596, -0.45075211,  0.15332866],\n",
        "       [ 1.94218961, -1.93679529, -1.83350954]])\n",
        "```\n",
        "__Tip:__ Use the _np.delete()_ function.\n"
      ]
    },
    {
      "cell_type": "code",
      "metadata": {
        "id": "B7og-S7tVru7",
        "outputId": "3dad631b-79c2-48e3-f939-65e9a1121a9b",
        "colab": {
          "base_uri": "https://localhost:8080/"
        }
      },
      "source": [
        "# enter solution here\n",
        "\n",
        "A = np.random.randn(8, 4)\n",
        "\n",
        "np.delete(A, 2, axis=1)\n"
      ],
      "execution_count": 15,
      "outputs": [
        {
          "output_type": "execute_result",
          "data": {
            "text/plain": [
              "array([[-0.72834674,  1.00262576, -0.50298623],\n",
              "       [-0.12397312,  1.18131155,  1.51293289],\n",
              "       [-0.56950703, -1.56617016, -0.44910041],\n",
              "       [ 0.47606897, -0.89586231, -1.79020862],\n",
              "       [-1.65075129,  0.48716852,  0.69694922],\n",
              "       [ 0.96964617,  0.36978474,  0.0444731 ],\n",
              "       [-0.17697651, -0.22589124,  1.66032216],\n",
              "       [ 0.26303099, -0.13023071, -1.34470819]])"
            ]
          },
          "metadata": {},
          "execution_count": 15
        }
      ]
    },
    {
      "cell_type": "markdown",
      "metadata": {
        "id": "tgI6xEn-2AQo"
      },
      "source": [
        "### <a name='9'></a> Exercise 59\n",
        "\n",
        "A one-dimensional array $ v $ (vector) is given:\n",
        "\n",
        "```\n",
        "v = np.array([3, 4, -2])\n",
        "```\n",
        "Calculate the norm of the vetor $ v $.\n"
      ]
    },
    {
      "cell_type": "code",
      "metadata": {
        "id": "A-FzLuaOV2Ck",
        "outputId": "98c14d3e-2168-402d-8bd5-d0743b544f0f",
        "colab": {
          "base_uri": "https://localhost:8080/"
        }
      },
      "source": [
        "# enter solution here\n",
        "\n",
        "v = np.array([3, 4, -2])\n",
        "\n",
        "np.linalg.norm(v)"
      ],
      "execution_count": 16,
      "outputs": [
        {
          "output_type": "execute_result",
          "data": {
            "text/plain": [
              "5.385164807134504"
            ]
          },
          "metadata": {},
          "execution_count": 16
        }
      ]
    },
    {
      "cell_type": "markdown",
      "metadata": {
        "id": "wxhpf-uq2B1I"
      },
      "source": [
        "### <a name='10'></a> Exercise 60\n",
        "An example $ A $ array is given below:\n",
        "\n",
        "```\n",
        "A = np.random.randint(10, size=(100, 30))\n",
        "```\n",
        "Set the numpy library option to print 10 edge elements. Print the array $ A $.\n"
      ]
    },
    {
      "cell_type": "code",
      "metadata": {
        "id": "YFc0KW6URsuc",
        "outputId": "e7973148-7fcd-4a5e-db1b-97bd4adfc7b9",
        "colab": {
          "base_uri": "https://localhost:8080/"
        }
      },
      "source": [
        "# enter solution here\n",
        "\n",
        "A = np.random.randint(10, size=(100, 30))\n",
        "\n",
        "np.set_printoptions(edgeitems=10)\n",
        "\n",
        "A"
      ],
      "execution_count": 17,
      "outputs": [
        {
          "output_type": "execute_result",
          "data": {
            "text/plain": [
              "array([[9, 3, 1, 2, 3, 1, 8, 6, 6, 1, ..., 1, 5, 5, 8, 4, 0, 4, 8, 2, 0],\n",
              "       [1, 2, 0, 9, 9, 8, 5, 7, 3, 4, ..., 9, 9, 9, 9, 6, 6, 0, 5, 5, 9],\n",
              "       [4, 5, 2, 4, 7, 2, 7, 7, 5, 7, ..., 6, 2, 3, 0, 4, 2, 3, 0, 4, 2],\n",
              "       [4, 8, 4, 4, 9, 8, 7, 2, 5, 6, ..., 2, 0, 7, 6, 1, 4, 7, 6, 2, 2],\n",
              "       [0, 0, 5, 3, 0, 7, 0, 6, 1, 5, ..., 3, 1, 4, 1, 6, 7, 0, 8, 8, 0],\n",
              "       [0, 5, 7, 0, 2, 4, 5, 3, 8, 3, ..., 7, 1, 6, 8, 7, 5, 0, 2, 6, 1],\n",
              "       [9, 1, 2, 1, 9, 8, 2, 0, 8, 2, ..., 5, 4, 9, 0, 9, 9, 4, 5, 0, 1],\n",
              "       [4, 1, 5, 3, 6, 0, 1, 5, 8, 5, ..., 5, 7, 2, 0, 5, 9, 3, 5, 1, 8],\n",
              "       [6, 7, 1, 2, 4, 8, 1, 0, 6, 9, ..., 1, 9, 1, 2, 5, 0, 0, 1, 0, 5],\n",
              "       [0, 6, 8, 5, 8, 7, 8, 3, 4, 8, ..., 6, 4, 2, 4, 8, 1, 1, 7, 8, 9],\n",
              "       ...,\n",
              "       [7, 0, 1, 3, 7, 4, 4, 8, 8, 3, ..., 9, 5, 2, 3, 6, 5, 2, 9, 1, 3],\n",
              "       [2, 3, 2, 6, 6, 2, 3, 1, 1, 9, ..., 4, 1, 4, 1, 0, 0, 1, 5, 9, 2],\n",
              "       [1, 6, 7, 4, 4, 1, 5, 4, 1, 8, ..., 9, 8, 9, 4, 4, 4, 4, 9, 5, 7],\n",
              "       [7, 0, 0, 4, 3, 8, 8, 7, 1, 2, ..., 8, 0, 6, 4, 2, 7, 1, 2, 7, 5],\n",
              "       [6, 2, 8, 1, 2, 9, 1, 7, 1, 3, ..., 7, 7, 2, 9, 0, 9, 9, 7, 8, 5],\n",
              "       [1, 1, 6, 3, 9, 2, 6, 3, 7, 0, ..., 7, 5, 8, 6, 5, 9, 1, 6, 2, 6],\n",
              "       [7, 5, 0, 6, 2, 6, 6, 3, 6, 3, ..., 5, 1, 6, 1, 4, 0, 6, 1, 3, 8],\n",
              "       [9, 6, 3, 8, 3, 0, 5, 7, 5, 0, ..., 4, 5, 5, 8, 3, 5, 2, 8, 0, 5],\n",
              "       [6, 2, 8, 2, 9, 6, 5, 2, 1, 9, ..., 2, 1, 4, 6, 6, 0, 1, 1, 0, 9],\n",
              "       [8, 2, 7, 8, 4, 9, 6, 3, 1, 7, ..., 4, 2, 9, 9, 4, 2, 5, 1, 2, 5]])"
            ]
          },
          "metadata": {},
          "execution_count": 17
        }
      ]
    }
  ]
}