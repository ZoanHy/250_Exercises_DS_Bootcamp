{
  "cells": [
    {
      "cell_type": "markdown",
      "metadata": {
        "colab_type": "text",
        "id": "view-in-github"
      },
      "source": [
        "<a href=\"https://colab.research.google.com/github/ZoanHy/250plus---Exercises-DS-Bootcamp-in-Python/blob/main/121_130_exercises.ipynb\" target=\"_parent\"><img src=\"https://colab.research.google.com/assets/colab-badge.svg\" alt=\"Open In Colab\"/></a>"
      ]
    },
    {
      "cell_type": "markdown",
      "metadata": {
        "id": "WLEgCW5F1hho"
      },
      "source": [
        "## Pandas\n",
        "\n",
        "### Table of contents:\n",
        "* [Import biblioteki](#0)\n",
        "* [Exercise 121](#1)\n",
        "* [Exercise 122](#2)\n",
        "* [Exercise 123](#3)\n",
        "* [Exercise 124](#4)\n",
        "* [Exercise 125](#5)\n",
        "* [Exercise 126](#6)\n",
        "* [Exercise 127](#7)\n",
        "* [Exercise 128](#8)\n",
        "* [Exercise 129](#9)\n",
        "* [Exercise 130](#10)"
      ]
    },
    {
      "cell_type": "markdown",
      "metadata": {
        "id": "zeLOLmTj1kBM"
      },
      "source": [
        "### <a name='0'></a> Import of libraries"
      ]
    },
    {
      "cell_type": "code",
      "execution_count": 3,
      "metadata": {
        "id": "HXMB7SMe1Wnz"
      },
      "outputs": [
        {
          "data": {
            "text/plain": [
              "'1.23.3'"
            ]
          },
          "execution_count": 3,
          "metadata": {},
          "output_type": "execute_result"
        }
      ],
      "source": [
        "import numpy as np\n",
        "import pandas as pd\n",
        "import seaborn as sns\n",
        "\n",
        "sns.set()\n",
        "np.__version__"
      ]
    },
    {
      "cell_type": "markdown",
      "metadata": {
        "id": "XHC7OOdSWAp-"
      },
      "source": [
        "The _fetch_financial_data()_ function fetches data on listed companies. It will be used in the following exercises. To download data of a specific company, you must provide the ticker (symbol) of the company.\n",
        "\n",
        "Some sample company tickers:\n",
        "* AMZN - Amazon\n",
        "* GOOGL - Google\n",
        "* MSFT - Microsoft\n",
        "* AAPL - Apple\n",
        "* NKE - Nike\n",
        "* WMT - Walmart"
      ]
    },
    {
      "cell_type": "code",
      "execution_count": 4,
      "metadata": {
        "id": "Cco5py75WIi3"
      },
      "outputs": [],
      "source": [
        "def fetch_financial_data(company='AMZN'):\n",
        "    \"\"\"\n",
        "    This function fetches stock market quotations.\n",
        "    \"\"\"\n",
        "    import pandas_datareader.data as web\n",
        "    return web.DataReader(name=company, data_source='stooq')"
      ]
    },
    {
      "cell_type": "markdown",
      "metadata": {
        "id": "cyc70pMe1oCg"
      },
      "source": [
        "### <a name='1'></a> Exercise 121\n",
        "Using the _fetch_financial_data()_ function, download Google (Alphabet) quotes and assign to the variable _google_. Display object _google_."
      ]
    },
    {
      "cell_type": "code",
      "execution_count": 5,
      "metadata": {
        "id": "-X_EmE0yWZJy"
      },
      "outputs": [
        {
          "data": {
            "text/html": [
              "<div>\n",
              "<style scoped>\n",
              "    .dataframe tbody tr th:only-of-type {\n",
              "        vertical-align: middle;\n",
              "    }\n",
              "\n",
              "    .dataframe tbody tr th {\n",
              "        vertical-align: top;\n",
              "    }\n",
              "\n",
              "    .dataframe thead th {\n",
              "        text-align: right;\n",
              "    }\n",
              "</style>\n",
              "<table border=\"1\" class=\"dataframe\">\n",
              "  <thead>\n",
              "    <tr style=\"text-align: right;\">\n",
              "      <th></th>\n",
              "      <th>Open</th>\n",
              "      <th>High</th>\n",
              "      <th>Low</th>\n",
              "      <th>Close</th>\n",
              "      <th>Volume</th>\n",
              "    </tr>\n",
              "    <tr>\n",
              "      <th>Date</th>\n",
              "      <th></th>\n",
              "      <th></th>\n",
              "      <th></th>\n",
              "      <th></th>\n",
              "      <th></th>\n",
              "    </tr>\n",
              "  </thead>\n",
              "  <tbody>\n",
              "    <tr>\n",
              "      <th>2023-03-20</th>\n",
              "      <td>98.4100</td>\n",
              "      <td>98.4800</td>\n",
              "      <td>95.7000</td>\n",
              "      <td>97.7100</td>\n",
              "      <td>62388911</td>\n",
              "    </tr>\n",
              "    <tr>\n",
              "      <th>2023-03-17</th>\n",
              "      <td>99.7900</td>\n",
              "      <td>100.6600</td>\n",
              "      <td>97.4550</td>\n",
              "      <td>98.9500</td>\n",
              "      <td>87300242</td>\n",
              "    </tr>\n",
              "    <tr>\n",
              "      <th>2023-03-16</th>\n",
              "      <td>95.7500</td>\n",
              "      <td>100.9900</td>\n",
              "      <td>95.6100</td>\n",
              "      <td>100.0400</td>\n",
              "      <td>84558934</td>\n",
              "    </tr>\n",
              "    <tr>\n",
              "      <th>2023-03-15</th>\n",
              "      <td>93.2200</td>\n",
              "      <td>96.6700</td>\n",
              "      <td>93.0700</td>\n",
              "      <td>96.2000</td>\n",
              "      <td>70731792</td>\n",
              "    </tr>\n",
              "    <tr>\n",
              "      <th>2023-03-14</th>\n",
              "      <td>93.8300</td>\n",
              "      <td>95.0700</td>\n",
              "      <td>92.7100</td>\n",
              "      <td>94.8800</td>\n",
              "      <td>60912674</td>\n",
              "    </tr>\n",
              "    <tr>\n",
              "      <th>...</th>\n",
              "      <td>...</td>\n",
              "      <td>...</td>\n",
              "      <td>...</td>\n",
              "      <td>...</td>\n",
              "      <td>...</td>\n",
              "    </tr>\n",
              "    <tr>\n",
              "      <th>2018-03-28</th>\n",
              "      <td>72.3500</td>\n",
              "      <td>72.7950</td>\n",
              "      <td>69.3085</td>\n",
              "      <td>71.5710</td>\n",
              "      <td>274106340</td>\n",
              "    </tr>\n",
              "    <tr>\n",
              "      <th>2018-03-27</th>\n",
              "      <td>78.6200</td>\n",
              "      <td>78.7985</td>\n",
              "      <td>74.1160</td>\n",
              "      <td>74.8525</td>\n",
              "      <td>139992620</td>\n",
              "    </tr>\n",
              "    <tr>\n",
              "      <th>2018-03-26</th>\n",
              "      <td>76.5000</td>\n",
              "      <td>77.8495</td>\n",
              "      <td>74.9625</td>\n",
              "      <td>77.7930</td>\n",
              "      <td>112494000</td>\n",
              "    </tr>\n",
              "    <tr>\n",
              "      <th>2018-03-23</th>\n",
              "      <td>76.9505</td>\n",
              "      <td>77.4510</td>\n",
              "      <td>74.7680</td>\n",
              "      <td>74.7780</td>\n",
              "      <td>160120660</td>\n",
              "    </tr>\n",
              "    <tr>\n",
              "      <th>2018-03-22</th>\n",
              "      <td>78.2735</td>\n",
              "      <td>78.6925</td>\n",
              "      <td>77.1200</td>\n",
              "      <td>77.2460</td>\n",
              "      <td>126411020</td>\n",
              "    </tr>\n",
              "  </tbody>\n",
              "</table>\n",
              "<p>1257 rows × 5 columns</p>\n",
              "</div>"
            ],
            "text/plain": [
              "               Open      High      Low     Close     Volume\n",
              "Date                                                       \n",
              "2023-03-20  98.4100   98.4800  95.7000   97.7100   62388911\n",
              "2023-03-17  99.7900  100.6600  97.4550   98.9500   87300242\n",
              "2023-03-16  95.7500  100.9900  95.6100  100.0400   84558934\n",
              "2023-03-15  93.2200   96.6700  93.0700   96.2000   70731792\n",
              "2023-03-14  93.8300   95.0700  92.7100   94.8800   60912674\n",
              "...             ...       ...      ...       ...        ...\n",
              "2018-03-28  72.3500   72.7950  69.3085   71.5710  274106340\n",
              "2018-03-27  78.6200   78.7985  74.1160   74.8525  139992620\n",
              "2018-03-26  76.5000   77.8495  74.9625   77.7930  112494000\n",
              "2018-03-23  76.9505   77.4510  74.7680   74.7780  160120660\n",
              "2018-03-22  78.2735   78.6925  77.1200   77.2460  126411020\n",
              "\n",
              "[1257 rows x 5 columns]"
            ]
          },
          "execution_count": 5,
          "metadata": {},
          "output_type": "execute_result"
        }
      ],
      "source": [
        "# enter solution here\n",
        "\n",
        "google = fetch_financial_data()\n",
        "\n",
        "google"
      ]
    },
    {
      "cell_type": "markdown",
      "metadata": {
        "id": "J9pY1rtr1sC0"
      },
      "source": [
        "### <a name='2'></a> Exercise 122\n",
        "Display basic information about _google_ object."
      ]
    },
    {
      "cell_type": "code",
      "execution_count": 6,
      "metadata": {
        "id": "jYe-jwFgWhRj"
      },
      "outputs": [
        {
          "name": "stdout",
          "output_type": "stream",
          "text": [
            "<class 'pandas.core.frame.DataFrame'>\n",
            "DatetimeIndex: 1257 entries, 2023-03-20 to 2018-03-22\n",
            "Data columns (total 5 columns):\n",
            " #   Column  Non-Null Count  Dtype  \n",
            "---  ------  --------------  -----  \n",
            " 0   Open    1257 non-null   float64\n",
            " 1   High    1257 non-null   float64\n",
            " 2   Low     1257 non-null   float64\n",
            " 3   Close   1257 non-null   float64\n",
            " 4   Volume  1257 non-null   int64  \n",
            "dtypes: float64(4), int64(1)\n",
            "memory usage: 58.9 KB\n"
          ]
        }
      ],
      "source": [
        "# enter solution here\n",
        "\n",
        "google.info()"
      ]
    },
    {
      "cell_type": "markdown",
      "metadata": {
        "id": "qXa0-U9nWkUy"
      },
      "source": [
        "Display basic statistics for _google_."
      ]
    },
    {
      "cell_type": "code",
      "execution_count": 7,
      "metadata": {
        "id": "wOPx2ufcWnMl"
      },
      "outputs": [
        {
          "data": {
            "text/html": [
              "<div>\n",
              "<style scoped>\n",
              "    .dataframe tbody tr th:only-of-type {\n",
              "        vertical-align: middle;\n",
              "    }\n",
              "\n",
              "    .dataframe tbody tr th {\n",
              "        vertical-align: top;\n",
              "    }\n",
              "\n",
              "    .dataframe thead th {\n",
              "        text-align: right;\n",
              "    }\n",
              "</style>\n",
              "<table border=\"1\" class=\"dataframe\">\n",
              "  <thead>\n",
              "    <tr style=\"text-align: right;\">\n",
              "      <th></th>\n",
              "      <th>Open</th>\n",
              "      <th>High</th>\n",
              "      <th>Low</th>\n",
              "      <th>Close</th>\n",
              "      <th>Volume</th>\n",
              "    </tr>\n",
              "  </thead>\n",
              "  <tbody>\n",
              "    <tr>\n",
              "      <th>count</th>\n",
              "      <td>1257.000000</td>\n",
              "      <td>1257.000000</td>\n",
              "      <td>1257.000000</td>\n",
              "      <td>1257.000000</td>\n",
              "      <td>1.257000e+03</td>\n",
              "    </tr>\n",
              "    <tr>\n",
              "      <th>mean</th>\n",
              "      <td>121.008323</td>\n",
              "      <td>122.486978</td>\n",
              "      <td>119.375757</td>\n",
              "      <td>120.941550</td>\n",
              "      <td>8.479985e+07</td>\n",
              "    </tr>\n",
              "    <tr>\n",
              "      <th>std</th>\n",
              "      <td>34.524731</td>\n",
              "      <td>34.876812</td>\n",
              "      <td>34.119186</td>\n",
              "      <td>34.456791</td>\n",
              "      <td>3.955412e+07</td>\n",
              "    </tr>\n",
              "    <tr>\n",
              "      <th>min</th>\n",
              "      <td>67.300000</td>\n",
              "      <td>69.801500</td>\n",
              "      <td>65.350000</td>\n",
              "      <td>67.198000</td>\n",
              "      <td>1.762674e+07</td>\n",
              "    </tr>\n",
              "    <tr>\n",
              "      <th>25%</th>\n",
              "      <td>90.458000</td>\n",
              "      <td>91.284500</td>\n",
              "      <td>89.364000</td>\n",
              "      <td>90.392000</td>\n",
              "      <td>5.821776e+07</td>\n",
              "    </tr>\n",
              "    <tr>\n",
              "      <th>50%</th>\n",
              "      <td>108.110000</td>\n",
              "      <td>110.990000</td>\n",
              "      <td>106.372000</td>\n",
              "      <td>108.444000</td>\n",
              "      <td>7.307858e+07</td>\n",
              "    </tr>\n",
              "    <tr>\n",
              "      <th>75%</th>\n",
              "      <td>158.338000</td>\n",
              "      <td>159.938000</td>\n",
              "      <td>156.250000</td>\n",
              "      <td>158.100000</td>\n",
              "      <td>9.950064e+07</td>\n",
              "    </tr>\n",
              "    <tr>\n",
              "      <th>max</th>\n",
              "      <td>187.200000</td>\n",
              "      <td>188.654000</td>\n",
              "      <td>184.840000</td>\n",
              "      <td>186.570000</td>\n",
              "      <td>3.113457e+08</td>\n",
              "    </tr>\n",
              "  </tbody>\n",
              "</table>\n",
              "</div>"
            ],
            "text/plain": [
              "              Open         High          Low        Close        Volume\n",
              "count  1257.000000  1257.000000  1257.000000  1257.000000  1.257000e+03\n",
              "mean    121.008323   122.486978   119.375757   120.941550  8.479985e+07\n",
              "std      34.524731    34.876812    34.119186    34.456791  3.955412e+07\n",
              "min      67.300000    69.801500    65.350000    67.198000  1.762674e+07\n",
              "25%      90.458000    91.284500    89.364000    90.392000  5.821776e+07\n",
              "50%     108.110000   110.990000   106.372000   108.444000  7.307858e+07\n",
              "75%     158.338000   159.938000   156.250000   158.100000  9.950064e+07\n",
              "max     187.200000   188.654000   184.840000   186.570000  3.113457e+08"
            ]
          },
          "execution_count": 7,
          "metadata": {},
          "output_type": "execute_result"
        }
      ],
      "source": [
        "# enter solution here\n",
        "\n",
        "google.describe()"
      ]
    },
    {
      "cell_type": "markdown",
      "metadata": {
        "id": "eYd_y8_TWro3"
      },
      "source": [
        "Note the precision of individual statistics.\n",
        "Try setting the appropriate _pandas_ library options to display data with two decimal places.\n",
        "\n",
        "__Tip:__ \n",
        "https://pandas.pydata.org/pandas-docs/stable/user_guide/options.html"
      ]
    },
    {
      "cell_type": "code",
      "execution_count": 8,
      "metadata": {
        "id": "zHXcFbuEWyBC"
      },
      "outputs": [
        {
          "data": {
            "text/html": [
              "<div>\n",
              "<style scoped>\n",
              "    .dataframe tbody tr th:only-of-type {\n",
              "        vertical-align: middle;\n",
              "    }\n",
              "\n",
              "    .dataframe tbody tr th {\n",
              "        vertical-align: top;\n",
              "    }\n",
              "\n",
              "    .dataframe thead th {\n",
              "        text-align: right;\n",
              "    }\n",
              "</style>\n",
              "<table border=\"1\" class=\"dataframe\">\n",
              "  <thead>\n",
              "    <tr style=\"text-align: right;\">\n",
              "      <th></th>\n",
              "      <th>Open</th>\n",
              "      <th>High</th>\n",
              "      <th>Low</th>\n",
              "      <th>Close</th>\n",
              "      <th>Volume</th>\n",
              "    </tr>\n",
              "    <tr>\n",
              "      <th>Date</th>\n",
              "      <th></th>\n",
              "      <th></th>\n",
              "      <th></th>\n",
              "      <th></th>\n",
              "      <th></th>\n",
              "    </tr>\n",
              "  </thead>\n",
              "  <tbody>\n",
              "    <tr>\n",
              "      <th>2023-03-20</th>\n",
              "      <td>98.41</td>\n",
              "      <td>98.48</td>\n",
              "      <td>95.70</td>\n",
              "      <td>97.71</td>\n",
              "      <td>62388911</td>\n",
              "    </tr>\n",
              "    <tr>\n",
              "      <th>2023-03-17</th>\n",
              "      <td>99.79</td>\n",
              "      <td>100.66</td>\n",
              "      <td>97.45</td>\n",
              "      <td>98.95</td>\n",
              "      <td>87300242</td>\n",
              "    </tr>\n",
              "    <tr>\n",
              "      <th>2023-03-16</th>\n",
              "      <td>95.75</td>\n",
              "      <td>100.99</td>\n",
              "      <td>95.61</td>\n",
              "      <td>100.04</td>\n",
              "      <td>84558934</td>\n",
              "    </tr>\n",
              "    <tr>\n",
              "      <th>2023-03-15</th>\n",
              "      <td>93.22</td>\n",
              "      <td>96.67</td>\n",
              "      <td>93.07</td>\n",
              "      <td>96.20</td>\n",
              "      <td>70731792</td>\n",
              "    </tr>\n",
              "    <tr>\n",
              "      <th>2023-03-14</th>\n",
              "      <td>93.83</td>\n",
              "      <td>95.07</td>\n",
              "      <td>92.71</td>\n",
              "      <td>94.88</td>\n",
              "      <td>60912674</td>\n",
              "    </tr>\n",
              "    <tr>\n",
              "      <th>...</th>\n",
              "      <td>...</td>\n",
              "      <td>...</td>\n",
              "      <td>...</td>\n",
              "      <td>...</td>\n",
              "      <td>...</td>\n",
              "    </tr>\n",
              "    <tr>\n",
              "      <th>2018-03-28</th>\n",
              "      <td>72.35</td>\n",
              "      <td>72.80</td>\n",
              "      <td>69.31</td>\n",
              "      <td>71.57</td>\n",
              "      <td>274106340</td>\n",
              "    </tr>\n",
              "    <tr>\n",
              "      <th>2018-03-27</th>\n",
              "      <td>78.62</td>\n",
              "      <td>78.80</td>\n",
              "      <td>74.12</td>\n",
              "      <td>74.85</td>\n",
              "      <td>139992620</td>\n",
              "    </tr>\n",
              "    <tr>\n",
              "      <th>2018-03-26</th>\n",
              "      <td>76.50</td>\n",
              "      <td>77.85</td>\n",
              "      <td>74.96</td>\n",
              "      <td>77.79</td>\n",
              "      <td>112494000</td>\n",
              "    </tr>\n",
              "    <tr>\n",
              "      <th>2018-03-23</th>\n",
              "      <td>76.95</td>\n",
              "      <td>77.45</td>\n",
              "      <td>74.77</td>\n",
              "      <td>74.78</td>\n",
              "      <td>160120660</td>\n",
              "    </tr>\n",
              "    <tr>\n",
              "      <th>2018-03-22</th>\n",
              "      <td>78.27</td>\n",
              "      <td>78.69</td>\n",
              "      <td>77.12</td>\n",
              "      <td>77.25</td>\n",
              "      <td>126411020</td>\n",
              "    </tr>\n",
              "  </tbody>\n",
              "</table>\n",
              "<p>1257 rows × 5 columns</p>\n",
              "</div>"
            ],
            "text/plain": [
              "             Open    High    Low   Close     Volume\n",
              "Date                                               \n",
              "2023-03-20  98.41   98.48  95.70   97.71   62388911\n",
              "2023-03-17  99.79  100.66  97.45   98.95   87300242\n",
              "2023-03-16  95.75  100.99  95.61  100.04   84558934\n",
              "2023-03-15  93.22   96.67  93.07   96.20   70731792\n",
              "2023-03-14  93.83   95.07  92.71   94.88   60912674\n",
              "...           ...     ...    ...     ...        ...\n",
              "2018-03-28  72.35   72.80  69.31   71.57  274106340\n",
              "2018-03-27  78.62   78.80  74.12   74.85  139992620\n",
              "2018-03-26  76.50   77.85  74.96   77.79  112494000\n",
              "2018-03-23  76.95   77.45  74.77   74.78  160120660\n",
              "2018-03-22  78.27   78.69  77.12   77.25  126411020\n",
              "\n",
              "[1257 rows x 5 columns]"
            ]
          },
          "execution_count": 8,
          "metadata": {},
          "output_type": "execute_result"
        }
      ],
      "source": [
        "# enter solution here\n",
        "\n",
        "pd.set_option('display.precision', 2)\n",
        "\n",
        "google"
      ]
    },
    {
      "cell_type": "markdown",
      "metadata": {
        "id": "_PTZL5EXW0Fk"
      },
      "source": [
        "__Additionally:__\n",
        "The following setting will also suppress mathematical notation (see column _Volume_)."
      ]
    },
    {
      "cell_type": "code",
      "execution_count": 9,
      "metadata": {
        "id": "mKi0XqaWW3zC"
      },
      "outputs": [
        {
          "data": {
            "text/html": [
              "<div>\n",
              "<style scoped>\n",
              "    .dataframe tbody tr th:only-of-type {\n",
              "        vertical-align: middle;\n",
              "    }\n",
              "\n",
              "    .dataframe tbody tr th {\n",
              "        vertical-align: top;\n",
              "    }\n",
              "\n",
              "    .dataframe thead th {\n",
              "        text-align: right;\n",
              "    }\n",
              "</style>\n",
              "<table border=\"1\" class=\"dataframe\">\n",
              "  <thead>\n",
              "    <tr style=\"text-align: right;\">\n",
              "      <th></th>\n",
              "      <th>Open</th>\n",
              "      <th>High</th>\n",
              "      <th>Low</th>\n",
              "      <th>Close</th>\n",
              "      <th>Volume</th>\n",
              "    </tr>\n",
              "  </thead>\n",
              "  <tbody>\n",
              "    <tr>\n",
              "      <th>count</th>\n",
              "      <td>1257.00</td>\n",
              "      <td>1257.00</td>\n",
              "      <td>1257.00</td>\n",
              "      <td>1257.00</td>\n",
              "      <td>1257.00</td>\n",
              "    </tr>\n",
              "    <tr>\n",
              "      <th>mean</th>\n",
              "      <td>121.01</td>\n",
              "      <td>122.49</td>\n",
              "      <td>119.38</td>\n",
              "      <td>120.94</td>\n",
              "      <td>84799848.47</td>\n",
              "    </tr>\n",
              "    <tr>\n",
              "      <th>std</th>\n",
              "      <td>34.52</td>\n",
              "      <td>34.88</td>\n",
              "      <td>34.12</td>\n",
              "      <td>34.46</td>\n",
              "      <td>39554115.51</td>\n",
              "    </tr>\n",
              "    <tr>\n",
              "      <th>min</th>\n",
              "      <td>67.30</td>\n",
              "      <td>69.80</td>\n",
              "      <td>65.35</td>\n",
              "      <td>67.20</td>\n",
              "      <td>17626740.00</td>\n",
              "    </tr>\n",
              "    <tr>\n",
              "      <th>25%</th>\n",
              "      <td>90.46</td>\n",
              "      <td>91.28</td>\n",
              "      <td>89.36</td>\n",
              "      <td>90.39</td>\n",
              "      <td>58217760.00</td>\n",
              "    </tr>\n",
              "    <tr>\n",
              "      <th>50%</th>\n",
              "      <td>108.11</td>\n",
              "      <td>110.99</td>\n",
              "      <td>106.37</td>\n",
              "      <td>108.44</td>\n",
              "      <td>73078580.00</td>\n",
              "    </tr>\n",
              "    <tr>\n",
              "      <th>75%</th>\n",
              "      <td>158.34</td>\n",
              "      <td>159.94</td>\n",
              "      <td>156.25</td>\n",
              "      <td>158.10</td>\n",
              "      <td>99500640.00</td>\n",
              "    </tr>\n",
              "    <tr>\n",
              "      <th>max</th>\n",
              "      <td>187.20</td>\n",
              "      <td>188.65</td>\n",
              "      <td>184.84</td>\n",
              "      <td>186.57</td>\n",
              "      <td>311345660.00</td>\n",
              "    </tr>\n",
              "  </tbody>\n",
              "</table>\n",
              "</div>"
            ],
            "text/plain": [
              "         Open    High     Low   Close       Volume\n",
              "count 1257.00 1257.00 1257.00 1257.00      1257.00\n",
              "mean   121.01  122.49  119.38  120.94  84799848.47\n",
              "std     34.52   34.88   34.12   34.46  39554115.51\n",
              "min     67.30   69.80   65.35   67.20  17626740.00\n",
              "25%     90.46   91.28   89.36   90.39  58217760.00\n",
              "50%    108.11  110.99  106.37  108.44  73078580.00\n",
              "75%    158.34  159.94  156.25  158.10  99500640.00\n",
              "max    187.20  188.65  184.84  186.57 311345660.00"
            ]
          },
          "execution_count": 9,
          "metadata": {},
          "output_type": "execute_result"
        }
      ],
      "source": [
        "pd.options.display.float_format = '{:.2f}'.format\n",
        "google.describe()"
      ]
    },
    {
      "cell_type": "markdown",
      "metadata": {
        "id": "wVGd55NMW6ZU"
      },
      "source": [
        "Build a simple chart for _google_ closing price (_Close_)"
      ]
    },
    {
      "cell_type": "code",
      "execution_count": 10,
      "metadata": {
        "id": "6z75UldWXDOr"
      },
      "outputs": [
        {
          "data": {
            "image/png": "[encoded data removed]",
            "text/plain": [
              "<Figure size 640x480 with 1 Axes>"
            ]
          },
          "metadata": {},
          "output_type": "display_data"
        }
      ],
      "source": [
        "# enter solution here\n",
        "\n",
        "google['Close'].plot();"
      ]
    },
    {
      "cell_type": "markdown",
      "metadata": {
        "id": "XQLYT2m11wVG"
      },
      "source": [
        "### <a name='3'></a> Exercise 123\n",
        "Replace the _Date_ index with a column. Permanently assign changes to the _google_."
      ]
    },
    {
      "cell_type": "code",
      "execution_count": 11,
      "metadata": {
        "id": "tnmHL0sxXPLK"
      },
      "outputs": [],
      "source": [
        "# enter solution here\n",
        "\n",
        "google.reset_index(inplace=True)"
      ]
    },
    {
      "cell_type": "code",
      "execution_count": 12,
      "metadata": {},
      "outputs": [
        {
          "data": {
            "text/html": [
              "<div>\n",
              "<style scoped>\n",
              "    .dataframe tbody tr th:only-of-type {\n",
              "        vertical-align: middle;\n",
              "    }\n",
              "\n",
              "    .dataframe tbody tr th {\n",
              "        vertical-align: top;\n",
              "    }\n",
              "\n",
              "    .dataframe thead th {\n",
              "        text-align: right;\n",
              "    }\n",
              "</style>\n",
              "<table border=\"1\" class=\"dataframe\">\n",
              "  <thead>\n",
              "    <tr style=\"text-align: right;\">\n",
              "      <th></th>\n",
              "      <th>Date</th>\n",
              "      <th>Open</th>\n",
              "      <th>High</th>\n",
              "      <th>Low</th>\n",
              "      <th>Close</th>\n",
              "      <th>Volume</th>\n",
              "    </tr>\n",
              "  </thead>\n",
              "  <tbody>\n",
              "    <tr>\n",
              "      <th>0</th>\n",
              "      <td>2023-03-20</td>\n",
              "      <td>98.41</td>\n",
              "      <td>98.48</td>\n",
              "      <td>95.70</td>\n",
              "      <td>97.71</td>\n",
              "      <td>62388911</td>\n",
              "    </tr>\n",
              "    <tr>\n",
              "      <th>1</th>\n",
              "      <td>2023-03-17</td>\n",
              "      <td>99.79</td>\n",
              "      <td>100.66</td>\n",
              "      <td>97.45</td>\n",
              "      <td>98.95</td>\n",
              "      <td>87300242</td>\n",
              "    </tr>\n",
              "    <tr>\n",
              "      <th>2</th>\n",
              "      <td>2023-03-16</td>\n",
              "      <td>95.75</td>\n",
              "      <td>100.99</td>\n",
              "      <td>95.61</td>\n",
              "      <td>100.04</td>\n",
              "      <td>84558934</td>\n",
              "    </tr>\n",
              "    <tr>\n",
              "      <th>3</th>\n",
              "      <td>2023-03-15</td>\n",
              "      <td>93.22</td>\n",
              "      <td>96.67</td>\n",
              "      <td>93.07</td>\n",
              "      <td>96.20</td>\n",
              "      <td>70731792</td>\n",
              "    </tr>\n",
              "    <tr>\n",
              "      <th>4</th>\n",
              "      <td>2023-03-14</td>\n",
              "      <td>93.83</td>\n",
              "      <td>95.07</td>\n",
              "      <td>92.71</td>\n",
              "      <td>94.88</td>\n",
              "      <td>60912674</td>\n",
              "    </tr>\n",
              "    <tr>\n",
              "      <th>...</th>\n",
              "      <td>...</td>\n",
              "      <td>...</td>\n",
              "      <td>...</td>\n",
              "      <td>...</td>\n",
              "      <td>...</td>\n",
              "      <td>...</td>\n",
              "    </tr>\n",
              "    <tr>\n",
              "      <th>1252</th>\n",
              "      <td>2018-03-28</td>\n",
              "      <td>72.35</td>\n",
              "      <td>72.80</td>\n",
              "      <td>69.31</td>\n",
              "      <td>71.57</td>\n",
              "      <td>274106340</td>\n",
              "    </tr>\n",
              "    <tr>\n",
              "      <th>1253</th>\n",
              "      <td>2018-03-27</td>\n",
              "      <td>78.62</td>\n",
              "      <td>78.80</td>\n",
              "      <td>74.12</td>\n",
              "      <td>74.85</td>\n",
              "      <td>139992620</td>\n",
              "    </tr>\n",
              "    <tr>\n",
              "      <th>1254</th>\n",
              "      <td>2018-03-26</td>\n",
              "      <td>76.50</td>\n",
              "      <td>77.85</td>\n",
              "      <td>74.96</td>\n",
              "      <td>77.79</td>\n",
              "      <td>112494000</td>\n",
              "    </tr>\n",
              "    <tr>\n",
              "      <th>1255</th>\n",
              "      <td>2018-03-23</td>\n",
              "      <td>76.95</td>\n",
              "      <td>77.45</td>\n",
              "      <td>74.77</td>\n",
              "      <td>74.78</td>\n",
              "      <td>160120660</td>\n",
              "    </tr>\n",
              "    <tr>\n",
              "      <th>1256</th>\n",
              "      <td>2018-03-22</td>\n",
              "      <td>78.27</td>\n",
              "      <td>78.69</td>\n",
              "      <td>77.12</td>\n",
              "      <td>77.25</td>\n",
              "      <td>126411020</td>\n",
              "    </tr>\n",
              "  </tbody>\n",
              "</table>\n",
              "<p>1257 rows × 6 columns</p>\n",
              "</div>"
            ],
            "text/plain": [
              "           Date  Open   High   Low  Close     Volume\n",
              "0    2023-03-20 98.41  98.48 95.70  97.71   62388911\n",
              "1    2023-03-17 99.79 100.66 97.45  98.95   87300242\n",
              "2    2023-03-16 95.75 100.99 95.61 100.04   84558934\n",
              "3    2023-03-15 93.22  96.67 93.07  96.20   70731792\n",
              "4    2023-03-14 93.83  95.07 92.71  94.88   60912674\n",
              "...         ...   ...    ...   ...    ...        ...\n",
              "1252 2018-03-28 72.35  72.80 69.31  71.57  274106340\n",
              "1253 2018-03-27 78.62  78.80 74.12  74.85  139992620\n",
              "1254 2018-03-26 76.50  77.85 74.96  77.79  112494000\n",
              "1255 2018-03-23 76.95  77.45 74.77  74.78  160120660\n",
              "1256 2018-03-22 78.27  78.69 77.12  77.25  126411020\n",
              "\n",
              "[1257 rows x 6 columns]"
            ]
          },
          "execution_count": 12,
          "metadata": {},
          "output_type": "execute_result"
        }
      ],
      "source": [
        "google"
      ]
    },
    {
      "cell_type": "markdown",
      "metadata": {
        "id": "UM5yUTmzXR5G"
      },
      "source": [
        "Assign two new columns to the _google_ object by adding a column with the current month number named _'Month'_ and the year named _'Year'_."
      ]
    },
    {
      "cell_type": "code",
      "execution_count": 13,
      "metadata": {
        "id": "TuqLYi3bXUkv"
      },
      "outputs": [
        {
          "data": {
            "text/html": [
              "<div>\n",
              "<style scoped>\n",
              "    .dataframe tbody tr th:only-of-type {\n",
              "        vertical-align: middle;\n",
              "    }\n",
              "\n",
              "    .dataframe tbody tr th {\n",
              "        vertical-align: top;\n",
              "    }\n",
              "\n",
              "    .dataframe thead th {\n",
              "        text-align: right;\n",
              "    }\n",
              "</style>\n",
              "<table border=\"1\" class=\"dataframe\">\n",
              "  <thead>\n",
              "    <tr style=\"text-align: right;\">\n",
              "      <th></th>\n",
              "      <th>Date</th>\n",
              "      <th>Open</th>\n",
              "      <th>High</th>\n",
              "      <th>Low</th>\n",
              "      <th>Close</th>\n",
              "      <th>Volume</th>\n",
              "      <th>Month</th>\n",
              "      <th>Year</th>\n",
              "    </tr>\n",
              "  </thead>\n",
              "  <tbody>\n",
              "    <tr>\n",
              "      <th>0</th>\n",
              "      <td>2023-03-20</td>\n",
              "      <td>98.41</td>\n",
              "      <td>98.48</td>\n",
              "      <td>95.70</td>\n",
              "      <td>97.71</td>\n",
              "      <td>62388911</td>\n",
              "      <td>3</td>\n",
              "      <td>2023</td>\n",
              "    </tr>\n",
              "    <tr>\n",
              "      <th>1</th>\n",
              "      <td>2023-03-17</td>\n",
              "      <td>99.79</td>\n",
              "      <td>100.66</td>\n",
              "      <td>97.45</td>\n",
              "      <td>98.95</td>\n",
              "      <td>87300242</td>\n",
              "      <td>3</td>\n",
              "      <td>2023</td>\n",
              "    </tr>\n",
              "    <tr>\n",
              "      <th>2</th>\n",
              "      <td>2023-03-16</td>\n",
              "      <td>95.75</td>\n",
              "      <td>100.99</td>\n",
              "      <td>95.61</td>\n",
              "      <td>100.04</td>\n",
              "      <td>84558934</td>\n",
              "      <td>3</td>\n",
              "      <td>2023</td>\n",
              "    </tr>\n",
              "    <tr>\n",
              "      <th>3</th>\n",
              "      <td>2023-03-15</td>\n",
              "      <td>93.22</td>\n",
              "      <td>96.67</td>\n",
              "      <td>93.07</td>\n",
              "      <td>96.20</td>\n",
              "      <td>70731792</td>\n",
              "      <td>3</td>\n",
              "      <td>2023</td>\n",
              "    </tr>\n",
              "    <tr>\n",
              "      <th>4</th>\n",
              "      <td>2023-03-14</td>\n",
              "      <td>93.83</td>\n",
              "      <td>95.07</td>\n",
              "      <td>92.71</td>\n",
              "      <td>94.88</td>\n",
              "      <td>60912674</td>\n",
              "      <td>3</td>\n",
              "      <td>2023</td>\n",
              "    </tr>\n",
              "    <tr>\n",
              "      <th>...</th>\n",
              "      <td>...</td>\n",
              "      <td>...</td>\n",
              "      <td>...</td>\n",
              "      <td>...</td>\n",
              "      <td>...</td>\n",
              "      <td>...</td>\n",
              "      <td>...</td>\n",
              "      <td>...</td>\n",
              "    </tr>\n",
              "    <tr>\n",
              "      <th>1252</th>\n",
              "      <td>2018-03-28</td>\n",
              "      <td>72.35</td>\n",
              "      <td>72.80</td>\n",
              "      <td>69.31</td>\n",
              "      <td>71.57</td>\n",
              "      <td>274106340</td>\n",
              "      <td>3</td>\n",
              "      <td>2018</td>\n",
              "    </tr>\n",
              "    <tr>\n",
              "      <th>1253</th>\n",
              "      <td>2018-03-27</td>\n",
              "      <td>78.62</td>\n",
              "      <td>78.80</td>\n",
              "      <td>74.12</td>\n",
              "      <td>74.85</td>\n",
              "      <td>139992620</td>\n",
              "      <td>3</td>\n",
              "      <td>2018</td>\n",
              "    </tr>\n",
              "    <tr>\n",
              "      <th>1254</th>\n",
              "      <td>2018-03-26</td>\n",
              "      <td>76.50</td>\n",
              "      <td>77.85</td>\n",
              "      <td>74.96</td>\n",
              "      <td>77.79</td>\n",
              "      <td>112494000</td>\n",
              "      <td>3</td>\n",
              "      <td>2018</td>\n",
              "    </tr>\n",
              "    <tr>\n",
              "      <th>1255</th>\n",
              "      <td>2018-03-23</td>\n",
              "      <td>76.95</td>\n",
              "      <td>77.45</td>\n",
              "      <td>74.77</td>\n",
              "      <td>74.78</td>\n",
              "      <td>160120660</td>\n",
              "      <td>3</td>\n",
              "      <td>2018</td>\n",
              "    </tr>\n",
              "    <tr>\n",
              "      <th>1256</th>\n",
              "      <td>2018-03-22</td>\n",
              "      <td>78.27</td>\n",
              "      <td>78.69</td>\n",
              "      <td>77.12</td>\n",
              "      <td>77.25</td>\n",
              "      <td>126411020</td>\n",
              "      <td>3</td>\n",
              "      <td>2018</td>\n",
              "    </tr>\n",
              "  </tbody>\n",
              "</table>\n",
              "<p>1257 rows × 8 columns</p>\n",
              "</div>"
            ],
            "text/plain": [
              "           Date  Open   High   Low  Close     Volume  Month  Year\n",
              "0    2023-03-20 98.41  98.48 95.70  97.71   62388911      3  2023\n",
              "1    2023-03-17 99.79 100.66 97.45  98.95   87300242      3  2023\n",
              "2    2023-03-16 95.75 100.99 95.61 100.04   84558934      3  2023\n",
              "3    2023-03-15 93.22  96.67 93.07  96.20   70731792      3  2023\n",
              "4    2023-03-14 93.83  95.07 92.71  94.88   60912674      3  2023\n",
              "...         ...   ...    ...   ...    ...        ...    ...   ...\n",
              "1252 2018-03-28 72.35  72.80 69.31  71.57  274106340      3  2018\n",
              "1253 2018-03-27 78.62  78.80 74.12  74.85  139992620      3  2018\n",
              "1254 2018-03-26 76.50  77.85 74.96  77.79  112494000      3  2018\n",
              "1255 2018-03-23 76.95  77.45 74.77  74.78  160120660      3  2018\n",
              "1256 2018-03-22 78.27  78.69 77.12  77.25  126411020      3  2018\n",
              "\n",
              "[1257 rows x 8 columns]"
            ]
          },
          "execution_count": 13,
          "metadata": {},
          "output_type": "execute_result"
        }
      ],
      "source": [
        "# enter solution here\n",
        "\n",
        "google['Month'] = google['Date'].dt.month\n",
        "google['Year'] = google['Date'].dt.year\n",
        "\n",
        "google"
      ]
    },
    {
      "cell_type": "markdown",
      "metadata": {
        "id": "4xTKSUzg10MK"
      },
      "source": [
        "### <a name='4'></a> Exercise 124\n",
        "Compute the average closing price (_Close_) for a particular year (group data by year - column _Year_ and then calculate the average value)."
      ]
    },
    {
      "cell_type": "code",
      "execution_count": 14,
      "metadata": {
        "id": "8y72Mrl_XbVR"
      },
      "outputs": [
        {
          "data": {
            "text/plain": [
              "Year\n",
              "2018    85.15\n",
              "2019    89.46\n",
              "2020   134.04\n",
              "2021   167.19\n",
              "2022   126.10\n",
              "2023    96.10\n",
              "Name: Close, dtype: float64"
            ]
          },
          "execution_count": 14,
          "metadata": {},
          "output_type": "execute_result"
        }
      ],
      "source": [
        "# enter solution here\n",
        "\n",
        "google.groupby(['Year'])['Close'].mean()"
      ]
    },
    {
      "cell_type": "markdown",
      "metadata": {
        "id": "WWUsF6Q_Xdqp"
      },
      "source": [
        "Present the obtained values on the graph using the _plot()_ method."
      ]
    },
    {
      "cell_type": "code",
      "execution_count": 15,
      "metadata": {
        "id": "vhH4QI4rXf0F"
      },
      "outputs": [
        {
          "data": {
            "image/png": "[encoded data removed]",
            "text/plain": [
              "<Figure size 640x480 with 1 Axes>"
            ]
          },
          "metadata": {},
          "output_type": "display_data"
        }
      ],
      "source": [
        "# enter solution here\n",
        "\n",
        "google.groupby(['Year'])['Close'].mean().plot();"
      ]
    },
    {
      "cell_type": "markdown",
      "metadata": {
        "id": "ZQdfGqr1Xong"
      },
      "source": [
        "Compute the average closing price (_Close_) for the month (group data by month - the _Month_ column and then count the average value)."
      ]
    },
    {
      "cell_type": "code",
      "execution_count": 16,
      "metadata": {
        "id": "Rv9ObC1DXlIP"
      },
      "outputs": [
        {
          "data": {
            "text/plain": [
              "Month\n",
              "1    116.18\n",
              "2    120.17\n",
              "3    116.67\n",
              "4    119.11\n",
              "5    112.51\n",
              "6    118.73\n",
              "7    127.67\n",
              "8    129.48\n",
              "9    129.13\n",
              "10   122.93\n",
              "11   119.31\n",
              "12   118.85\n",
              "Name: Close, dtype: float64"
            ]
          },
          "execution_count": 16,
          "metadata": {},
          "output_type": "execute_result"
        }
      ],
      "source": [
        "# enter solution here\n",
        "\n",
        "google.groupby(['Month'])['Close'].mean()"
      ]
    },
    {
      "cell_type": "markdown",
      "metadata": {
        "id": "xZK19EeaXtzH"
      },
      "source": [
        "Present the obtained values on the graph using the _plot()_ method.\n",
        "Note which months may indicate weaker periods on the stock market."
      ]
    },
    {
      "cell_type": "code",
      "execution_count": 17,
      "metadata": {
        "id": "si68U1IqXxz9"
      },
      "outputs": [
        {
          "data": {
            "image/png": "[encoded data removed]",
            "text/plain": [
              "<Figure size 640x480 with 1 Axes>"
            ]
          },
          "metadata": {},
          "output_type": "display_data"
        }
      ],
      "source": [
        "# enter solution here\n",
        "\n",
        "google.groupby(['Month'])['Close'].mean().plot();"
      ]
    },
    {
      "cell_type": "markdown",
      "metadata": {
        "id": "o3HKIKlP15Ro"
      },
      "source": [
        "### <a name='5'></a> Exercise 125\n",
        "Group data from _google_ at year and month level. Then calculate the average value.\n"
      ]
    },
    {
      "cell_type": "code",
      "execution_count": 18,
      "metadata": {
        "id": "Se7TZ3fIX5Z7"
      },
      "outputs": [
        {
          "data": {
            "text/plain": [
              "Year  Month\n",
              "2018  3       74.77\n",
              "      4       73.41\n",
              "      5       79.75\n",
              "      6       84.94\n",
              "      7       89.23\n",
              "               ... \n",
              "2022  11      93.95\n",
              "      12      87.94\n",
              "2023  1       94.22\n",
              "      2       99.21\n",
              "      3       94.54\n",
              "Name: Close, Length: 61, dtype: float64"
            ]
          },
          "execution_count": 18,
          "metadata": {},
          "output_type": "execute_result"
        }
      ],
      "source": [
        "# enter solution here\n",
        "\n",
        "google.groupby(['Year', 'Month'])['Close'].mean()"
      ]
    },
    {
      "cell_type": "markdown",
      "metadata": {
        "id": "PunXd_Ey16so"
      },
      "source": [
        "### <a name='6'></a> Exercise 126\n",
        "Find the index for which the _Close_ column has the largest value.\n"
      ]
    },
    {
      "cell_type": "code",
      "execution_count": 19,
      "metadata": {
        "id": "SHLzxmmNX9A6"
      },
      "outputs": [
        {
          "data": {
            "text/plain": [
              "427"
            ]
          },
          "execution_count": 19,
          "metadata": {},
          "output_type": "execute_result"
        }
      ],
      "source": [
        "# enter solution here\n",
        "\n",
        "google['Close'].argmax()"
      ]
    },
    {
      "cell_type": "markdown",
      "metadata": {
        "id": "Bmhj586UX_PT"
      },
      "source": [
        "Extract the row for this index from the google object as a DataFrame. Read the date."
      ]
    },
    {
      "cell_type": "code",
      "execution_count": 20,
      "metadata": {
        "id": "oR_HAXE0YCB6"
      },
      "outputs": [
        {
          "data": {
            "text/html": [
              "<div>\n",
              "<style scoped>\n",
              "    .dataframe tbody tr th:only-of-type {\n",
              "        vertical-align: middle;\n",
              "    }\n",
              "\n",
              "    .dataframe tbody tr th {\n",
              "        vertical-align: top;\n",
              "    }\n",
              "\n",
              "    .dataframe thead th {\n",
              "        text-align: right;\n",
              "    }\n",
              "</style>\n",
              "<table border=\"1\" class=\"dataframe\">\n",
              "  <thead>\n",
              "    <tr style=\"text-align: right;\">\n",
              "      <th></th>\n",
              "      <th>Date</th>\n",
              "      <th>Open</th>\n",
              "      <th>High</th>\n",
              "      <th>Low</th>\n",
              "      <th>Close</th>\n",
              "      <th>Volume</th>\n",
              "      <th>Month</th>\n",
              "      <th>Year</th>\n",
              "    </tr>\n",
              "  </thead>\n",
              "  <tbody>\n",
              "    <tr>\n",
              "      <th>427</th>\n",
              "      <td>2021-07-08</td>\n",
              "      <td>182.18</td>\n",
              "      <td>188.00</td>\n",
              "      <td>181.06</td>\n",
              "      <td>186.57</td>\n",
              "      <td>103612460</td>\n",
              "      <td>7</td>\n",
              "      <td>2021</td>\n",
              "    </tr>\n",
              "  </tbody>\n",
              "</table>\n",
              "</div>"
            ],
            "text/plain": [
              "          Date   Open   High    Low  Close     Volume  Month  Year\n",
              "427 2021-07-08 182.18 188.00 181.06 186.57  103612460      7  2021"
            ]
          },
          "execution_count": 20,
          "metadata": {},
          "output_type": "execute_result"
        }
      ],
      "source": [
        "# enter solution here\n",
        "\n",
        "date = google.iloc[[google['Close'].argmax()]]\n",
        "\n",
        "date"
      ]
    },
    {
      "cell_type": "markdown",
      "metadata": {
        "id": "hOhqDRz618Tx"
      },
      "source": [
        "### <a name='7'></a> Exercise 127\n",
        "Extract the columns _Date_, _Open_, _Close_, _Volume_ from the _google_ object.\n",
        "Don't change the original _google_ object!"
      ]
    },
    {
      "cell_type": "code",
      "execution_count": 25,
      "metadata": {
        "id": "rF0EWOQLYGeT"
      },
      "outputs": [
        {
          "data": {
            "text/html": [
              "<div>\n",
              "<style scoped>\n",
              "    .dataframe tbody tr th:only-of-type {\n",
              "        vertical-align: middle;\n",
              "    }\n",
              "\n",
              "    .dataframe tbody tr th {\n",
              "        vertical-align: top;\n",
              "    }\n",
              "\n",
              "    .dataframe thead th {\n",
              "        text-align: right;\n",
              "    }\n",
              "</style>\n",
              "<table border=\"1\" class=\"dataframe\">\n",
              "  <thead>\n",
              "    <tr style=\"text-align: right;\">\n",
              "      <th></th>\n",
              "      <th>Date</th>\n",
              "      <th>Open</th>\n",
              "      <th>Close</th>\n",
              "      <th>Volume</th>\n",
              "    </tr>\n",
              "  </thead>\n",
              "  <tbody>\n",
              "    <tr>\n",
              "      <th>0</th>\n",
              "      <td>2023-03-20</td>\n",
              "      <td>98.41</td>\n",
              "      <td>97.71</td>\n",
              "      <td>62388911</td>\n",
              "    </tr>\n",
              "    <tr>\n",
              "      <th>1</th>\n",
              "      <td>2023-03-17</td>\n",
              "      <td>99.79</td>\n",
              "      <td>98.95</td>\n",
              "      <td>87300242</td>\n",
              "    </tr>\n",
              "    <tr>\n",
              "      <th>2</th>\n",
              "      <td>2023-03-16</td>\n",
              "      <td>95.75</td>\n",
              "      <td>100.04</td>\n",
              "      <td>84558934</td>\n",
              "    </tr>\n",
              "    <tr>\n",
              "      <th>3</th>\n",
              "      <td>2023-03-15</td>\n",
              "      <td>93.22</td>\n",
              "      <td>96.20</td>\n",
              "      <td>70731792</td>\n",
              "    </tr>\n",
              "    <tr>\n",
              "      <th>4</th>\n",
              "      <td>2023-03-14</td>\n",
              "      <td>93.83</td>\n",
              "      <td>94.88</td>\n",
              "      <td>60912674</td>\n",
              "    </tr>\n",
              "    <tr>\n",
              "      <th>...</th>\n",
              "      <td>...</td>\n",
              "      <td>...</td>\n",
              "      <td>...</td>\n",
              "      <td>...</td>\n",
              "    </tr>\n",
              "    <tr>\n",
              "      <th>1252</th>\n",
              "      <td>2018-03-28</td>\n",
              "      <td>72.35</td>\n",
              "      <td>71.57</td>\n",
              "      <td>274106340</td>\n",
              "    </tr>\n",
              "    <tr>\n",
              "      <th>1253</th>\n",
              "      <td>2018-03-27</td>\n",
              "      <td>78.62</td>\n",
              "      <td>74.85</td>\n",
              "      <td>139992620</td>\n",
              "    </tr>\n",
              "    <tr>\n",
              "      <th>1254</th>\n",
              "      <td>2018-03-26</td>\n",
              "      <td>76.50</td>\n",
              "      <td>77.79</td>\n",
              "      <td>112494000</td>\n",
              "    </tr>\n",
              "    <tr>\n",
              "      <th>1255</th>\n",
              "      <td>2018-03-23</td>\n",
              "      <td>76.95</td>\n",
              "      <td>74.78</td>\n",
              "      <td>160120660</td>\n",
              "    </tr>\n",
              "    <tr>\n",
              "      <th>1256</th>\n",
              "      <td>2018-03-22</td>\n",
              "      <td>78.27</td>\n",
              "      <td>77.25</td>\n",
              "      <td>126411020</td>\n",
              "    </tr>\n",
              "  </tbody>\n",
              "</table>\n",
              "<p>1257 rows × 4 columns</p>\n",
              "</div>"
            ],
            "text/plain": [
              "           Date  Open  Close     Volume\n",
              "0    2023-03-20 98.41  97.71   62388911\n",
              "1    2023-03-17 99.79  98.95   87300242\n",
              "2    2023-03-16 95.75 100.04   84558934\n",
              "3    2023-03-15 93.22  96.20   70731792\n",
              "4    2023-03-14 93.83  94.88   60912674\n",
              "...         ...   ...    ...        ...\n",
              "1252 2018-03-28 72.35  71.57  274106340\n",
              "1253 2018-03-27 78.62  74.85  139992620\n",
              "1254 2018-03-26 76.50  77.79  112494000\n",
              "1255 2018-03-23 76.95  74.78  160120660\n",
              "1256 2018-03-22 78.27  77.25  126411020\n",
              "\n",
              "[1257 rows x 4 columns]"
            ]
          },
          "execution_count": 25,
          "metadata": {},
          "output_type": "execute_result"
        }
      ],
      "source": [
        "# enter solution here\n",
        "\n",
        "google[[\"Date\", \"Open\", \"Close\", \"Volume\"]]\n"
      ]
    },
    {
      "cell_type": "markdown",
      "metadata": {
        "id": "TXUd_4631-gw"
      },
      "source": [
        "### <a name='8'></a> Exercise 128\n",
        "Set the index for the _Date_ column back. Display object _google_."
      ]
    },
    {
      "cell_type": "code",
      "execution_count": 26,
      "metadata": {
        "id": "1asmE6YJYLw-"
      },
      "outputs": [
        {
          "data": {
            "text/html": [
              "<div>\n",
              "<style scoped>\n",
              "    .dataframe tbody tr th:only-of-type {\n",
              "        vertical-align: middle;\n",
              "    }\n",
              "\n",
              "    .dataframe tbody tr th {\n",
              "        vertical-align: top;\n",
              "    }\n",
              "\n",
              "    .dataframe thead th {\n",
              "        text-align: right;\n",
              "    }\n",
              "</style>\n",
              "<table border=\"1\" class=\"dataframe\">\n",
              "  <thead>\n",
              "    <tr style=\"text-align: right;\">\n",
              "      <th></th>\n",
              "      <th>Open</th>\n",
              "      <th>High</th>\n",
              "      <th>Low</th>\n",
              "      <th>Close</th>\n",
              "      <th>Volume</th>\n",
              "      <th>Month</th>\n",
              "      <th>Year</th>\n",
              "    </tr>\n",
              "    <tr>\n",
              "      <th>Date</th>\n",
              "      <th></th>\n",
              "      <th></th>\n",
              "      <th></th>\n",
              "      <th></th>\n",
              "      <th></th>\n",
              "      <th></th>\n",
              "      <th></th>\n",
              "    </tr>\n",
              "  </thead>\n",
              "  <tbody>\n",
              "    <tr>\n",
              "      <th>2023-03-20</th>\n",
              "      <td>98.41</td>\n",
              "      <td>98.48</td>\n",
              "      <td>95.70</td>\n",
              "      <td>97.71</td>\n",
              "      <td>62388911</td>\n",
              "      <td>3</td>\n",
              "      <td>2023</td>\n",
              "    </tr>\n",
              "    <tr>\n",
              "      <th>2023-03-17</th>\n",
              "      <td>99.79</td>\n",
              "      <td>100.66</td>\n",
              "      <td>97.45</td>\n",
              "      <td>98.95</td>\n",
              "      <td>87300242</td>\n",
              "      <td>3</td>\n",
              "      <td>2023</td>\n",
              "    </tr>\n",
              "    <tr>\n",
              "      <th>2023-03-16</th>\n",
              "      <td>95.75</td>\n",
              "      <td>100.99</td>\n",
              "      <td>95.61</td>\n",
              "      <td>100.04</td>\n",
              "      <td>84558934</td>\n",
              "      <td>3</td>\n",
              "      <td>2023</td>\n",
              "    </tr>\n",
              "    <tr>\n",
              "      <th>2023-03-15</th>\n",
              "      <td>93.22</td>\n",
              "      <td>96.67</td>\n",
              "      <td>93.07</td>\n",
              "      <td>96.20</td>\n",
              "      <td>70731792</td>\n",
              "      <td>3</td>\n",
              "      <td>2023</td>\n",
              "    </tr>\n",
              "    <tr>\n",
              "      <th>2023-03-14</th>\n",
              "      <td>93.83</td>\n",
              "      <td>95.07</td>\n",
              "      <td>92.71</td>\n",
              "      <td>94.88</td>\n",
              "      <td>60912674</td>\n",
              "      <td>3</td>\n",
              "      <td>2023</td>\n",
              "    </tr>\n",
              "    <tr>\n",
              "      <th>...</th>\n",
              "      <td>...</td>\n",
              "      <td>...</td>\n",
              "      <td>...</td>\n",
              "      <td>...</td>\n",
              "      <td>...</td>\n",
              "      <td>...</td>\n",
              "      <td>...</td>\n",
              "    </tr>\n",
              "    <tr>\n",
              "      <th>2018-03-28</th>\n",
              "      <td>72.35</td>\n",
              "      <td>72.80</td>\n",
              "      <td>69.31</td>\n",
              "      <td>71.57</td>\n",
              "      <td>274106340</td>\n",
              "      <td>3</td>\n",
              "      <td>2018</td>\n",
              "    </tr>\n",
              "    <tr>\n",
              "      <th>2018-03-27</th>\n",
              "      <td>78.62</td>\n",
              "      <td>78.80</td>\n",
              "      <td>74.12</td>\n",
              "      <td>74.85</td>\n",
              "      <td>139992620</td>\n",
              "      <td>3</td>\n",
              "      <td>2018</td>\n",
              "    </tr>\n",
              "    <tr>\n",
              "      <th>2018-03-26</th>\n",
              "      <td>76.50</td>\n",
              "      <td>77.85</td>\n",
              "      <td>74.96</td>\n",
              "      <td>77.79</td>\n",
              "      <td>112494000</td>\n",
              "      <td>3</td>\n",
              "      <td>2018</td>\n",
              "    </tr>\n",
              "    <tr>\n",
              "      <th>2018-03-23</th>\n",
              "      <td>76.95</td>\n",
              "      <td>77.45</td>\n",
              "      <td>74.77</td>\n",
              "      <td>74.78</td>\n",
              "      <td>160120660</td>\n",
              "      <td>3</td>\n",
              "      <td>2018</td>\n",
              "    </tr>\n",
              "    <tr>\n",
              "      <th>2018-03-22</th>\n",
              "      <td>78.27</td>\n",
              "      <td>78.69</td>\n",
              "      <td>77.12</td>\n",
              "      <td>77.25</td>\n",
              "      <td>126411020</td>\n",
              "      <td>3</td>\n",
              "      <td>2018</td>\n",
              "    </tr>\n",
              "  </tbody>\n",
              "</table>\n",
              "<p>1257 rows × 7 columns</p>\n",
              "</div>"
            ],
            "text/plain": [
              "            Open   High   Low  Close     Volume  Month  Year\n",
              "Date                                                        \n",
              "2023-03-20 98.41  98.48 95.70  97.71   62388911      3  2023\n",
              "2023-03-17 99.79 100.66 97.45  98.95   87300242      3  2023\n",
              "2023-03-16 95.75 100.99 95.61 100.04   84558934      3  2023\n",
              "2023-03-15 93.22  96.67 93.07  96.20   70731792      3  2023\n",
              "2023-03-14 93.83  95.07 92.71  94.88   60912674      3  2023\n",
              "...          ...    ...   ...    ...        ...    ...   ...\n",
              "2018-03-28 72.35  72.80 69.31  71.57  274106340      3  2018\n",
              "2018-03-27 78.62  78.80 74.12  74.85  139992620      3  2018\n",
              "2018-03-26 76.50  77.85 74.96  77.79  112494000      3  2018\n",
              "2018-03-23 76.95  77.45 74.77  74.78  160120660      3  2018\n",
              "2018-03-22 78.27  78.69 77.12  77.25  126411020      3  2018\n",
              "\n",
              "[1257 rows x 7 columns]"
            ]
          },
          "execution_count": 26,
          "metadata": {},
          "output_type": "execute_result"
        }
      ],
      "source": [
        "# enter solution here\n",
        "\n",
        "google.set_index('Date', inplace=True)\n",
        "\n",
        "google"
      ]
    },
    {
      "cell_type": "markdown",
      "metadata": {
        "id": "tgI6xEn-2AQo"
      },
      "source": [
        "### <a name='9'></a> Exercise 129\n",
        "Permanently remove the _Year_ and _Month_ columns from the _google_ object. Display object _google_."
      ]
    },
    {
      "cell_type": "code",
      "execution_count": 28,
      "metadata": {
        "id": "tmRTUIEOYc9x"
      },
      "outputs": [
        {
          "data": {
            "text/html": [
              "<div>\n",
              "<style scoped>\n",
              "    .dataframe tbody tr th:only-of-type {\n",
              "        vertical-align: middle;\n",
              "    }\n",
              "\n",
              "    .dataframe tbody tr th {\n",
              "        vertical-align: top;\n",
              "    }\n",
              "\n",
              "    .dataframe thead th {\n",
              "        text-align: right;\n",
              "    }\n",
              "</style>\n",
              "<table border=\"1\" class=\"dataframe\">\n",
              "  <thead>\n",
              "    <tr style=\"text-align: right;\">\n",
              "      <th></th>\n",
              "      <th>Open</th>\n",
              "      <th>High</th>\n",
              "      <th>Low</th>\n",
              "      <th>Close</th>\n",
              "      <th>Volume</th>\n",
              "    </tr>\n",
              "    <tr>\n",
              "      <th>Date</th>\n",
              "      <th></th>\n",
              "      <th></th>\n",
              "      <th></th>\n",
              "      <th></th>\n",
              "      <th></th>\n",
              "    </tr>\n",
              "  </thead>\n",
              "  <tbody>\n",
              "    <tr>\n",
              "      <th>2023-03-20</th>\n",
              "      <td>98.41</td>\n",
              "      <td>98.48</td>\n",
              "      <td>95.70</td>\n",
              "      <td>97.71</td>\n",
              "      <td>62388911</td>\n",
              "    </tr>\n",
              "    <tr>\n",
              "      <th>2023-03-17</th>\n",
              "      <td>99.79</td>\n",
              "      <td>100.66</td>\n",
              "      <td>97.45</td>\n",
              "      <td>98.95</td>\n",
              "      <td>87300242</td>\n",
              "    </tr>\n",
              "    <tr>\n",
              "      <th>2023-03-16</th>\n",
              "      <td>95.75</td>\n",
              "      <td>100.99</td>\n",
              "      <td>95.61</td>\n",
              "      <td>100.04</td>\n",
              "      <td>84558934</td>\n",
              "    </tr>\n",
              "    <tr>\n",
              "      <th>2023-03-15</th>\n",
              "      <td>93.22</td>\n",
              "      <td>96.67</td>\n",
              "      <td>93.07</td>\n",
              "      <td>96.20</td>\n",
              "      <td>70731792</td>\n",
              "    </tr>\n",
              "    <tr>\n",
              "      <th>2023-03-14</th>\n",
              "      <td>93.83</td>\n",
              "      <td>95.07</td>\n",
              "      <td>92.71</td>\n",
              "      <td>94.88</td>\n",
              "      <td>60912674</td>\n",
              "    </tr>\n",
              "    <tr>\n",
              "      <th>...</th>\n",
              "      <td>...</td>\n",
              "      <td>...</td>\n",
              "      <td>...</td>\n",
              "      <td>...</td>\n",
              "      <td>...</td>\n",
              "    </tr>\n",
              "    <tr>\n",
              "      <th>2018-03-28</th>\n",
              "      <td>72.35</td>\n",
              "      <td>72.80</td>\n",
              "      <td>69.31</td>\n",
              "      <td>71.57</td>\n",
              "      <td>274106340</td>\n",
              "    </tr>\n",
              "    <tr>\n",
              "      <th>2018-03-27</th>\n",
              "      <td>78.62</td>\n",
              "      <td>78.80</td>\n",
              "      <td>74.12</td>\n",
              "      <td>74.85</td>\n",
              "      <td>139992620</td>\n",
              "    </tr>\n",
              "    <tr>\n",
              "      <th>2018-03-26</th>\n",
              "      <td>76.50</td>\n",
              "      <td>77.85</td>\n",
              "      <td>74.96</td>\n",
              "      <td>77.79</td>\n",
              "      <td>112494000</td>\n",
              "    </tr>\n",
              "    <tr>\n",
              "      <th>2018-03-23</th>\n",
              "      <td>76.95</td>\n",
              "      <td>77.45</td>\n",
              "      <td>74.77</td>\n",
              "      <td>74.78</td>\n",
              "      <td>160120660</td>\n",
              "    </tr>\n",
              "    <tr>\n",
              "      <th>2018-03-22</th>\n",
              "      <td>78.27</td>\n",
              "      <td>78.69</td>\n",
              "      <td>77.12</td>\n",
              "      <td>77.25</td>\n",
              "      <td>126411020</td>\n",
              "    </tr>\n",
              "  </tbody>\n",
              "</table>\n",
              "<p>1257 rows × 5 columns</p>\n",
              "</div>"
            ],
            "text/plain": [
              "            Open   High   Low  Close     Volume\n",
              "Date                                           \n",
              "2023-03-20 98.41  98.48 95.70  97.71   62388911\n",
              "2023-03-17 99.79 100.66 97.45  98.95   87300242\n",
              "2023-03-16 95.75 100.99 95.61 100.04   84558934\n",
              "2023-03-15 93.22  96.67 93.07  96.20   70731792\n",
              "2023-03-14 93.83  95.07 92.71  94.88   60912674\n",
              "...          ...    ...   ...    ...        ...\n",
              "2018-03-28 72.35  72.80 69.31  71.57  274106340\n",
              "2018-03-27 78.62  78.80 74.12  74.85  139992620\n",
              "2018-03-26 76.50  77.85 74.96  77.79  112494000\n",
              "2018-03-23 76.95  77.45 74.77  74.78  160120660\n",
              "2018-03-22 78.27  78.69 77.12  77.25  126411020\n",
              "\n",
              "[1257 rows x 5 columns]"
            ]
          },
          "execution_count": 28,
          "metadata": {},
          "output_type": "execute_result"
        }
      ],
      "source": [
        "# enter solution here\n",
        "\n",
        "google.drop(['Year', 'Month'], inplace=True, axis=1)\n",
        "\n",
        "google"
      ]
    },
    {
      "cell_type": "markdown",
      "metadata": {
        "id": "wxhpf-uq2B1I"
      },
      "source": [
        "### <a name='10'></a> Exercise 130\n",
        "\n",
        "Assign the following values to the column names:\n",
        "* Open -> O\n",
        "* High -> H\n",
        "* Low -> L\n",
        "* Close -> C\n",
        "* Volume -> V\n",
        "\n",
        "to object _google_. Siaplay object _google_."
      ]
    },
    {
      "cell_type": "code",
      "execution_count": 29,
      "metadata": {
        "id": "YFc0KW6URsuc"
      },
      "outputs": [
        {
          "data": {
            "text/html": [
              "<div>\n",
              "<style scoped>\n",
              "    .dataframe tbody tr th:only-of-type {\n",
              "        vertical-align: middle;\n",
              "    }\n",
              "\n",
              "    .dataframe tbody tr th {\n",
              "        vertical-align: top;\n",
              "    }\n",
              "\n",
              "    .dataframe thead th {\n",
              "        text-align: right;\n",
              "    }\n",
              "</style>\n",
              "<table border=\"1\" class=\"dataframe\">\n",
              "  <thead>\n",
              "    <tr style=\"text-align: right;\">\n",
              "      <th></th>\n",
              "      <th>O</th>\n",
              "      <th>H</th>\n",
              "      <th>L</th>\n",
              "      <th>C</th>\n",
              "      <th>V</th>\n",
              "    </tr>\n",
              "    <tr>\n",
              "      <th>Date</th>\n",
              "      <th></th>\n",
              "      <th></th>\n",
              "      <th></th>\n",
              "      <th></th>\n",
              "      <th></th>\n",
              "    </tr>\n",
              "  </thead>\n",
              "  <tbody>\n",
              "    <tr>\n",
              "      <th>2023-03-20</th>\n",
              "      <td>98.41</td>\n",
              "      <td>98.48</td>\n",
              "      <td>95.70</td>\n",
              "      <td>97.71</td>\n",
              "      <td>62388911</td>\n",
              "    </tr>\n",
              "    <tr>\n",
              "      <th>2023-03-17</th>\n",
              "      <td>99.79</td>\n",
              "      <td>100.66</td>\n",
              "      <td>97.45</td>\n",
              "      <td>98.95</td>\n",
              "      <td>87300242</td>\n",
              "    </tr>\n",
              "    <tr>\n",
              "      <th>2023-03-16</th>\n",
              "      <td>95.75</td>\n",
              "      <td>100.99</td>\n",
              "      <td>95.61</td>\n",
              "      <td>100.04</td>\n",
              "      <td>84558934</td>\n",
              "    </tr>\n",
              "    <tr>\n",
              "      <th>2023-03-15</th>\n",
              "      <td>93.22</td>\n",
              "      <td>96.67</td>\n",
              "      <td>93.07</td>\n",
              "      <td>96.20</td>\n",
              "      <td>70731792</td>\n",
              "    </tr>\n",
              "    <tr>\n",
              "      <th>2023-03-14</th>\n",
              "      <td>93.83</td>\n",
              "      <td>95.07</td>\n",
              "      <td>92.71</td>\n",
              "      <td>94.88</td>\n",
              "      <td>60912674</td>\n",
              "    </tr>\n",
              "    <tr>\n",
              "      <th>...</th>\n",
              "      <td>...</td>\n",
              "      <td>...</td>\n",
              "      <td>...</td>\n",
              "      <td>...</td>\n",
              "      <td>...</td>\n",
              "    </tr>\n",
              "    <tr>\n",
              "      <th>2018-03-28</th>\n",
              "      <td>72.35</td>\n",
              "      <td>72.80</td>\n",
              "      <td>69.31</td>\n",
              "      <td>71.57</td>\n",
              "      <td>274106340</td>\n",
              "    </tr>\n",
              "    <tr>\n",
              "      <th>2018-03-27</th>\n",
              "      <td>78.62</td>\n",
              "      <td>78.80</td>\n",
              "      <td>74.12</td>\n",
              "      <td>74.85</td>\n",
              "      <td>139992620</td>\n",
              "    </tr>\n",
              "    <tr>\n",
              "      <th>2018-03-26</th>\n",
              "      <td>76.50</td>\n",
              "      <td>77.85</td>\n",
              "      <td>74.96</td>\n",
              "      <td>77.79</td>\n",
              "      <td>112494000</td>\n",
              "    </tr>\n",
              "    <tr>\n",
              "      <th>2018-03-23</th>\n",
              "      <td>76.95</td>\n",
              "      <td>77.45</td>\n",
              "      <td>74.77</td>\n",
              "      <td>74.78</td>\n",
              "      <td>160120660</td>\n",
              "    </tr>\n",
              "    <tr>\n",
              "      <th>2018-03-22</th>\n",
              "      <td>78.27</td>\n",
              "      <td>78.69</td>\n",
              "      <td>77.12</td>\n",
              "      <td>77.25</td>\n",
              "      <td>126411020</td>\n",
              "    </tr>\n",
              "  </tbody>\n",
              "</table>\n",
              "<p>1257 rows × 5 columns</p>\n",
              "</div>"
            ],
            "text/plain": [
              "               O      H     L      C          V\n",
              "Date                                           \n",
              "2023-03-20 98.41  98.48 95.70  97.71   62388911\n",
              "2023-03-17 99.79 100.66 97.45  98.95   87300242\n",
              "2023-03-16 95.75 100.99 95.61 100.04   84558934\n",
              "2023-03-15 93.22  96.67 93.07  96.20   70731792\n",
              "2023-03-14 93.83  95.07 92.71  94.88   60912674\n",
              "...          ...    ...   ...    ...        ...\n",
              "2018-03-28 72.35  72.80 69.31  71.57  274106340\n",
              "2018-03-27 78.62  78.80 74.12  74.85  139992620\n",
              "2018-03-26 76.50  77.85 74.96  77.79  112494000\n",
              "2018-03-23 76.95  77.45 74.77  74.78  160120660\n",
              "2018-03-22 78.27  78.69 77.12  77.25  126411020\n",
              "\n",
              "[1257 rows x 5 columns]"
            ]
          },
          "execution_count": 29,
          "metadata": {},
          "output_type": "execute_result"
        }
      ],
      "source": [
        "# enter solution here\n",
        "\n",
        "google.columns = google.columns.str[0]\n",
        "\n",
        "google"
      ]
    }
  ],
  "metadata": {
    "colab": {
      "include_colab_link": true,
      "provenance": []
    },
    "kernelspec": {
      "display_name": "Python 3",
      "name": "python3"
    },
    "language_info": {
      "codemirror_mode": {
        "name": "ipython",
        "version": 3
      },
      "file_extension": ".py",
      "mimetype": "text/x-python",
      "name": "python",
      "nbconvert_exporter": "python",
      "pygments_lexer": "ipython3",
      "version": "3.10.6"
    }
  },
  "nbformat": 4,
  "nbformat_minor": 0
}
