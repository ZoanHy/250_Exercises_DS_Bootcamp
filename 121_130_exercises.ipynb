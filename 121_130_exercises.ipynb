{
  "nbformat": 4,
  "nbformat_minor": 0,
  "metadata": {
    "colab": {
      "provenance": [],
      "include_colab_link": true
    },
    "kernelspec": {
      "name": "python3",
      "display_name": "Python 3"
    }
  },
  "cells": [
    {
      "cell_type": "markdown",
      "metadata": {
        "id": "view-in-github",
        "colab_type": "text"
      },
      "source": [
        "<a href=\"https://colab.research.google.com/github/ZoanHy/250plus---Exercises-DS-Bootcamp-in-Python/blob/main/121_130_exercises.ipynb\" target=\"_parent\"><img src=\"https://colab.research.google.com/assets/colab-badge.svg\" alt=\"Open In Colab\"/></a>"
      ]
    },
    {
      "cell_type": "markdown",
      "metadata": {
        "id": "WLEgCW5F1hho"
      },
      "source": [
        "## Pandas\n",
        "\n",
        "### Table of contents:\n",
        "* [Import biblioteki](#0)\n",
        "* [Exercise 121](#1)\n",
        "* [Exercise 122](#2)\n",
        "* [Exercise 123](#3)\n",
        "* [Exercise 124](#4)\n",
        "* [Exercise 125](#5)\n",
        "* [Exercise 126](#6)\n",
        "* [Exercise 127](#7)\n",
        "* [Exercise 128](#8)\n",
        "* [Exercise 129](#9)\n",
        "* [Exercise 130](#10)"
      ]
    },
    {
      "cell_type": "markdown",
      "metadata": {
        "id": "zeLOLmTj1kBM"
      },
      "source": [
        "### <a name='0'></a> Import of libraries"
      ]
    },
    {
      "cell_type": "code",
      "metadata": {
        "id": "HXMB7SMe1Wnz"
      },
      "source": [
        "import numpy as np\n",
        "import pandas as pd\n",
        "import seaborn as sns\n",
        "\n",
        "sns.set()\n",
        "np.__version__"
      ],
      "execution_count": null,
      "outputs": []
    },
    {
      "cell_type": "markdown",
      "metadata": {
        "id": "XHC7OOdSWAp-"
      },
      "source": [
        "The _fetch_financial_data()_ function fetches data on listed companies. It will be used in the following exercises. To download data of a specific company, you must provide the ticker (symbol) of the company.\n",
        "\n",
        "Some sample company tickers:\n",
        "* AMZN - Amazon\n",
        "* GOOGL - Google\n",
        "* MSFT - Microsoft\n",
        "* AAPL - Apple\n",
        "* NKE - Nike\n",
        "* WMT - Walmart"
      ]
    },
    {
      "cell_type": "code",
      "metadata": {
        "id": "Cco5py75WIi3"
      },
      "source": [
        "def fetch_financial_data(company='AMZN'):\n",
        "    \"\"\"\n",
        "    This function fetches stock market quotations.\n",
        "    \"\"\"\n",
        "    import pandas_datareader.data as web\n",
        "    return web.DataReader(name=company, data_source='stooq')"
      ],
      "execution_count": null,
      "outputs": []
    },
    {
      "cell_type": "markdown",
      "metadata": {
        "id": "cyc70pMe1oCg"
      },
      "source": [
        "### <a name='1'></a> Exercise 121\n",
        "Using the _fetch_financial_data()_ function, download Google (Alphabet) quotes and assign to the variable _google_. Display object _google_."
      ]
    },
    {
      "cell_type": "code",
      "metadata": {
        "id": "-X_EmE0yWZJy"
      },
      "source": [
        "# enter solution here"
      ],
      "execution_count": null,
      "outputs": []
    },
    {
      "cell_type": "markdown",
      "metadata": {
        "id": "J9pY1rtr1sC0"
      },
      "source": [
        "### <a name='2'></a> Exercise 122\n",
        "Display basic information about _google_ object."
      ]
    },
    {
      "cell_type": "code",
      "metadata": {
        "id": "jYe-jwFgWhRj"
      },
      "source": [
        "# enter solution here"
      ],
      "execution_count": null,
      "outputs": []
    },
    {
      "cell_type": "markdown",
      "metadata": {
        "id": "qXa0-U9nWkUy"
      },
      "source": [
        "Display basic statistics for _google_."
      ]
    },
    {
      "cell_type": "code",
      "metadata": {
        "id": "wOPx2ufcWnMl"
      },
      "source": [
        "# enter solution here"
      ],
      "execution_count": null,
      "outputs": []
    },
    {
      "cell_type": "markdown",
      "metadata": {
        "id": "eYd_y8_TWro3"
      },
      "source": [
        "Note the precision of individual statistics.\n",
        "Try setting the appropriate _pandas_ library options to display data with two decimal places.\n",
        "\n",
        "__Tip:__ \n",
        "https://pandas.pydata.org/pandas-docs/stable/user_guide/options.html"
      ]
    },
    {
      "cell_type": "code",
      "metadata": {
        "id": "zHXcFbuEWyBC"
      },
      "source": [
        "# enter solution here"
      ],
      "execution_count": null,
      "outputs": []
    },
    {
      "cell_type": "markdown",
      "metadata": {
        "id": "_PTZL5EXW0Fk"
      },
      "source": [
        "__Additionally:__\n",
        "The following setting will also suppress mathematical notation (see column _Volume_)."
      ]
    },
    {
      "cell_type": "code",
      "metadata": {
        "id": "mKi0XqaWW3zC"
      },
      "source": [
        "pd.options.display.float_format = '{:.2f}'.format\n",
        "google.describe()"
      ],
      "execution_count": null,
      "outputs": []
    },
    {
      "cell_type": "markdown",
      "metadata": {
        "id": "wVGd55NMW6ZU"
      },
      "source": [
        "Build a simple chart for _google_ closing price (_Close_)"
      ]
    },
    {
      "cell_type": "code",
      "metadata": {
        "id": "6z75UldWXDOr"
      },
      "source": [
        "# enter solution here"
      ],
      "execution_count": null,
      "outputs": []
    },
    {
      "cell_type": "markdown",
      "metadata": {
        "id": "XQLYT2m11wVG"
      },
      "source": [
        "### <a name='3'></a> Exercise 123\n",
        "Replace the _Date_ index with a column. Permanently assign changes to the _google_."
      ]
    },
    {
      "cell_type": "code",
      "metadata": {
        "id": "tnmHL0sxXPLK"
      },
      "source": [
        "# enter solution here"
      ],
      "execution_count": null,
      "outputs": []
    },
    {
      "cell_type": "markdown",
      "metadata": {
        "id": "UM5yUTmzXR5G"
      },
      "source": [
        "Assign two new columns to the _google_ object by adding a column with the current month number named _'Month'_ and the year named _'Year'_."
      ]
    },
    {
      "cell_type": "code",
      "metadata": {
        "id": "TuqLYi3bXUkv"
      },
      "source": [
        "# enter solution here"
      ],
      "execution_count": null,
      "outputs": []
    },
    {
      "cell_type": "markdown",
      "metadata": {
        "id": "4xTKSUzg10MK"
      },
      "source": [
        "### <a name='4'></a> Exercise 124\n",
        "Compute the average closing price (_Close_) for a particular year (group data by year - column _Year_ and then calculate the average value)."
      ]
    },
    {
      "cell_type": "code",
      "metadata": {
        "id": "8y72Mrl_XbVR"
      },
      "source": [
        "# enter solution here"
      ],
      "execution_count": null,
      "outputs": []
    },
    {
      "cell_type": "markdown",
      "metadata": {
        "id": "WWUsF6Q_Xdqp"
      },
      "source": [
        "Present the obtained values on the graph using the _plot()_ method."
      ]
    },
    {
      "cell_type": "code",
      "metadata": {
        "id": "vhH4QI4rXf0F"
      },
      "source": [
        "# enter solution here"
      ],
      "execution_count": null,
      "outputs": []
    },
    {
      "cell_type": "markdown",
      "metadata": {
        "id": "ZQdfGqr1Xong"
      },
      "source": [
        "Compute the average closing price (_Close_) for the month (group data by month - the _Month_ column and then count the average value)."
      ]
    },
    {
      "cell_type": "code",
      "metadata": {
        "id": "Rv9ObC1DXlIP"
      },
      "source": [
        "# enter solution here"
      ],
      "execution_count": null,
      "outputs": []
    },
    {
      "cell_type": "markdown",
      "metadata": {
        "id": "xZK19EeaXtzH"
      },
      "source": [
        "Present the obtained values on the graph using the _plot()_ method.\n",
        "Note which months may indicate weaker periods on the stock market."
      ]
    },
    {
      "cell_type": "code",
      "metadata": {
        "id": "si68U1IqXxz9"
      },
      "source": [
        "# enter solution here"
      ],
      "execution_count": null,
      "outputs": []
    },
    {
      "cell_type": "markdown",
      "metadata": {
        "id": "o3HKIKlP15Ro"
      },
      "source": [
        "### <a name='5'></a> Exercise 125\n",
        "Group data from _google_ at year and month level. Then calculate the average value.\n"
      ]
    },
    {
      "cell_type": "code",
      "metadata": {
        "id": "Se7TZ3fIX5Z7"
      },
      "source": [
        "# enter solution here"
      ],
      "execution_count": null,
      "outputs": []
    },
    {
      "cell_type": "markdown",
      "metadata": {
        "id": "PunXd_Ey16so"
      },
      "source": [
        "### <a name='6'></a> Exercise 126\n",
        "Find the index for which the _Close_ column has the largest value.\n"
      ]
    },
    {
      "cell_type": "code",
      "metadata": {
        "id": "SHLzxmmNX9A6"
      },
      "source": [
        "# enter solution here"
      ],
      "execution_count": null,
      "outputs": []
    },
    {
      "cell_type": "markdown",
      "metadata": {
        "id": "Bmhj586UX_PT"
      },
      "source": [
        "Extract the row for this index from the google object as a DataFrame. Read the date."
      ]
    },
    {
      "cell_type": "code",
      "metadata": {
        "id": "oR_HAXE0YCB6"
      },
      "source": [
        "# enter solution here"
      ],
      "execution_count": null,
      "outputs": []
    },
    {
      "cell_type": "markdown",
      "metadata": {
        "id": "hOhqDRz618Tx"
      },
      "source": [
        "### <a name='7'></a> Exercise 127\n",
        "Extract the columns _Date_, _Open_, _Close_, _Volume_ from the _google_ object.\n",
        "Don't change the original _google_ object!"
      ]
    },
    {
      "cell_type": "code",
      "metadata": {
        "id": "rF0EWOQLYGeT"
      },
      "source": [
        "# enter solution here"
      ],
      "execution_count": null,
      "outputs": []
    },
    {
      "cell_type": "markdown",
      "metadata": {
        "id": "TXUd_4631-gw"
      },
      "source": [
        "### <a name='8'></a> Exercise 128\n",
        "Set the index for the _Date_ column back. Display object _google_."
      ]
    },
    {
      "cell_type": "code",
      "metadata": {
        "id": "1asmE6YJYLw-"
      },
      "source": [
        "# enter solution here"
      ],
      "execution_count": null,
      "outputs": []
    },
    {
      "cell_type": "markdown",
      "metadata": {
        "id": "tgI6xEn-2AQo"
      },
      "source": [
        "### <a name='9'></a> Exercise 129\n",
        "Permanently remove the _Year_ and _Month_ columns from the _google_ object. Display object _google_."
      ]
    },
    {
      "cell_type": "code",
      "metadata": {
        "id": "tmRTUIEOYc9x"
      },
      "source": [
        "# enter solution here"
      ],
      "execution_count": null,
      "outputs": []
    },
    {
      "cell_type": "markdown",
      "metadata": {
        "id": "wxhpf-uq2B1I"
      },
      "source": [
        "### <a name='10'></a> Exercise 130\n",
        "\n",
        "Assign the following values to the column names:\n",
        "* Open -> O\n",
        "* High -> H\n",
        "* Low -> L\n",
        "* Close -> C\n",
        "* Volume -> V\n",
        "\n",
        "to object _google_. Siaplay object _google_."
      ]
    },
    {
      "cell_type": "code",
      "metadata": {
        "id": "YFc0KW6URsuc"
      },
      "source": [
        "# enter solution here"
      ],
      "execution_count": null,
      "outputs": []
    }
  ]
}