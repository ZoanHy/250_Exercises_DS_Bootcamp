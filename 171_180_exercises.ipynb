{
  "nbformat": 4,
  "nbformat_minor": 0,
  "metadata": {
    "colab": {
      "provenance": []
    },
    "kernelspec": {
      "name": "python3",
      "display_name": "Python 3"
    }
  },
  "cells": [
    {
      "cell_type": "markdown",
      "metadata": {
        "id": "WLEgCW5F1hho"
      },
      "source": [
        "## Numpy\n",
        "\n",
        "### Table of contents:\n",
        "* [Import biblioteki](#0)\n",
        "* [Exercise 171](#1)\n",
        "* [Exercise 172](#2)\n",
        "* [Exercise 173](#3)\n",
        "* [Exercise 174](#4)\n",
        "* [Exercise 175](#5)\n",
        "* [Exercise 176](#6)\n",
        "* [Exercise 177](#7)\n",
        "* [Exercise 178](#8)\n",
        "* [Exercise 179](#9)\n",
        "* [Exercise 180](#10)"
      ]
    },
    {
      "cell_type": "markdown",
      "metadata": {
        "id": "zeLOLmTj1kBM"
      },
      "source": [
        "### <a name='0'></a> Import of libraries"
      ]
    },
    {
      "cell_type": "code",
      "metadata": {
        "id": "HXMB7SMe1Wnz"
      },
      "source": [
        "import numpy as np\n",
        "import pandas as pd\n",
        "import plotly.express as px\n",
        "\n",
        "np.__version__"
      ],
      "execution_count": null,
      "outputs": []
    },
    {
      "cell_type": "markdown",
      "metadata": {
        "id": "VxBG4Z9mZSQv"
      },
      "source": [
        "Run the following code to download the _london_bike.csv_ file to your working directory."
      ]
    },
    {
      "cell_type": "code",
      "metadata": {
        "id": "Il1EZ1baZhPJ"
      },
      "source": [
        "!wget -q https://storage.googleapis.com/esmartdata-courses-files/ds-bootcamp/london_bike.csv"
      ],
      "execution_count": null,
      "outputs": []
    },
    {
      "cell_type": "markdown",
      "metadata": {
        "id": "cyc70pMe1oCg"
      },
      "source": [
        "### <a name='1'></a> Exercise 171\n",
        "Load the _london_bike.csv_ file into the DataFrame object named _df_ and display basic information about the object."
      ]
    },
    {
      "cell_type": "code",
      "metadata": {
        "id": "5ezCSDMoZmR-"
      },
      "source": [
        "# enter solution here"
      ],
      "execution_count": null,
      "outputs": []
    },
    {
      "cell_type": "markdown",
      "metadata": {
        "id": "OIha93AdZoY0"
      },
      "source": [
        "Display the first five rows of _df_."
      ]
    },
    {
      "cell_type": "code",
      "metadata": {
        "id": "81C2HAAyZpm6"
      },
      "source": [
        "# enter solution here"
      ],
      "execution_count": null,
      "outputs": []
    },
    {
      "cell_type": "markdown",
      "metadata": {
        "id": "z_iS-JVlZrij"
      },
      "source": [
        "Display the last five rows of _df_."
      ]
    },
    {
      "cell_type": "code",
      "metadata": {
        "id": "jzr9gttQZst4"
      },
      "source": [
        "# enter solution here"
      ],
      "execution_count": null,
      "outputs": []
    },
    {
      "cell_type": "markdown",
      "metadata": {
        "id": "J9pY1rtr1sC0"
      },
      "source": [
        "### <a name='2'></a> Exercise 172\n",
        "Note that the _timestamp_ column is of type _object_. Replace it with _datetime_.\n",
        "\n",
        "__Tip:__ Use the _pd.to_datetime()_ function."
      ]
    },
    {
      "cell_type": "code",
      "metadata": {
        "id": "lSAMB3bcaKaf"
      },
      "source": [
        "# enter solution here"
      ],
      "execution_count": null,
      "outputs": []
    },
    {
      "cell_type": "markdown",
      "metadata": {
        "id": "qQJ8yN5VaPDa"
      },
      "source": [
        "Add a new column named _hour_ to the _df_ object and assign the time from the _timestamp_ column. Display the first five rows of the _df_ object."
      ]
    },
    {
      "cell_type": "code",
      "metadata": {
        "id": "o7de-d0iaUKT"
      },
      "source": [
        "# enter solution here"
      ],
      "execution_count": null,
      "outputs": []
    },
    {
      "cell_type": "markdown",
      "metadata": {
        "id": "XQLYT2m11wVG"
      },
      "source": [
        "### <a name='3'></a> Exercise 173\n",
        "Add a new column named _month_ to the _df_ object and assign the month from the _timestamp_ column. Display the first five rows of the _df_ object."
      ]
    },
    {
      "cell_type": "code",
      "metadata": {
        "id": "XU5NFcu3abY7"
      },
      "source": [
        "# enter solution here"
      ],
      "execution_count": null,
      "outputs": []
    },
    {
      "cell_type": "markdown",
      "metadata": {
        "id": "vEibbzDcaeYb"
      },
      "source": [
        "Group data by month (_month_) and calculate the average value for the variable _hum_. Assign the result to _humidity_by_month_ and reset the index."
      ]
    },
    {
      "cell_type": "code",
      "metadata": {
        "id": "6Gdy_Pbkahjl"
      },
      "source": [
        "# enter solution here"
      ],
      "execution_count": null,
      "outputs": []
    },
    {
      "cell_type": "markdown",
      "metadata": {
        "id": "SOnrvJrbakwe"
      },
      "source": [
        "Using the _plotly express_ library, build a line chart of the average value of the _hum_ variable for a given month (use the _humidity_by_month_ object).\n",
        "\n",
        "__Tip:__ Use the _px.line()_ function."
      ]
    },
    {
      "cell_type": "code",
      "metadata": {
        "id": "rYQuqI_IarvK"
      },
      "source": [
        "# enter solution here"
      ],
      "execution_count": null,
      "outputs": []
    },
    {
      "cell_type": "markdown",
      "metadata": {
        "id": "J4mH7HDcaujl"
      },
      "source": [
        "Build the same chart this time using the _plotly_dark_ template."
      ]
    },
    {
      "cell_type": "code",
      "metadata": {
        "id": "kOKpFXzvawum"
      },
      "source": [
        "# enter solution here"
      ],
      "execution_count": null,
      "outputs": []
    },
    {
      "cell_type": "markdown",
      "metadata": {
        "id": "_2DAx6jsa8Cm"
      },
      "source": [
        "Read for which month the average value of the _hum_ variable is the smallest and for which it is the largest."
      ]
    },
    {
      "cell_type": "markdown",
      "metadata": {
        "id": "4xTKSUzg10MK"
      },
      "source": [
        "### <a name='4'></a> Exercise 174\n",
        "Group data at the hour level (_hour_) and then determine the average value of the variable _cnt_. Assign the result to the variable _cnt_by_hour_ and reset the index."
      ]
    },
    {
      "cell_type": "code",
      "metadata": {
        "id": "TaWhKBVObFdi"
      },
      "source": [
        "# enter solution here"
      ],
      "execution_count": null,
      "outputs": []
    },
    {
      "cell_type": "markdown",
      "metadata": {
        "id": "705FmyRLbH4p"
      },
      "source": [
        "Using the _plotly express_ library, build a line chart of the average value of the _cnt_ variable by hours (use the _cnt_by_hour_ object)."
      ]
    },
    {
      "cell_type": "code",
      "metadata": {
        "id": "If1cgRXjbMOs"
      },
      "source": [
        "# enter solution here"
      ],
      "execution_count": null,
      "outputs": []
    },
    {
      "cell_type": "markdown",
      "metadata": {
        "id": "o3HKIKlP15Ro"
      },
      "source": [
        "### <a name='5'></a> Exercise 175\n",
        "Group data by variables _is_weekend_ and _hour_ and determine the average value of the variable _cnt_. Assign the result to the variable _cnt_by_weekend_hour_ and reset the index."
      ]
    },
    {
      "cell_type": "code",
      "metadata": {
        "id": "pklEbeEZbTTm"
      },
      "source": [
        "# enter solution here"
      ],
      "execution_count": null,
      "outputs": []
    },
    {
      "cell_type": "markdown",
      "metadata": {
        "id": "xWx9kUUBbWQS"
      },
      "source": [
        "Using the _plotly express_ library, build a line chart of the average value of the _cnt_ variable by hours __on non-weekend days__ (use the _cnt_by_weekend_hour_ object). Set the title of the chart: 'Out of the weekend'."
      ]
    },
    {
      "cell_type": "code",
      "metadata": {
        "id": "UC4ff97IbjCu"
      },
      "source": [
        "# enter solution here"
      ],
      "execution_count": null,
      "outputs": []
    },
    {
      "cell_type": "markdown",
      "metadata": {
        "id": "AU2nFU-XbsIv"
      },
      "source": [
        "Using the _plotly express_ library, build a line chart of the average value of _cnt_ by hour __on weekend days__ (use the _cnt_by_weekend_hour_ object). Set the chart title: 'Weekends'."
      ]
    },
    {
      "cell_type": "code",
      "metadata": {
        "id": "Ip0L2eVfb0Eq"
      },
      "source": [
        "# enter solution here"
      ],
      "execution_count": null,
      "outputs": []
    },
    {
      "cell_type": "markdown",
      "metadata": {
        "id": "lWcNppBqb49P"
      },
      "source": [
        "Are there any differences between non-weekend days and weekend days?"
      ]
    },
    {
      "cell_type": "markdown",
      "metadata": {
        "id": "PunXd_Ey16so"
      },
      "source": [
        "### <a name='6'></a> Exercise 176\n",
        "Using the _plotly express_ library, build the histogram of the _cnt_ variable. Add chart title: 'Histogram of the cnt variable'.\n"
      ]
    },
    {
      "cell_type": "code",
      "metadata": {
        "id": "PMrrUGvtcAqJ"
      },
      "source": [
        "# enter solution here"
      ],
      "execution_count": null,
      "outputs": []
    },
    {
      "cell_type": "markdown",
      "metadata": {
        "id": "dlUy-Iw1cEvz"
      },
      "source": [
        "Also add a box chart to the histogram.\n",
        "\n",
        "__Tip:__ Use parameter _marginal_ of function _px.histogram()_."
      ]
    },
    {
      "cell_type": "code",
      "metadata": {
        "id": "AR6WMzZqcLmU"
      },
      "source": [
        "# enter solution here"
      ],
      "execution_count": null,
      "outputs": []
    },
    {
      "cell_type": "markdown",
      "metadata": {
        "id": "hOhqDRz618Tx"
      },
      "source": [
        "### <a name='7'></a> Exercise 177\n",
        "Extract rows for which the _wind_speed_ variable is less than 10.0 and the _hum_ variable is greater than 90.0."
      ]
    },
    {
      "cell_type": "code",
      "metadata": {
        "id": "ZXvYYjivcUUH"
      },
      "source": [
        "# enter solution here"
      ],
      "execution_count": null,
      "outputs": []
    },
    {
      "cell_type": "markdown",
      "metadata": {
        "id": "TXUd_4631-gw"
      },
      "source": [
        "### <a name='8'></a> Exercise 178\n",
        "Extract rows for which the _is_weekend_ variable is 1.0. Then copy the result and assign it to the _df_weekend_ variable."
      ]
    },
    {
      "cell_type": "code",
      "metadata": {
        "id": "q1qXmpwnca18"
      },
      "source": [
        "# enter solution here"
      ],
      "execution_count": null,
      "outputs": []
    },
    {
      "cell_type": "markdown",
      "metadata": {
        "id": "tgI6xEn-2AQo"
      },
      "source": [
        "### <a name='9'></a> Exercise 179\n",
        "Save the _df_weekend_ object to the _weekend.xlsx_ file. Name the worksheet _london_bike_ and skip saving the index to a file."
      ]
    },
    {
      "cell_type": "code",
      "metadata": {
        "id": "pzSzinUEcgKs"
      },
      "source": [
        "# enter solution here"
      ],
      "execution_count": null,
      "outputs": []
    },
    {
      "cell_type": "markdown",
      "metadata": {
        "id": "wxhpf-uq2B1I"
      },
      "source": [
        "### <a name='10'></a> Exercise 180\n",
        "Save the first 10 rows of the _df_weekend_ object to the _head10.html_ file."
      ]
    },
    {
      "cell_type": "code",
      "metadata": {
        "id": "YFc0KW6URsuc"
      },
      "source": [
        "# enter solution here"
      ],
      "execution_count": null,
      "outputs": []
    }
  ]
}