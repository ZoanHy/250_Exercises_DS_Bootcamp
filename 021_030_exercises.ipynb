{
  "nbformat": 4,
  "nbformat_minor": 0,
  "metadata": {
    "colab": {
      "provenance": [],
      "include_colab_link": true
    },
    "kernelspec": {
      "name": "python3",
      "display_name": "Python 3"
    }
  },
  "cells": [
    {
      "cell_type": "markdown",
      "metadata": {
        "id": "view-in-github",
        "colab_type": "text"
      },
      "source": [
        "<a href=\"https://colab.research.google.com/github/ZoanHy/250plus---Exercises-DS-Bootcamp-in-Python/blob/main/021_030_exercises.ipynb\" target=\"_parent\"><img src=\"https://colab.research.google.com/assets/colab-badge.svg\" alt=\"Open In Colab\"/></a>"
      ]
    },
    {
      "cell_type": "markdown",
      "metadata": {
        "id": "WLEgCW5F1hho"
      },
      "source": [
        "## Numpy\n",
        "\n",
        "### Table of contents:\n",
        "* [Import biblioteki](#0)\n",
        "* [Exercise 21](#1)\n",
        "* [Exercise 22](#2)\n",
        "* [Exercise 23](#3)\n",
        "* [Exercise 24](#4)\n",
        "* [Exercise 25](#5)\n",
        "* [Exercise 26](#6)\n",
        "* [Exercise 27](#7)\n",
        "* [Exercise 28](#8)\n",
        "* [Exercise 29](#9)\n",
        "* [Exercise 30](#10)"
      ]
    },
    {
      "cell_type": "markdown",
      "metadata": {
        "id": "zeLOLmTj1kBM"
      },
      "source": [
        "### <a name='0'></a> Import of libraries"
      ]
    },
    {
      "cell_type": "code",
      "metadata": {
        "id": "HXMB7SMe1Wnz"
      },
      "source": [
        "import numpy as np\n",
        "\n",
        "np.__version__"
      ],
      "execution_count": null,
      "outputs": []
    },
    {
      "cell_type": "markdown",
      "metadata": {
        "id": "cyc70pMe1oCg"
      },
      "source": [
        "### <a name='1'></a> Exercise 21\n",
        "Generate the following numpy array. Save the array to a binary file named _'array.npy'_ and then load that file back into another variable.\n",
        "\n",
        "```\n",
        "array([[ 0,  1,  2,  3],\n",
        "       [ 4,  5,  6,  7],\n",
        "       [ 8,  9, 10, 11]])\n",
        "```\n",
        "__Tip:__ Use the _np.save()_ and _np.load()_ functions.\n"
      ]
    },
    {
      "cell_type": "code",
      "metadata": {
        "id": "FIgpKf-41yf1"
      },
      "source": [
        "# enter solution here"
      ],
      "execution_count": null,
      "outputs": []
    },
    {
      "cell_type": "markdown",
      "metadata": {
        "id": "J9pY1rtr1sC0"
      },
      "source": [
        "### <a name='2'></a> Exercise 22\n",
        "Generate the following numpy array:\n",
        "```\n",
        "array([[ 0,  1,  2,  3],\n",
        "       [ 4,  5,  6,  7],\n",
        "       [ 8,  9, 10, 11]])\n",
        "```\n",
        "\n",
        "Save the array to a text file named _'array.txt'_ with two decimal places and then load the file back into another variable.\n",
        "\n",
        "__Tip:__ Use the _np.savetxt()_ and _np.loadtxt()_ functions.\n"
      ]
    },
    {
      "cell_type": "code",
      "metadata": {
        "id": "Je9xFrAk2Gnj"
      },
      "source": [
        "# enter solution here"
      ],
      "execution_count": null,
      "outputs": []
    },
    {
      "cell_type": "markdown",
      "metadata": {
        "id": "XQLYT2m11wVG"
      },
      "source": [
        "### <a name='3'></a> Exercise 23\n",
        "Generate and convert the following numpy array into a list:\n",
        "\n",
        "```\n",
        "array([[ 0,  1,  2,  3],\n",
        "       [ 4,  5,  6,  7],\n",
        "       [ 8,  9, 10, 11]])\n",
        "```\n",
        "__Tip:__ Use the _np.array.tolist()_ method.\n"
      ]
    },
    {
      "cell_type": "code",
      "metadata": {
        "id": "Er5H29cf2SDX"
      },
      "source": [
        "# enter solution here"
      ],
      "execution_count": null,
      "outputs": []
    },
    {
      "cell_type": "markdown",
      "metadata": {
        "id": "4xTKSUzg10MK"
      },
      "source": [
        "### <a name='4'></a> Exercise 24\n",
        "The following numpy array is given:\n",
        "```\n",
        "array([[ 0,  1,  2,  3],\n",
        "       [ 4,  5,  6,  7],\n",
        "       [ 8,  9, 10, 11]])\n",
        "```\n",
        "\n",
        "Using the cut operator, transform the array into the following:\n",
        "\n",
        "* swap rows (first with last)\n",
        "\n",
        "```\n",
        "array([[ 8,  9, 10, 11],\n",
        "       [ 4,  5,  6,  7],\n",
        "       [ 0,  1,  2,  3]])\n",
        "```"
      ]
    },
    {
      "cell_type": "code",
      "metadata": {
        "id": "YUY5Bwxk2ikn"
      },
      "source": [
        "# enter solution here"
      ],
      "execution_count": null,
      "outputs": []
    },
    {
      "cell_type": "markdown",
      "metadata": {
        "id": "HQpzwNn42lgq"
      },
      "source": [
        "* swap columns (reverse order)\n",
        "\n",
        "```\n",
        "array([[ 3,  2,  1,  0],\n",
        "       [ 7,  6,  5,  4],\n",
        "       [11, 10,  9,  8]])\n",
        "```"
      ]
    },
    {
      "cell_type": "code",
      "metadata": {
        "id": "ZO3gmwWR2p4z"
      },
      "source": [
        "# enter solution here"
      ],
      "execution_count": null,
      "outputs": []
    },
    {
      "cell_type": "markdown",
      "metadata": {
        "id": "rw04U_Fz2sq_"
      },
      "source": [
        "* swapp rows and columns (reverse order)\n",
        "\n",
        "```\n",
        "array([[11, 10,  9,  8],\n",
        "       [ 7,  6,  5,  4],\n",
        "       [ 3,  2,  1,  0]])\n",
        "``` "
      ]
    },
    {
      "cell_type": "code",
      "metadata": {
        "id": "_u_gT-dn2v-t"
      },
      "source": [
        "# enter solution here"
      ],
      "execution_count": null,
      "outputs": []
    },
    {
      "cell_type": "markdown",
      "metadata": {
        "id": "o3HKIKlP15Ro"
      },
      "source": [
        "### <a name='5'></a> Exercise 25\n",
        "The following numpy array:\n",
        "\n",
        "```\n",
        "array([[1., 1., 1., 1.],\n",
        "       [1., 1., 1., 1.],\n",
        "       [1., 1., 1., 1.],\n",
        "       [1., 1., 1., 1.]])\n",
        "```\n",
        "Transform to array:\n",
        "\n",
        "```\n",
        "array([[0., 0., 0., 0., 0., 0.],\n",
        "       [0., 1., 1., 1., 1., 0.],\n",
        "       [0., 1., 1., 1., 1., 0.],\n",
        "       [0., 1., 1., 1., 1., 0.],\n",
        "       [0., 1., 1., 1., 1., 0.],\n",
        "       [0., 0., 0., 0., 0., 0.]])\n",
        "```\n",
        "\n",
        "__Tip:__ Use the _np.pad()_ function."
      ]
    },
    {
      "cell_type": "code",
      "metadata": {
        "id": "AvIQO9P0290E"
      },
      "source": [
        "# enter solution here"
      ],
      "execution_count": null,
      "outputs": []
    },
    {
      "cell_type": "markdown",
      "metadata": {
        "id": "PunXd_Ey16so"
      },
      "source": [
        "### <a name='6'></a> Exercise 26\n",
        "The following numpy array:\n",
        "```\n",
        "array([[0, 0, 0, 0, 0, 0],\n",
        "       [0, 0, 0, 0, 0, 0],\n",
        "       [0, 0, 0, 0, 0, 0],\n",
        "       [0, 0, 0, 0, 0, 0],\n",
        "       [0, 0, 0, 0, 0, 0],\n",
        "       [0, 0, 0, 0, 0, 0]])\n",
        "```\n",
        "\n",
        "Transform to array:\n",
        "```\n",
        "array([[10,  0, 10,  0, 10,  0],\n",
        "       [ 5,  0,  5,  0,  5,  0],\n",
        "       [10,  0, 10,  0, 10,  0],\n",
        "       [ 5,  0,  5,  0,  5,  0],\n",
        "       [10,  0, 10,  0, 10,  0],\n",
        "       [ 5,  0,  5,  0,  5,  0]])\n",
        "```\n",
        "\n",
        "__Tip:__ Use the cut operator and assign the appropriate values.\n"
      ]
    },
    {
      "cell_type": "code",
      "metadata": {
        "id": "BbBTnWY33KwL"
      },
      "source": [
        "# enter solution here"
      ],
      "execution_count": null,
      "outputs": []
    },
    {
      "cell_type": "markdown",
      "metadata": {
        "id": "hOhqDRz618Tx"
      },
      "source": [
        "### <a name='7'></a> Exercise 27\n",
        "Combine the following arrays: $ A $ and $ B $ into one array.\n",
        "\n",
        "```\n",
        "A = np.arange(12).reshape(-1, 4)\n",
        "B = np.array([[4, 3, 7, 2],\n",
        "              [0, 5, 2, 6]])\n",
        "```\n",
        "\n",
        "__The expected result:__\n",
        "\n",
        "```\n",
        "array([[ 0,  1,  2,  3],\n",
        "       [ 4,  5,  6,  7],\n",
        "       [ 8,  9, 10, 11],\n",
        "       [ 4,  3,  7,  2],\n",
        "       [ 0,  5,  2,  6]])\n",
        "```\n",
        "\n",
        "__Tip:__ Use the _np.append()_ function.\n"
      ]
    },
    {
      "cell_type": "code",
      "metadata": {
        "id": "Bow8cAUL3Z33"
      },
      "source": [
        "# enter solution here"
      ],
      "execution_count": null,
      "outputs": []
    },
    {
      "cell_type": "markdown",
      "metadata": {
        "id": "TXUd_4631-gw"
      },
      "source": [
        "### <a name='8'></a> Exercise 28\n",
        "Use the $ A $ and $ B $ arrays below to extract the common elements (intersection) of the arrays.\n",
        "\n",
        "```\n",
        "A = np.arange(8).reshape(-1, 4)\n",
        "B = np.array([[9, 10, 11, 3],\n",
        "              [2, 8, 0, 9]])      \n",
        "```\n",
        "__Tip:__ Use the _np.intersect1d()_ function."
      ]
    },
    {
      "cell_type": "code",
      "metadata": {
        "id": "2yPkHvfN3nOl"
      },
      "source": [
        "# enter solution here"
      ],
      "execution_count": null,
      "outputs": []
    },
    {
      "cell_type": "markdown",
      "metadata": {
        "id": "tgI6xEn-2AQo"
      },
      "source": [
        "### <a name='9'></a> Exercise 29\n",
        "The following numpy array $ A $ is given.\n",
        "Find the unique values of this array.\n",
        "\n",
        "```\n",
        "A = np.array([[5, 1, 2, 1, 2],\n",
        "              [9, 1, 9, 7, 5],\n",
        "              [4, 1, 5, 7, 9]])\n",
        "```\n",
        "\n",
        "__Tip:__ Use the _np.unique()_ function."
      ]
    },
    {
      "cell_type": "code",
      "metadata": {
        "id": "gtaiwfCS33Pl"
      },
      "source": [
        "# enter solution here"
      ],
      "execution_count": null,
      "outputs": []
    },
    {
      "cell_type": "markdown",
      "metadata": {
        "id": "wxhpf-uq2B1I"
      },
      "source": [
        "### <a name='10'></a> Exercise 30\n",
        "The array below is given:\n",
        "```\n",
        "A = np.array([[0.4, 0.3, 0.3],\n",
        "              [0.1, 0.1, 0.8],\n",
        "              [0.2, 0.5, 0.3]])\n",
        "```\n",
        "Return indexes with maximum values for a given row.\n",
        "\n",
        "__Tip:__ Use the _np.argmax()_ function."
      ]
    },
    {
      "cell_type": "code",
      "metadata": {
        "id": "YFc0KW6URsuc"
      },
      "source": [
        "# enter solution here"
      ],
      "execution_count": null,
      "outputs": []
    }
  ]
}