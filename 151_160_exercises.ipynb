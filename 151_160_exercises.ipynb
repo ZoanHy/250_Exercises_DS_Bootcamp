{
  "nbformat": 4,
  "nbformat_minor": 0,
  "metadata": {
    "colab": {
      "provenance": []
    },
    "kernelspec": {
      "name": "python3",
      "display_name": "Python 3"
    }
  },
  "cells": [
    {
      "cell_type": "markdown",
      "metadata": {
        "id": "WLEgCW5F1hho"
      },
      "source": [
        "## Pandas\n",
        "\n",
        "### Table of contents:\n",
        "* [Import biblioteki](#0)\n",
        "* [Exercise 151](#1)\n",
        "* [Exercise 152](#2)\n",
        "* [Exercise 153](#3)\n",
        "* [Exercise 154](#4)\n",
        "* [Exercise 155](#5)\n",
        "* [Exercise 156](#6)\n",
        "* [Exercise 157](#7)\n",
        "* [Exercise 158](#8)\n",
        "* [Exercise 159](#9)\n",
        "* [Exercise 160](#10)"
      ]
    },
    {
      "cell_type": "markdown",
      "metadata": {
        "id": "zeLOLmTj1kBM"
      },
      "source": [
        "### <a name='0'></a> Import of libraries"
      ]
    },
    {
      "cell_type": "code",
      "metadata": {
        "id": "HXMB7SMe1Wnz"
      },
      "source": [
        "import numpy as np\n",
        "import pandas as pd\n",
        "\n",
        "np.random.seed(42)\n",
        "np.__version__"
      ],
      "execution_count": null,
      "outputs": []
    },
    {
      "cell_type": "markdown",
      "metadata": {
        "id": "cyc70pMe1oCg"
      },
      "source": [
        "### <a name='1'></a> Exercise 151\n",
        "The following _DataFrame_ object is given:\n",
        "```\n",
        "df = pd.DataFrame(np.random.rand(10, 4), columns=list('ABCD'))\n",
        "```\n",
        "\n"
      ]
    },
    {
      "cell_type": "code",
      "metadata": {
        "id": "MZl4Y7-iOL0B"
      },
      "source": [
        "# enter solution here"
      ],
      "execution_count": null,
      "outputs": []
    },
    {
      "cell_type": "markdown",
      "metadata": {
        "id": "bel_QayIOPKm"
      },
      "source": [
        "Extract the rows of the _df_ object for which the _C_ column is greater than 0.8."
      ]
    },
    {
      "cell_type": "code",
      "metadata": {
        "id": "pkCB7a2cOUTm"
      },
      "source": [
        "# enter solution here"
      ],
      "execution_count": null,
      "outputs": []
    },
    {
      "cell_type": "markdown",
      "metadata": {
        "id": "J9pY1rtr1sC0"
      },
      "source": [
        "### <a name='2'></a> Exercise 152\n",
        "Extract the rows of the _df_ object for which the _C_ column is greater than 0.3 and the _D_ column is less than 0.7."
      ]
    },
    {
      "cell_type": "code",
      "metadata": {
        "id": "Sxu6AJUEOb-g"
      },
      "source": [
        "# enter solution here"
      ],
      "execution_count": null,
      "outputs": []
    },
    {
      "cell_type": "markdown",
      "metadata": {
        "id": "XQLYT2m11wVG"
      },
      "source": [
        "### <a name='3'></a> Exercise 153\n",
        "Iterate through the first five rows of the _df_ object. Print each row to the console.\n",
        "\n",
        "__Tip:__ Use the _pd.DataFrame.iterrows()_ function."
      ]
    },
    {
      "cell_type": "code",
      "metadata": {
        "id": "HInZ5tgDOlMr"
      },
      "source": [
        "# enter solution here"
      ],
      "execution_count": null,
      "outputs": []
    },
    {
      "cell_type": "markdown",
      "metadata": {
        "id": "4xTKSUzg10MK"
      },
      "source": [
        "### <a name='4'></a> Exercise 154\n",
        "Set the value in row with index 3 for column B as _np.nan_.\n",
        "Use _df.iloc_."
      ]
    },
    {
      "cell_type": "code",
      "metadata": {
        "id": "wkf2ocZYOrRX"
      },
      "source": [
        "# enter solution here"
      ],
      "execution_count": null,
      "outputs": []
    },
    {
      "cell_type": "markdown",
      "metadata": {
        "id": "JFVQOgU2OtB_"
      },
      "source": [
        "Set the value in the row at index 8 for column D as _np.nan_. Use _df.loc_."
      ]
    },
    {
      "cell_type": "code",
      "metadata": {
        "id": "97ocfWFyOv4_"
      },
      "source": [
        "# enter solution here"
      ],
      "execution_count": null,
      "outputs": []
    },
    {
      "cell_type": "markdown",
      "metadata": {
        "id": "o3HKIKlP15Ro"
      },
      "source": [
        "### <a name='5'></a> Exercise 155\n",
        "Delete all rows from object _df_ containing missing values and assign to variable _df1_. Display variable _df1_."
      ]
    },
    {
      "cell_type": "code",
      "metadata": {
        "id": "nEFg-QlJO22V"
      },
      "source": [
        "# enter solution here"
      ],
      "execution_count": null,
      "outputs": []
    },
    {
      "cell_type": "markdown",
      "metadata": {
        "id": "PunXd_Ey16so"
      },
      "source": [
        "### <a name='6'></a> Exercise 156\n",
        "Note that the index after removing two rows in the _df1_ object is not in turn. Reset the index (do not add a new column, just reset the index). Display variable _df1_."
      ]
    },
    {
      "cell_type": "code",
      "metadata": {
        "id": "Td2kgzk_PKK7"
      },
      "source": [
        "# enter solution here"
      ],
      "execution_count": null,
      "outputs": []
    },
    {
      "cell_type": "markdown",
      "metadata": {
        "id": "hOhqDRz618Tx"
      },
      "source": [
        "### <a name='7'></a> Exercise 157\n",
        "Let's go back to the _df_  object. Determine the number of missing elements in the _df_ object for each column."
      ]
    },
    {
      "cell_type": "code",
      "metadata": {
        "id": "QarTBttNPUAT"
      },
      "source": [
        "# enter solution here"
      ],
      "execution_count": null,
      "outputs": []
    },
    {
      "cell_type": "markdown",
      "metadata": {
        "id": "TXUd_4631-gw"
      },
      "source": [
        "### <a name='8'></a> Exercise 158\n",
        "Fill in the missing values with the value 0 and assign to the variable _df_.\n"
      ]
    },
    {
      "cell_type": "code",
      "metadata": {
        "id": "qBYDXCuOPaZv"
      },
      "source": [
        "# enter solution here"
      ],
      "execution_count": null,
      "outputs": []
    },
    {
      "cell_type": "markdown",
      "metadata": {
        "id": "tgI6xEn-2AQo"
      },
      "source": [
        "### <a name='9'></a> Exercise 159\n",
        "Replace the order of the columns in the _df_ object with the one given below:\n",
        "* D, A, B, C\n",
        "\n",
        "and assign to _df_."
      ]
    },
    {
      "cell_type": "code",
      "metadata": {
        "id": "oryAFo18Pguv"
      },
      "source": [
        "# enter solution here"
      ],
      "execution_count": null,
      "outputs": []
    },
    {
      "cell_type": "markdown",
      "metadata": {
        "id": "wxhpf-uq2B1I"
      },
      "source": [
        "### <a name='10'></a> Exercise 160\n",
        "Remove the $ D $ column from the _df_ object."
      ]
    },
    {
      "cell_type": "code",
      "metadata": {
        "id": "YFc0KW6URsuc"
      },
      "source": [
        "# enter solution here"
      ],
      "execution_count": null,
      "outputs": []
    }
  ]
}