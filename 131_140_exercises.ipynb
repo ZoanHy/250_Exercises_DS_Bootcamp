{
  "nbformat": 4,
  "nbformat_minor": 0,
  "metadata": {
    "colab": {
      "provenance": [],
      "include_colab_link": true
    },
    "kernelspec": {
      "name": "python3",
      "display_name": "Python 3"
    }
  },
  "cells": [
    {
      "cell_type": "markdown",
      "metadata": {
        "id": "view-in-github",
        "colab_type": "text"
      },
      "source": [
        "<a href=\"https://colab.research.google.com/github/ZoanHy/250plus---Exercises-DS-Bootcamp-in-Python/blob/main/131_140_exercises.ipynb\" target=\"_parent\"><img src=\"https://colab.research.google.com/assets/colab-badge.svg\" alt=\"Open In Colab\"/></a>"
      ]
    },
    {
      "cell_type": "markdown",
      "metadata": {
        "id": "WLEgCW5F1hho"
      },
      "source": [
        "## Pandas\n",
        "\n",
        "### Table of contents:\n",
        "* [Import biblioteki](#0)\n",
        "* [Exercise 131](#1)\n",
        "* [Exercise 132](#2)\n",
        "* [Exercise 133](#3)\n",
        "* [Exercise 134](#4)\n",
        "* [Exercise 135](#5)\n",
        "* [Exercise 136](#6)\n",
        "* [Exercise 137](#7)\n",
        "* [Exercise 138](#8)\n",
        "* [Exercise 139](#9)\n",
        "* [Exercise 140](#10)"
      ]
    },
    {
      "cell_type": "markdown",
      "metadata": {
        "id": "zeLOLmTj1kBM"
      },
      "source": [
        "### <a name='0'></a> Import of libraries"
      ]
    },
    {
      "cell_type": "code",
      "metadata": {
        "id": "HXMB7SMe1Wnz"
      },
      "source": [
        "import numpy as np\n",
        "import pandas as pd\n",
        "import seaborn as sns\n",
        "\n",
        "np.__version__\n",
        "sns.set()"
      ],
      "execution_count": null,
      "outputs": []
    },
    {
      "cell_type": "markdown",
      "metadata": {
        "id": "cyc70pMe1oCg"
      },
      "source": [
        "### <a name='1'></a> Exercise 131\n",
        "\n",
        "Load the csv file into a DataFrame object named _df_raw_ with the default parameters of the _pd.read_csv()_ function and display the first 5 rows.\n",
        "File url:\n",
        "* https://ml-repository-krakers.s3-eu-west-1.amazonaws.com/kaggle+/churn_modelling/Telco-Customer-Churn.csv"
      ]
    },
    {
      "cell_type": "code",
      "metadata": {
        "id": "4h5ckHjKZyMC"
      },
      "source": [
        "# enter solution here"
      ],
      "execution_count": null,
      "outputs": []
    },
    {
      "cell_type": "markdown",
      "metadata": {
        "id": "4NRoiH5FZ0LA"
      },
      "source": [
        "Copy the _df_raw_ object to the _df_ variable."
      ]
    },
    {
      "cell_type": "code",
      "metadata": {
        "id": "8JoT_ZCGZ1OY"
      },
      "source": [
        "# enter solution here"
      ],
      "execution_count": null,
      "outputs": []
    },
    {
      "cell_type": "markdown",
      "metadata": {
        "id": "FKOexbjFZ2xY"
      },
      "source": [
        "Display basic information about the object _df_."
      ]
    },
    {
      "cell_type": "code",
      "metadata": {
        "id": "T5VjOiSjZ4ap"
      },
      "source": [
        "# enter solution here"
      ],
      "execution_count": null,
      "outputs": []
    },
    {
      "cell_type": "markdown",
      "metadata": {
        "id": "8B08mD_EZ6P6"
      },
      "source": [
        "Determine the number of missing elements (_np.nan_) in the _df_ object for each variable."
      ]
    },
    {
      "cell_type": "code",
      "metadata": {
        "id": "BBQmd_azZ756"
      },
      "source": [
        "# enter solution here"
      ],
      "execution_count": null,
      "outputs": []
    },
    {
      "cell_type": "markdown",
      "metadata": {
        "id": "J9pY1rtr1sC0"
      },
      "source": [
        "### <a name='2'></a> Exercise 132\n",
        "Note the _TotalCharges_ column. The type of this column is _object_. Try to guess why this happened.\n",
        "\n",
        "__Tip:__\n",
        "Look at the variable distribution."
      ]
    },
    {
      "cell_type": "code",
      "metadata": {
        "id": "20-KCwvNaDTv"
      },
      "source": [
        "# enter solution here"
      ],
      "execution_count": null,
      "outputs": []
    },
    {
      "cell_type": "markdown",
      "metadata": {
        "id": "-w8uywcYaFIm"
      },
      "source": [
        "Note that we have 11 null values. To see it better, see below."
      ]
    },
    {
      "cell_type": "code",
      "metadata": {
        "id": "9_xfjFJ2aHLk"
      },
      "source": [
        "df['TotalCharges'].value_counts()[:3].index"
      ],
      "execution_count": null,
      "outputs": []
    },
    {
      "cell_type": "markdown",
      "metadata": {
        "id": "CAIAliiaaJ_x"
      },
      "source": [
        "This is a space character that has crept into our data. He made the pandas read the entire column as text. As an analyst, we have to deal with such problems. Try to replace the missing values of the _TotalCharges_ column with its median."
      ]
    },
    {
      "cell_type": "code",
      "metadata": {
        "id": "QiGpE2vhaQuB"
      },
      "source": [
        "# enter solution here"
      ],
      "execution_count": null,
      "outputs": []
    },
    {
      "cell_type": "markdown",
      "metadata": {
        "id": "3jZPdao8aZ1O"
      },
      "source": [
        "Check if the type has been changed correctly."
      ]
    },
    {
      "cell_type": "code",
      "metadata": {
        "id": "ksC-umBgabE9"
      },
      "source": [
        "# enter solution here"
      ],
      "execution_count": null,
      "outputs": []
    },
    {
      "cell_type": "markdown",
      "metadata": {
        "id": "XQLYT2m11wVG"
      },
      "source": [
        "### <a name='3'></a> Exercise 133\n",
        "Convert columns from the list below _categorical_ to type _category_."
      ]
    },
    {
      "cell_type": "code",
      "metadata": {
        "id": "mlMEvBcragA6"
      },
      "source": [
        "# enter solution here"
      ],
      "execution_count": null,
      "outputs": []
    },
    {
      "cell_type": "markdown",
      "metadata": {
        "id": "lmtQ2zW7aiZa"
      },
      "source": [
        "Convert columns from the list below _numerical_ to type _float_."
      ]
    },
    {
      "cell_type": "code",
      "metadata": {
        "id": "lJO3QkYzajYA"
      },
      "source": [
        "# enter solution here"
      ],
      "execution_count": null,
      "outputs": []
    },
    {
      "cell_type": "markdown",
      "metadata": {
        "id": "HJU-pkS9alAQ"
      },
      "source": [
        "Set the _customerID_ column as the index of the _df_ object and display info about the _df_ object."
      ]
    },
    {
      "cell_type": "code",
      "metadata": {
        "id": "4jXnnqHSamsY"
      },
      "source": [
        "# enter solution here"
      ],
      "execution_count": null,
      "outputs": []
    },
    {
      "cell_type": "markdown",
      "metadata": {
        "id": "4xTKSUzg10MK"
      },
      "source": [
        "### <a name='4'></a> Exercise 134\n",
        "Use the _describe()_ method to display basic statistics for the _df_ object."
      ]
    },
    {
      "cell_type": "code",
      "metadata": {
        "id": "byR4FjM5asy4"
      },
      "source": [
        "# enter solution here"
      ],
      "execution_count": null,
      "outputs": []
    },
    {
      "cell_type": "markdown",
      "metadata": {
        "id": "c5bTvYDFau0P"
      },
      "source": [
        "Note that these are only numeric variables. Display the basic statistics of categorical variables by passing the appropriate parameter _include_ of the _describe()_ method."
      ]
    },
    {
      "cell_type": "code",
      "metadata": {
        "id": "BlTgTo0ray4D"
      },
      "source": [
        "# enter solution here"
      ],
      "execution_count": null,
      "outputs": []
    },
    {
      "cell_type": "markdown",
      "metadata": {
        "id": "_eQY1PmDa02m"
      },
      "source": [
        "Note that these are slightly different statistics than for numeric variables."
      ]
    },
    {
      "cell_type": "markdown",
      "metadata": {
        "id": "o3HKIKlP15Ro"
      },
      "source": [
        "### <a name='5'></a> Exercise 135\n",
        "Find the distribution of values for the _Churn_ variable."
      ]
    },
    {
      "cell_type": "code",
      "metadata": {
        "id": "eZSlY7-abBiC"
      },
      "source": [
        "# enter solution here"
      ],
      "execution_count": null,
      "outputs": []
    },
    {
      "cell_type": "markdown",
      "metadata": {
        "id": "nMPzQOknbDXQ"
      },
      "source": [
        "Build a pie chart of the distribution of the _Churn_ variable."
      ]
    },
    {
      "cell_type": "code",
      "metadata": {
        "id": "0_jWM4SmbGp1"
      },
      "source": [
        "# enter solution here"
      ],
      "execution_count": null,
      "outputs": []
    },
    {
      "cell_type": "markdown",
      "metadata": {
        "id": "PunXd_Ey16so"
      },
      "source": [
        "### <a name='6'></a> Exercise 136\n",
        "Build the _pairplot()_ chart from the _seaborn_ library. Pass variables:\n",
        "* tenure\n",
        "* MonthlyCharges\n",
        "* TotalCharges\n",
        "\n",
        "\n",
        "and the parameter: _hue = 'Churn'_.\n",
        "\n",
        "__Tip:__\n",
        "https://seaborn.pydata.org/generated/seaborn.pairplot.html"
      ]
    },
    {
      "cell_type": "code",
      "metadata": {
        "id": "QA5moKcubRP8"
      },
      "source": [
        "# enter solution here"
      ],
      "execution_count": null,
      "outputs": []
    },
    {
      "cell_type": "markdown",
      "metadata": {
        "id": "hOhqDRz618Tx"
      },
      "source": [
        "### <a name='7'></a> Exercise 137\n",
        "Map the _Churn_ column accordingly:\n",
        "* 'Yes' -> 1\n",
        "* 'No' -> 0\n",
        "\n",
        "Display the first 5 rows of _df_."
      ]
    },
    {
      "cell_type": "code",
      "metadata": {
        "id": "GH5S5WxVbXRR"
      },
      "source": [
        "# enter solution here"
      ],
      "execution_count": null,
      "outputs": []
    },
    {
      "cell_type": "markdown",
      "metadata": {
        "id": "TXUd_4631-gw"
      },
      "source": [
        "### <a name='8'></a> Exercise 138\n",
        "Calculate the correlation matrix for the _df_ object."
      ]
    },
    {
      "cell_type": "code",
      "metadata": {
        "id": "vp3joIlLbcgg"
      },
      "source": [
        "# enter solution here"
      ],
      "execution_count": null,
      "outputs": []
    },
    {
      "cell_type": "markdown",
      "metadata": {
        "id": "tgI6xEn-2AQo"
      },
      "source": [
        "### <a name='9'></a> Exercise 139\n",
        "Find the distribution of _PaymentMethod_."
      ]
    },
    {
      "cell_type": "code",
      "metadata": {
        "id": "8o9P5zXvbgT4"
      },
      "source": [
        "# enter solution here"
      ],
      "execution_count": null,
      "outputs": []
    },
    {
      "cell_type": "markdown",
      "metadata": {
        "id": "mvWMo0d4biJu"
      },
      "source": [
        "Group data by the _PaymentMethod_ variable and calculate the average value for the _TotalCharges_ variable."
      ]
    },
    {
      "cell_type": "code",
      "metadata": {
        "id": "_l6g9gJfbj9E"
      },
      "source": [
        "# enter solution here"
      ],
      "execution_count": null,
      "outputs": []
    },
    {
      "cell_type": "markdown",
      "metadata": {
        "id": "wxhpf-uq2B1I"
      },
      "source": [
        "### <a name='10'></a> Exercise 140\n",
        "Take a sample of 10 rows from the _df_ object and save to _sample_10.csv_."
      ]
    },
    {
      "cell_type": "code",
      "metadata": {
        "id": "YFc0KW6URsuc"
      },
      "source": [
        "# enter solution here"
      ],
      "execution_count": null,
      "outputs": []
    },
    {
      "cell_type": "markdown",
      "metadata": {
        "id": "MhANbi6vbs4S"
      },
      "source": [
        "Run the cell below to check."
      ]
    },
    {
      "cell_type": "code",
      "metadata": {
        "id": "ouPy3yakbpZM"
      },
      "source": [
        "! cat sample_10.csv"
      ],
      "execution_count": null,
      "outputs": []
    }
  ]
}