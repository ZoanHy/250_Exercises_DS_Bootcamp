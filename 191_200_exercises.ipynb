{
  "nbformat": 4,
  "nbformat_minor": 0,
  "metadata": {
    "colab": {
      "provenance": []
    },
    "kernelspec": {
      "name": "python3",
      "display_name": "Python 3"
    }
  },
  "cells": [
    {
      "cell_type": "markdown",
      "metadata": {
        "id": "WLEgCW5F1hho"
      },
      "source": [
        "## Pandas\n",
        "\n",
        "### Table of contents:\n",
        "* [Import biblioteki](#0)\n",
        "* [Exercise 191](#1)\n",
        "* [Exercise 192](#2)\n",
        "* [Exercise 193](#3)\n",
        "* [Exercise 194](#4)\n",
        "* [Exercise 195](#5)\n",
        "* [Exercise 196](#6)\n",
        "* [Exercise 197](#7)\n",
        "* [Exercise 198](#8)\n",
        "* [Exercise 199](#9)\n",
        "* [Exercise 200](#10)"
      ]
    },
    {
      "cell_type": "markdown",
      "metadata": {
        "id": "zeLOLmTj1kBM"
      },
      "source": [
        "### <a name='0'></a> Import of libraries"
      ]
    },
    {
      "cell_type": "code",
      "metadata": {
        "id": "HXMB7SMe1Wnz"
      },
      "source": [
        "import numpy as np\n",
        "import pandas as pd\n",
        "\n",
        "np.__version__"
      ],
      "execution_count": null,
      "outputs": []
    },
    {
      "cell_type": "markdown",
      "metadata": {
        "id": "cyc70pMe1oCg"
      },
      "source": [
        "### <a name='1'></a> Exercise 191\n",
        "Create the _DataFrame_ object from the _data_ dictionary below and assign it to the _df_ variable.\n",
        "\n",
        "```\n",
        "data = {\n",
        "    'size': ['XL', 'L', 'M', 'L', 'M'],\n",
        "    'color': ['red', 'green', 'blue', 'green', 'red'],\n",
        "    'gender': ['female', 'male', 'male', 'female', 'female'],\n",
        "    'price': [199.0, 89.0, 99.0, 129.0, 79.0],\n",
        "    'weight': [500, 450, 300, 380, 410],\n",
        "    'bought': ['yes', 'no', 'yes', 'no', 'yes']\n",
        "}\n",
        "```"
      ]
    },
    {
      "cell_type": "code",
      "metadata": {
        "id": "sPeZm8nn-Yyk"
      },
      "source": [
        "data = {\n",
        "    'size': ['XL', 'L', 'M', 'L', 'M'],\n",
        "    'color': ['red', 'green', 'blue', 'green', 'red'],\n",
        "    'gender': ['female', 'male', 'male', 'female', 'female'],\n",
        "    'price': [199.0, 89.0, 99.0, 129.0, 79.0],\n",
        "    'weight': [500, 450, 300, 380, 410],\n",
        "    'bought': ['yes', 'no', 'yes', 'no', 'yes']\n",
        "}\n",
        "\n",
        "# enter solution here"
      ],
      "execution_count": null,
      "outputs": []
    },
    {
      "cell_type": "markdown",
      "metadata": {
        "id": "iBUpoG92-bN8"
      },
      "source": [
        "Display basic information about the object _df_."
      ]
    },
    {
      "cell_type": "code",
      "metadata": {
        "id": "hqGoW-ET-cqj"
      },
      "source": [
        "# enter solution here"
      ],
      "execution_count": null,
      "outputs": []
    },
    {
      "cell_type": "markdown",
      "metadata": {
        "id": "_qEpK5rJ-e1K"
      },
      "source": [
        "Convert variables to types:\n",
        "* size -> _category_\n",
        "* color -> _category_\n",
        "* gender -> _category_\n",
        "* weight -> _float_\n",
        "* bought -> _category_"
      ]
    },
    {
      "cell_type": "code",
      "metadata": {
        "id": "mi2nVglM-iAh"
      },
      "source": [
        "# enter solution here"
      ],
      "execution_count": null,
      "outputs": []
    },
    {
      "cell_type": "markdown",
      "metadata": {
        "id": "J9pY1rtr1sC0"
      },
      "source": [
        "### <a name='2'></a> Exercise 192\n",
        "Use the _scikit-learn_ machine learning library and the _LabelEncoder_ class to code 0-1 of the _bought_ variable. Assign changes to the _df_ object permanently and display the object."
      ]
    },
    {
      "cell_type": "code",
      "metadata": {
        "id": "A2QmdqUa-n8N"
      },
      "source": [
        "# enter solution here"
      ],
      "execution_count": null,
      "outputs": []
    },
    {
      "cell_type": "markdown",
      "metadata": {
        "id": "MVRE0Nat-qH1"
      },
      "source": [
        "Use the appropriate method of the _LabelEncoder_ class to restore the original values of the _bought_ variable. Note the type of the _bought_ variable."
      ]
    },
    {
      "cell_type": "code",
      "metadata": {
        "id": "BpoLzFjr-sXT"
      },
      "source": [
        "# enter solution here"
      ],
      "execution_count": null,
      "outputs": []
    },
    {
      "cell_type": "markdown",
      "metadata": {
        "id": "XQLYT2m11wVG"
      },
      "source": [
        "### <a name='3'></a> Exercise 193\n",
        "Using the machine learning library _scikit-learn_ and the _OneHotEncoder_ class, encode 0-1 of the _size_ variable. Don't assign changes to the _df_ object.\n",
        "\n",
        "Use the `sparse = False` parameter of the _OneHotEncoder_ class."
      ]
    },
    {
      "cell_type": "code",
      "metadata": {
        "id": "EcaN4M4c-z5A"
      },
      "source": [
        "# enter solution here"
      ],
      "execution_count": null,
      "outputs": []
    },
    {
      "cell_type": "markdown",
      "metadata": {
        "id": "eJozpAg3-2th"
      },
      "source": [
        "Using the machine learning library _scikit-learn_ and the _OneHotEncoder_ class, encode 0-1 of the _size_ variable. Don't assign changes to the _df_ object.\n",
        "\n",
        "Use the parameter `sparse = False` and `drop = first` of the _OneHotEncoder_ class."
      ]
    },
    {
      "cell_type": "code",
      "metadata": {
        "id": "GlHWmPxI_Cd1"
      },
      "source": [
        "# enter solution here"
      ],
      "execution_count": null,
      "outputs": []
    },
    {
      "cell_type": "markdown",
      "metadata": {
        "id": "4xTKSUzg10MK"
      },
      "source": [
        "### <a name='4'></a> Exercise 194\n",
        "Using the _pandas_ library and the _get_dummies()_ function, present all categorical variables of the _df_ object in the form of 0-1 encoding. Don't assign changes permanently to the _df_ object."
      ]
    },
    {
      "cell_type": "code",
      "metadata": {
        "id": "Ez3W8D2a_J5L"
      },
      "source": [
        "# enter solution here"
      ],
      "execution_count": null,
      "outputs": []
    },
    {
      "cell_type": "markdown",
      "metadata": {
        "id": "aL9o9DXm_L3J"
      },
      "source": [
        "Using the _pandas_ library and the _get_dummies()_ function, present all categorical variables of the _df_ object in the form of 0-1 encoding. Use the `drop_first = True` parameter. Don't assign changes permanently to the _df_ object."
      ]
    },
    {
      "cell_type": "code",
      "metadata": {
        "id": "ltGuNkUV_Pzi"
      },
      "source": [
        "# enter solution here"
      ],
      "execution_count": null,
      "outputs": []
    },
    {
      "cell_type": "markdown",
      "metadata": {
        "id": "p5YrhZhc_TIb"
      },
      "source": [
        "Using the _pandas_ library and the _get_dummies()_ function, present the _size_ variable of the _df_ object in the form of 0-1 encoding. Use the `drop_first = True` parameter. Don't assign changes permanently to the _df_ object."
      ]
    },
    {
      "cell_type": "code",
      "metadata": {
        "id": "U1LDwmgU_acP"
      },
      "source": [
        "# enter solution here"
      ],
      "execution_count": null,
      "outputs": []
    },
    {
      "cell_type": "markdown",
      "metadata": {
        "id": "o3HKIKlP15Ro"
      },
      "source": [
        "### <a name='5'></a> Exercise 195\n",
        "Use the _scikit-learn_ machine learning library and the _StandardScaler_ class to scale the _weight_ variable. Don't assign changes to the _df_ object."
      ]
    },
    {
      "cell_type": "code",
      "metadata": {
        "id": "RdHRJLpu_f__"
      },
      "source": [
        "# enter solution here"
      ],
      "execution_count": null,
      "outputs": []
    },
    {
      "cell_type": "markdown",
      "metadata": {
        "id": "PunXd_Ey16so"
      },
      "source": [
        "### <a name='6'></a> Exercise 196\n",
        "Load the _data_ dictionary again into the _DataFrame_ object named _df_."
      ]
    },
    {
      "cell_type": "code",
      "metadata": {
        "id": "nLgIpSBa_kst"
      },
      "source": [
        "# enter solution here"
      ],
      "execution_count": null,
      "outputs": []
    },
    {
      "cell_type": "markdown",
      "metadata": {
        "id": "SueL8xLt_nG2"
      },
      "source": [
        "Prepare the data for the machine learning model:\n",
        "* using the LabelEncoder class, encode 0-1 of the _bought_ variable\n",
        "* standardize the variables _weight_ and _price_\n",
        "* encode 0-1 categorical variables using the function _get_dummies()._\n",
        "\n",
        "Assign changes to the _df_prep_ variable."
      ]
    },
    {
      "cell_type": "code",
      "metadata": {
        "id": "9mYDX3LX_twG"
      },
      "source": [
        "# enter solution here"
      ],
      "execution_count": null,
      "outputs": []
    },
    {
      "cell_type": "markdown",
      "metadata": {
        "id": "hOhqDRz618Tx"
      },
      "source": [
        "### <a name='7'></a> Exercise 197\n",
        "Copy the _df_prep_ object to the _data_ variable. Then pop the _bought_ column from this object and assign it to the _target_ variable."
      ]
    },
    {
      "cell_type": "code",
      "metadata": {
        "id": "BiD3J7-__0-k"
      },
      "source": [
        "# enter solution here"
      ],
      "execution_count": null,
      "outputs": []
    },
    {
      "cell_type": "markdown",
      "metadata": {
        "id": "iJeRVFh8_3Ec"
      },
      "source": [
        "Display the first 5 rows of _data_. Make sure the _bought_ column is not in it."
      ]
    },
    {
      "cell_type": "code",
      "metadata": {
        "id": "sKfHIA4T_8eh"
      },
      "source": [
        "# enter solution here"
      ],
      "execution_count": null,
      "outputs": []
    },
    {
      "cell_type": "markdown",
      "metadata": {
        "id": "VHkr9DJ0_-Xb"
      },
      "source": [
        "Display the first 5 rows of _target_."
      ]
    },
    {
      "cell_type": "code",
      "metadata": {
        "id": "zjGuUMh-AAqF"
      },
      "source": [
        "# enter solution here"
      ],
      "execution_count": null,
      "outputs": []
    },
    {
      "cell_type": "markdown",
      "metadata": {
        "id": "TXUd_4631-gw"
      },
      "source": [
        "### <a name='8'></a> Exercise 198\n",
        "Using the _scikit-learn_ library and the _train_test_split_ function, divide the data from the _data_ and _target_ objects into a training set (_X\\_train_, _y\\_train_) and a test set (_X\\_test_, _y\\_test_). Assign 20% of the samples to the test set.\n",
        "\n",
        "Display object size:\n",
        "* _X\\_train_\n",
        "* _X\\_test_\n",
        "* _y\\_train_\n",
        "* _y\\_test_"
      ]
    },
    {
      "cell_type": "code",
      "metadata": {
        "id": "-mD7BVRlAN49"
      },
      "source": [
        "# enter solution here"
      ],
      "execution_count": null,
      "outputs": []
    },
    {
      "cell_type": "markdown",
      "metadata": {
        "id": "tgI6xEn-2AQo"
      },
      "source": [
        "### <a name='9'></a> Exercise 199\n",
        "Combine _X\\_train_ and _X\\_test_ objects into one _DataFrame_ object named _X_."
      ]
    },
    {
      "cell_type": "code",
      "metadata": {
        "id": "ii39iaRWARSb"
      },
      "source": [
        "# enter solution here"
      ],
      "execution_count": null,
      "outputs": []
    },
    {
      "cell_type": "markdown",
      "metadata": {
        "id": "wxhpf-uq2B1I"
      },
      "source": [
        "### <a name='10'></a> Exercise 200\n",
        "Combine the _y\\_train_ and _y\\_test_ objects into one _DataFrame_ object named _y_."
      ]
    },
    {
      "cell_type": "code",
      "metadata": {
        "id": "YFc0KW6URsuc"
      },
      "source": [
        "# enter solution here"
      ],
      "execution_count": null,
      "outputs": []
    },
    {
      "cell_type": "markdown",
      "metadata": {
        "id": "d8RtFGYNAeQe"
      },
      "source": [
        "Combine _X_ and _y_ objects into one _DataFrame_ object."
      ]
    },
    {
      "cell_type": "code",
      "metadata": {
        "id": "r40kn7kvAYBq"
      },
      "source": [
        "# enter solution here"
      ],
      "execution_count": null,
      "outputs": []
    }
  ]
}