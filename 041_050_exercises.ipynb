{
  "nbformat": 4,
  "nbformat_minor": 0,
  "metadata": {
    "colab": {
      "provenance": [],
      "include_colab_link": true
    },
    "kernelspec": {
      "name": "python3",
      "display_name": "Python 3"
    }
  },
  "cells": [
    {
      "cell_type": "markdown",
      "metadata": {
        "id": "view-in-github",
        "colab_type": "text"
      },
      "source": [
        "<a href=\"https://colab.research.google.com/github/ZoanHy/250plus---Exercises-DS-Bootcamp-in-Python/blob/main/041_050_exercises.ipynb\" target=\"_parent\"><img src=\"https://colab.research.google.com/assets/colab-badge.svg\" alt=\"Open In Colab\"/></a>"
      ]
    },
    {
      "cell_type": "markdown",
      "metadata": {
        "id": "WLEgCW5F1hho"
      },
      "source": [
        "## Numpy\n",
        "\n",
        "### Table of contents:\n",
        "* [Import biblioteki](#0)\n",
        "* [Exercise 41](#1)\n",
        "* [Exercise 42](#2)\n",
        "* [Exercise 43](#3)\n",
        "* [Exercise 44](#4)\n",
        "* [Exercise 45](#5)\n",
        "* [Exercise 46](#6)\n",
        "* [Exercise 47](#7)\n",
        "* [Exercise 48](#8)\n",
        "* [Exercise 49](#9)\n",
        "* [Exercise 50](#10)"
      ]
    },
    {
      "cell_type": "markdown",
      "metadata": {
        "id": "zeLOLmTj1kBM"
      },
      "source": [
        "### <a name='0'></a> Import of libraries"
      ]
    },
    {
      "cell_type": "code",
      "metadata": {
        "id": "HXMB7SMe1Wnz",
        "outputId": "cd2f0dca-e572-429d-95c3-3b1afff8e911",
        "colab": {
          "base_uri": "https://localhost:8080/",
          "height": 35
        }
      },
      "source": [
        "import numpy as np\n",
        "\n",
        "np.__version__"
      ],
      "execution_count": 1,
      "outputs": [
        {
          "output_type": "execute_result",
          "data": {
            "text/plain": [
              "'1.22.4'"
            ],
            "application/vnd.google.colaboratory.intrinsic+json": {
              "type": "string"
            }
          },
          "metadata": {},
          "execution_count": 1
        }
      ]
    },
    {
      "cell_type": "markdown",
      "metadata": {
        "id": "cyc70pMe1oCg"
      },
      "source": [
        "### <a name='1'></a> Exercise 41\n",
        "The following array $ A $ with the shape (2, 3) is given.\n",
        "```\n",
        "A = np.array([[4, 2, 1],\n",
        "              [6, 4, 2]])\n",
        "```"
      ]
    },
    {
      "cell_type": "code",
      "metadata": {
        "id": "aYwynNfbCuCi",
        "outputId": "e6f73dfd-f357-48ec-c04a-369b99b24b7f",
        "colab": {
          "base_uri": "https://localhost:8080/"
        }
      },
      "source": [
        "# enter solution here\n",
        "\n",
        "A = np.array([[4, 2, 1],\n",
        "              [6, 4, 2]])\n",
        "\n",
        "A.reshape(2, 3)"
      ],
      "execution_count": 2,
      "outputs": [
        {
          "output_type": "execute_result",
          "data": {
            "text/plain": [
              "array([[4, 2, 1],\n",
              "       [6, 4, 2]])"
            ]
          },
          "metadata": {},
          "execution_count": 2
        }
      ]
    },
    {
      "cell_type": "code",
      "source": [
        "A.shape"
      ],
      "metadata": {
        "id": "xmxXQyR0drIl",
        "outputId": "eb214b45-dee5-4d0b-fac9-6a5bfeeefc5f",
        "colab": {
          "base_uri": "https://localhost:8080/"
        }
      },
      "execution_count": 3,
      "outputs": [
        {
          "output_type": "execute_result",
          "data": {
            "text/plain": [
              "(2, 3)"
            ]
          },
          "metadata": {},
          "execution_count": 3
        }
      ]
    },
    {
      "cell_type": "markdown",
      "metadata": {
        "id": "63s28uE5Cw4c"
      },
      "source": [
        "* Expand the array $ A $ by one dimension (add a new dimension at the beginning). Expected shape of the output array: _(1, 2, 3)_.\n",
        "\n",
        "__Tip:__ Use the _np.expand_dims()_ function."
      ]
    },
    {
      "cell_type": "code",
      "metadata": {
        "id": "IQkeFhnCC1v1",
        "outputId": "430c8ac3-80bb-4113-e30c-c003516ada50",
        "colab": {
          "base_uri": "https://localhost:8080/"
        }
      },
      "source": [
        "# enter solution here\n",
        "\n",
        "np.expand_dims(A, axis=0)"
      ],
      "execution_count": 4,
      "outputs": [
        {
          "output_type": "execute_result",
          "data": {
            "text/plain": [
              "array([[[4, 2, 1],\n",
              "        [6, 4, 2]]])"
            ]
          },
          "metadata": {},
          "execution_count": 4
        }
      ]
    },
    {
      "cell_type": "code",
      "source": [
        "np.expand_dims(A, axis=0).shape"
      ],
      "metadata": {
        "id": "MB9vA0v7dx9_",
        "outputId": "7dbabd81-e00f-48a0-9b58-e300f4c0f886",
        "colab": {
          "base_uri": "https://localhost:8080/"
        }
      },
      "execution_count": 5,
      "outputs": [
        {
          "output_type": "execute_result",
          "data": {
            "text/plain": [
              "(1, 2, 3)"
            ]
          },
          "metadata": {},
          "execution_count": 5
        }
      ]
    },
    {
      "cell_type": "markdown",
      "metadata": {
        "id": "GeOD-SE2C4Ir"
      },
      "source": [
        "* Expand the array $ A $ by one dimension (add a new dimension at the end). Expected shape of the output array: _(2, 3, 1)_.\n",
        "\n",
        "__Tip:__ Use the _np.expand_dims()_ function."
      ]
    },
    {
      "cell_type": "code",
      "metadata": {
        "id": "2mhtmU7cC89n",
        "outputId": "4266979c-b4c0-4b55-b79e-de64f3d83f8f",
        "colab": {
          "base_uri": "https://localhost:8080/"
        }
      },
      "source": [
        "# enter solution here\n",
        "\n",
        "np.expand_dims(A, axis=1).shape"
      ],
      "execution_count": 7,
      "outputs": [
        {
          "output_type": "execute_result",
          "data": {
            "text/plain": [
              "(2, 1, 3)"
            ]
          },
          "metadata": {},
          "execution_count": 7
        }
      ]
    },
    {
      "cell_type": "markdown",
      "metadata": {
        "id": "J9pY1rtr1sC0"
      },
      "source": [
        "### <a name='2'></a> Exercise 42\n",
        "Generate a three-dimensional array named _image_ with shape _(200, 300, 3)_ filled with random values from 0 to 255 inclusive and data type _np.uint8_."
      ]
    },
    {
      "cell_type": "code",
      "metadata": {
        "id": "fPSpQlieDJlF"
      },
      "source": [
        "# enter solution here"
      ],
      "execution_count": null,
      "outputs": []
    },
    {
      "cell_type": "markdown",
      "metadata": {
        "id": "-KPhlU79DMaL"
      },
      "source": [
        "Then run the following block of code. As a result, you'll get a preview of a randomly generated color image."
      ]
    },
    {
      "cell_type": "code",
      "metadata": {
        "id": "m6ogRkcZDQGd"
      },
      "source": [
        "from google.colab.patches import cv2_imshow\n",
        "\n",
        "cv2_imshow(image)"
      ],
      "execution_count": null,
      "outputs": []
    },
    {
      "cell_type": "markdown",
      "metadata": {
        "id": "YapM9aM0DTT5"
      },
      "source": [
        "__Note:__ The color image can be saved as a three-dimensional numpy array with the shape: (height, width, channel)."
      ]
    },
    {
      "cell_type": "markdown",
      "metadata": {
        "id": "XQLYT2m11wVG"
      },
      "source": [
        "### <a name='3'></a> Exercise 43\n",
        "The _image_ array from the previous task is of the shape _(200, 300, 3)_. Follow the instructions:\n",
        "* Extend the _image_ array by one dimension (add a new dimension at the beginning). Expected shape of the output array: _(1, 200, 300, 3)_.\n",
        "\n",
        "__Tip:__ Use the _np.expand_dims()_ function."
      ]
    },
    {
      "cell_type": "code",
      "metadata": {
        "id": "XVmG9QB2Di6p"
      },
      "source": [
        "# enter solution here"
      ],
      "execution_count": null,
      "outputs": []
    },
    {
      "cell_type": "markdown",
      "metadata": {
        "id": "S4687zU7Dmke"
      },
      "source": [
        "* Extend the _image_ array by one dimension (add a new dimension at the end). Expected shape of the output array: _(200, 300, 3, 1)_.\n",
        "\n",
        "__Tip:__ Use the _np.expand_dims()_ function."
      ]
    },
    {
      "cell_type": "code",
      "metadata": {
        "id": "blWwzbBJDtsU"
      },
      "source": [
        "# enter solution here"
      ],
      "execution_count": null,
      "outputs": []
    },
    {
      "cell_type": "markdown",
      "metadata": {
        "id": "4xTKSUzg10MK"
      },
      "source": [
        "### <a name='4'></a> Exercise 44\n",
        "Two randomly generated arrays _image1_ and _image2_ are given.\n",
        "\n",
        "```\n",
        "image1 = np.random.randint(low=0, high=256, size=(200, 300, 3), dtype=np.uint8)\n",
        "image2 = np.random.randint(low=0, high=256, size=(200, 300, 3), dtype=np.uint8)\n",
        "```\n",
        "\n",
        "Expand each of these arrays by adding one dimension at the beginning and then combine the arrays into one called _images_. Expected shape of array: _(2, 200, 300, 3)_.\n",
        "\n"
      ]
    },
    {
      "cell_type": "code",
      "metadata": {
        "id": "uIqQ6lnYEDCi"
      },
      "source": [
        "image1 = np.random.randint(low=0, high=256, size=(200, 300, 3), dtype=np.uint8)\n",
        "image2 = np.random.randint(low=0, high=256, size=(200, 300, 3), dtype=np.uint8)\n",
        "\n",
        "# enter solution here"
      ],
      "execution_count": null,
      "outputs": []
    },
    {
      "cell_type": "markdown",
      "metadata": {
        "id": "o3HKIKlP15Ro"
      },
      "source": [
        "### <a name='5'></a> Exercise 45\n",
        "From the _images_ array from the previous exercise, extract the first ten rows and the first ten columns from the third channel (index 2) for the first picture."
      ]
    },
    {
      "cell_type": "code",
      "metadata": {
        "id": "JjrUohnjEeYo"
      },
      "source": [
        "# enter solution here"
      ],
      "execution_count": null,
      "outputs": []
    },
    {
      "cell_type": "markdown",
      "metadata": {
        "id": "PunXd_Ey16so"
      },
      "source": [
        "### <a name='6'></a> Exercise 46\n",
        "From the _images_ array extract the first hundred rows and the first hundred columns for the second image from the first channel (index 0) and display using the function _cv2_imshow_."
      ]
    },
    {
      "cell_type": "code",
      "metadata": {
        "id": "9-lWLnVKE6qD"
      },
      "source": [
        "# enter solution here"
      ],
      "execution_count": null,
      "outputs": []
    },
    {
      "cell_type": "markdown",
      "metadata": {
        "id": "hOhqDRz618Tx"
      },
      "source": [
        "### <a name='7'></a> Exercise 47\n",
        "Below is a preview of the first image from the array _images_ from Exercise 44.\n",
        "\n"
      ]
    },
    {
      "cell_type": "code",
      "metadata": {
        "id": "5iHFlkuqFAy1"
      },
      "source": [
        "cv2_imshow(images[0])"
      ],
      "execution_count": null,
      "outputs": []
    },
    {
      "cell_type": "markdown",
      "metadata": {
        "id": "g7O28r-iFDVO"
      },
      "source": [
        "For the first image from the array _images_, assign for pixels with the index $ [50: 150, 100: 200] $ the value 0 and then display the image."
      ]
    },
    {
      "cell_type": "code",
      "metadata": {
        "id": "LsIDntJxFHT8"
      },
      "source": [
        "# enter solution here"
      ],
      "execution_count": null,
      "outputs": []
    },
    {
      "cell_type": "markdown",
      "metadata": {
        "id": "SfLRjuTLFJ4j"
      },
      "source": [
        "For the second image from the array _images_, assign for the pixel with the index $ [100: 150, 10:150] $ the value 255 and then display the image."
      ]
    },
    {
      "cell_type": "code",
      "metadata": {
        "id": "Dbqj_5T4FNnb"
      },
      "source": [
        "# enter solution here"
      ],
      "execution_count": null,
      "outputs": []
    },
    {
      "cell_type": "markdown",
      "metadata": {
        "id": "TXUd_4631-gw"
      },
      "source": [
        "### <a name='8'></a> Exercise 48\n",
        "The following array $ A $ with the shape _(1, 2, 3)_ is given.\n",
        "\n",
        "```\n",
        "A = np.array([[[1, 2, 3],\n",
        "               [6, 3, 2]]])\n",
        "```\n",
        "\n",
        "Remove the unnecessary first dimension and get an array of _(2, 3)_.\n",
        "\n",
        "__Tip:__ Use the _np.squeeze()_ function.\n"
      ]
    },
    {
      "cell_type": "code",
      "metadata": {
        "id": "C5OMRN-DFdPw"
      },
      "source": [
        "# enter solution here"
      ],
      "execution_count": null,
      "outputs": []
    },
    {
      "cell_type": "markdown",
      "metadata": {
        "id": "tgI6xEn-2AQo"
      },
      "source": [
        "### <a name='9'></a> Exercise 49\n",
        "The following array $ A $ with the shape _(4, 1)_ is given.\n",
        "```\n",
        "A = np.array([[0.4],\n",
        "              [0.9],\n",
        "              [0.5],\n",
        "              [0.6]])\n",
        "```\n",
        "Remove the unnecessary dimension and get an array with the shape _(4,)_.\n",
        "\n",
        "__Tip:__ Use the _np.squeeze()_ function."
      ]
    },
    {
      "cell_type": "code",
      "metadata": {
        "id": "6I9wHN8DFsjx"
      },
      "source": [
        "# enter solution here"
      ],
      "execution_count": null,
      "outputs": []
    },
    {
      "cell_type": "markdown",
      "metadata": {
        "id": "wxhpf-uq2B1I"
      },
      "source": [
        "### <a name='10'></a> Exercise 50\n",
        "The first image was extract from the _images_ array as follows:"
      ]
    },
    {
      "cell_type": "code",
      "metadata": {
        "id": "YFc0KW6URsuc"
      },
      "source": [
        "image1 = images[:1]\n",
        "image1.shape"
      ],
      "execution_count": null,
      "outputs": []
    },
    {
      "cell_type": "markdown",
      "metadata": {
        "id": "VHC9z2f3F0YM"
      },
      "source": [
        "Using the knowledge from previous exercises, remove the unnecessary first dimension of the _image1_ array."
      ]
    },
    {
      "cell_type": "code",
      "metadata": {
        "id": "a-0GHL6yFym3"
      },
      "source": [
        "# enter solution here"
      ],
      "execution_count": null,
      "outputs": []
    }
  ]
}