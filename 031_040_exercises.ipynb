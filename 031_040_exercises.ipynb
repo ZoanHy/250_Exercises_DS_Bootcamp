{
  "nbformat": 4,
  "nbformat_minor": 0,
  "metadata": {
    "colab": {
      "provenance": [],
      "include_colab_link": true
    },
    "kernelspec": {
      "name": "python3",
      "display_name": "Python 3"
    }
  },
  "cells": [
    {
      "cell_type": "markdown",
      "metadata": {
        "id": "view-in-github",
        "colab_type": "text"
      },
      "source": [
        "<a href=\"https://colab.research.google.com/github/ZoanHy/250plus---Exercises-DS-Bootcamp-in-Python/blob/main/031_040_exercises.ipynb\" target=\"_parent\"><img src=\"https://colab.research.google.com/assets/colab-badge.svg\" alt=\"Open In Colab\"/></a>"
      ]
    },
    {
      "cell_type": "markdown",
      "metadata": {
        "id": "WLEgCW5F1hho"
      },
      "source": [
        "## Numpy\n",
        "\n",
        "### Table of contents:\n",
        "* [Import biblioteki](#0)\n",
        "* [Exercise 31](#1)\n",
        "* [Exercise 32](#2)\n",
        "* [Exercise 33](#3)\n",
        "* [Exercise 34](#4)\n",
        "* [Exercise 35](#5)\n",
        "* [Exercise 36](#6)\n",
        "* [Exercise 37](#7)\n",
        "* [Exercise 38](#8)\n",
        "* [Exercise 39](#9)\n",
        "* [Exercise 40](#10)"
      ]
    },
    {
      "cell_type": "markdown",
      "metadata": {
        "id": "zeLOLmTj1kBM"
      },
      "source": [
        "### <a name='0'></a> Import of libraries"
      ]
    },
    {
      "cell_type": "code",
      "metadata": {
        "id": "HXMB7SMe1Wnz"
      },
      "source": [
        "import numpy as np\n",
        "\n",
        "np.__version__"
      ],
      "execution_count": null,
      "outputs": []
    },
    {
      "cell_type": "markdown",
      "metadata": {
        "id": "cyc70pMe1oCg"
      },
      "source": [
        "### <a name='1'></a> Exercise 31\n",
        "Sort the array $ A $ below:\n",
        "* by row (ascending)\n",
        "* by column (ascending)\n",
        "\n",
        "```\n",
        "A = np.array([[4.99, 3.49, 9.99],\n",
        "              [1.99, 9.99, 4.99],\n",
        "              [14.99, 2.39, 7.29]])\n",
        "```\n",
        "__Tip:__ Use the _np.sort()_ function.\n"
      ]
    },
    {
      "cell_type": "code",
      "metadata": {
        "id": "BlBeR99G9fLQ"
      },
      "source": [
        "# enter solution here"
      ],
      "execution_count": null,
      "outputs": []
    },
    {
      "cell_type": "markdown",
      "metadata": {
        "id": "J9pY1rtr1sC0"
      },
      "source": [
        "### <a name='2'></a> Exercise 32\n",
        "Extract all elements of the $ A $ array with a value greater than 8.\n",
        "```\n",
        "A = np.array([[4.99, 3.49, 9.99],\n",
        "              [1.99, 9.99, 4.99],\n",
        "              [14.99, 2.39, 7.29]])\n",
        "```"
      ]
    },
    {
      "cell_type": "code",
      "metadata": {
        "id": "o7A_fDLp9upk"
      },
      "source": [
        "# enter solution here"
      ],
      "execution_count": null,
      "outputs": []
    },
    {
      "cell_type": "markdown",
      "metadata": {
        "id": "XQLYT2m11wVG"
      },
      "source": [
        "### <a name='3'></a> Exercise 33\n",
        "The following array $ A $ is given. Replace elements above 10 with a fixed value of 10 (truncation to 10).\n",
        "\n",
        "```\n",
        "A = np.array([[4.99, 3.49, 9.99],\n",
        "              [1.99, 9.99, 14.99],\n",
        "              [14.99, 2.39, 7.29]])\n",
        "```\n",
        "__Tip:__ Use the _np.where()_ function.\n"
      ]
    },
    {
      "cell_type": "code",
      "metadata": {
        "id": "5bLNoh7x9_jY"
      },
      "source": [
        "# enter solution here"
      ],
      "execution_count": null,
      "outputs": []
    },
    {
      "cell_type": "markdown",
      "metadata": {
        "id": "4xTKSUzg10MK"
      },
      "source": [
        "### <a name='4'></a> Exercise 34\n",
        "Present the following $ A $ two-dimensional array as a \"flattened\" one-dimensional array.\n",
        "```\n",
        "A = np.array([[4.99, 3.49, 9.99],\n",
        "              [1.99, 9.99, 14.99],\n",
        "              [14.99, 2.39, 7.29]])\n",
        "```\n",
        "__Expected result:__\n",
        "```\n",
        "array([ 4.99,  3.49,  9.99,  1.99,  9.99, 14.99, 14.99,  2.39,  7.29])\n",
        "```\n",
        "\n",
        "__Tip:__ Use the _np.ravel()_ function."
      ]
    },
    {
      "cell_type": "code",
      "metadata": {
        "id": "yfFjwZYN-PVR"
      },
      "source": [
        "# enter solution here"
      ],
      "execution_count": null,
      "outputs": []
    },
    {
      "cell_type": "markdown",
      "metadata": {
        "id": "o3HKIKlP15Ro"
      },
      "source": [
        "### <a name='5'></a> Exercise 35\n",
        "Build an array of the same shape and data type as the $ A $ array and fill it with a constant value of 0.0.\n",
        "\n",
        "```\n",
        "A = np.array([[4.99, 3.49, 9.99],\n",
        "              [1.99, 9.99, 14.99],\n",
        "              [14.99, 2.39, 7.29]])\n",
        "```\n",
        "__Expected result:__\n",
        "```\n",
        "array([[0., 0., 0.],\n",
        "       [0., 0., 0.],\n",
        "       [0., 0., 0.]])\n",
        "```\n",
        "\n",
        "__Tip:__ Use the _np.zeros_like()_ function."
      ]
    },
    {
      "cell_type": "code",
      "metadata": {
        "id": "KG5ju1P9-hR5"
      },
      "source": [
        "# enter solution here"
      ],
      "execution_count": null,
      "outputs": []
    },
    {
      "cell_type": "markdown",
      "metadata": {
        "id": "PunXd_Ey16so"
      },
      "source": [
        "### <a name='6'></a> Exercise 36\n",
        "\n",
        "Build an array of the same shape and data type as the $ A $ array and fill it with a constant value of 9.99.\n",
        "\n",
        "```\n",
        "A = np.array([[4.99, 3.49, 9.99],\n",
        "              [1.99, 9.99, 14.99],\n",
        "              [14.99, 2.39, 7.29]])\n",
        "```\n",
        "__Expected result:__\n",
        "\n",
        "```\n",
        "array([[9.99, 9.99, 9.99],\n",
        "       [9.99, 9.99, 9.99],\n",
        "       [9.99, 9.99, 9.99]])\n",
        "```\n",
        "\n",
        "__Tip:__ Use the function _np.full_like()_.\n",
        "\n",
        "\n"
      ]
    },
    {
      "cell_type": "code",
      "metadata": {
        "id": "YgEPaJFG-vi_"
      },
      "source": [
        "# enter solution here"
      ],
      "execution_count": null,
      "outputs": []
    },
    {
      "cell_type": "markdown",
      "metadata": {
        "id": "hOhqDRz618Tx"
      },
      "source": [
        "### <a name='7'></a> Exercise 37\n",
        "Build a two-dimensional array (lower triangular matrix) below:\n",
        "```\n",
        "array([[1., 0., 0., 0., 0.],\n",
        "       [1., 1., 0., 0., 0.],\n",
        "       [1., 1., 1., 0., 0.],\n",
        "       [1., 1., 1., 1., 0.],\n",
        "       [1., 1., 1., 1., 1.]])\n",
        "```\n",
        "__Tip:__ Use the _np.tri()_ function."
      ]
    },
    {
      "cell_type": "code",
      "metadata": {
        "id": "7R2WH-8v_HYB"
      },
      "source": [
        "# enter solution here"
      ],
      "execution_count": null,
      "outputs": []
    },
    {
      "cell_type": "markdown",
      "metadata": {
        "id": "TXUd_4631-gw"
      },
      "source": [
        "### <a name='8'></a> Exercise 38\n",
        "Create any $ (2, 3, 4) $ 3-dimensional array."
      ]
    },
    {
      "cell_type": "code",
      "metadata": {
        "id": "vknDxN68_M4R"
      },
      "source": [
        "# enter solution here"
      ],
      "execution_count": null,
      "outputs": []
    },
    {
      "cell_type": "markdown",
      "metadata": {
        "id": "tgI6xEn-2AQo"
      },
      "source": [
        "### <a name='9'></a> Exercise 39\n",
        "Generate a two-dimensional array _(200, 300)_ filled with random values from 0 to 255 (inclusive) with data type _np.uint8_ and assign to the variable _image_."
      ]
    },
    {
      "cell_type": "code",
      "metadata": {
        "id": "sFCVO9MS_bqD"
      },
      "source": [
        "# enter solution here"
      ],
      "execution_count": null,
      "outputs": []
    },
    {
      "cell_type": "markdown",
      "metadata": {
        "id": "_dyGKEXE_fld"
      },
      "source": [
        "Then run the following block of code. As a result, you'll get a preview of the randomly generated black and white image."
      ]
    },
    {
      "cell_type": "code",
      "metadata": {
        "id": "k8J-GA8o_j-Z"
      },
      "source": [
        "from google.colab.patches import cv2_imshow\n",
        "\n",
        "cv2_imshow(image)"
      ],
      "execution_count": null,
      "outputs": []
    },
    {
      "cell_type": "markdown",
      "metadata": {
        "id": "wxhpf-uq2B1I"
      },
      "source": [
        "### <a name='10'></a> Exercise 40\n",
        "Sort the array _image_ from the previous exercise along the row in ascending order. Then display the image with the _cv2_imshow()_ function."
      ]
    },
    {
      "cell_type": "code",
      "metadata": {
        "id": "YFc0KW6URsuc"
      },
      "source": [
        "# enter solution here"
      ],
      "execution_count": null,
      "outputs": []
    },
    {
      "cell_type": "markdown",
      "metadata": {
        "id": "dy2PG-Te_wNN"
      },
      "source": [
        "Sort the array _image_ from the previous exercise along the column in ascending order. Then display the image with the _cv2_imshow()_ function."
      ]
    },
    {
      "cell_type": "code",
      "metadata": {
        "id": "5Trwtiib_uJI"
      },
      "source": [
        "# enter solution here"
      ],
      "execution_count": null,
      "outputs": []
    }
  ]
}